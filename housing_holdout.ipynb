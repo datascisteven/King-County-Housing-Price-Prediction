{
 "metadata": {
  "language_info": {
   "codemirror_mode": {
    "name": "ipython",
    "version": 3
   },
   "file_extension": ".py",
   "mimetype": "text/x-python",
   "name": "python",
   "nbconvert_exporter": "python",
   "pygments_lexer": "ipython3",
   "version": 3
  },
  "orig_nbformat": 2
 },
 "nbformat": 4,
 "nbformat_minor": 2,
 "cells": [
  {
   "source": [
    "# Prediction with Holdout Set"
   ],
   "cell_type": "markdown",
   "metadata": {}
  },
  {
   "cell_type": "code",
   "execution_count": null,
   "metadata": {},
   "outputs": [],
   "source": [
    "import pandas as pd\n",
    "import numpy as np\n",
    "from datetime import datetime\n",
    "import warnings\n",
    "warnings.filterwarnings('ignore')\n",
    "import json\n",
    "from sklearn.preprocessing import OneHotEncoder"
   ]
  },
  {
   "cell_type": "code",
   "execution_count": null,
   "metadata": {},
   "outputs": [],
   "source": [
    "# read csv file\n",
    "df = pd.read_csv('data/kc_house_data_test_features.csv', index_col=0)"
   ]
  },
  {
   "cell_type": "code",
   "execution_count": null,
   "metadata": {},
   "outputs": [],
   "source": [
    "# data preprocessing\n",
    "df['sale_date'] = [x[:8] for x in df.date]\n",
    "df.sale_date = df.sale_date.apply(lambda x: datetime.strptime(x, '%Y%m%d'))\n",
    "df.drop(columns='date', inplace=True)\n",
    "df.drop(['id'], inplace=True, axis=1)\n",
    "df.replace({'bedrooms': {33: 3}}, inplace=True)\n",
    "df.replace({'bedrooms': {11: 1}}, inplace=True)\n",
    "df.replace({'bathrooms': {0: 0.25}}, inplace=True)\n",
    "df['sale_age'] = df.sale_date.dt.year - df[['yr_built', 'yr_renovated']].max(axis=1)\n",
    "df.replace({'sale_age': {-1: 0}}, inplace=True)\n",
    "df['age'] = df.sale_date.dt.year - df.yr_built\n",
    "df.replace({'age': {-1: 0}}, inplace=True)\n",
    "df['renovated'] = df.yr_renovated.apply(lambda x: x if x==0 else 1)\n",
    "df['basement'] = df.sqft_basement.apply(lambda x: x if x==0 else 1)\n",
    "df['viewed'] = df.view.apply(lambda x: x if x==0 else 1)\n",
    "df.drop(['yr_built', 'yr_renovated', 'sale_date', 'sqft_basement', 'view'], inplace=True, axis=1)"
   ]
  },
  {
   "cell_type": "code",
   "execution_count": null,
   "metadata": {},
   "outputs": [],
   "source": [
    "# dummy variables\n",
    "index_dum = df[['bedrooms', 'bathrooms', 'floors', 'condition', 'grade', 'zipcode']].columns\n",
    "df_dum = pd.get_dummies(data=df, columns=index_dum, drop_first=True, prefix=['bdr', 'bth', 'flr', 'cnd', 'grd', 'zip'])\n",
    "# polynomial and interaction features\n",
    "poly = PolynomialFeatures(degree=2, include_bias=False)\n",
    "poly_data = poly.fit_transform(df_dum)\n",
    "poly_columns = poly.get_feature_names(df_dum.columns)\n",
    "df_poly = pd.DataFrame(poly_data, columns=poly_columns)"
   ]
  },
  {
   "cell_type": "code",
   "execution_count": null,
   "metadata": {},
   "outputs": [],
   "source": [
    "# subset identified by K-Best\n",
    "features = df_poly[['sqft_living', 'sqft_above', 'sqft_living15', 'sqft_living^2',\n",
    "       'sqft_living sqft_above', 'sqft_living zipcode', 'sqft_living lat',\n",
    "       'sqft_living long', 'sqft_living sqft_living15', 'sqft_living viewed',\n",
    "       'sqft_above^2', 'sqft_above zipcode', 'sqft_above lat',\n",
    "       'sqft_above long', 'sqft_above sqft_living15', 'sqft_above viewed',\n",
    "       'zipcode sqft_living15', 'lat sqft_living15', 'long sqft_living15',\n",
    "       'sqft_living15^2']]"
   ]
  },
  {
   "cell_type": "code",
   "execution_count": null,
   "metadata": {},
   "outputs": [],
   "source": [
    "# Scaling\n",
    "scaler = StandardScaler()\n",
    "features = pd.DataFrame(data=scaler.fit_transform(features), columns=features.columns)"
   ]
  },
  {
   "cell_type": "code",
   "execution_count": null,
   "metadata": {},
   "outputs": [],
   "source": [
    "# Load pickle\n",
    "with open('data/model.pickle', 'rb') as file:\n",
    "    final_answer = pickle.load(file)\n",
    "final_answers = final_answer.predict(features)"
   ]
  },
  {
   "cell_type": "code",
   "execution_count": null,
   "metadata": {},
   "outputs": [],
   "source": [
    "# Write prediction to CSV file\n",
    "pd.DataFrame(final_answers, columns=['predictions']).to_csv('housing_preds_Steven_Yan.csv')\n"
   ]
  }
 ]
}