{
 "cells": [
  {
   "cell_type": "markdown",
   "metadata": {},
   "source": [
    "# Background\n",
    "\n",
    "The following notebook presents the steps involved in and the thought process we used in predicting house prices based on multiple features using regression analysis. We were presented with a dataset preprocessed for instructional purposes and derived from the dataset provided in the former Kaggle competition to predict housing sale price using regression.\n",
    "\n",
    "King County is home to the largest and fifth largest city in Washington State, namely Seattle and Bellevue, which in conjunction with the third largest city Tacoma forms the Seattle metropolitan area.\n",
    "\n",
    "If you would like to explore the original dataset on Kaggle, please follow the link below:\n",
    "https://www.kaggle.com/harlfoxem/housesalesprediction/discussion/92376\n",
    "\n",
    "We have provided the names and descriptions of the columns in the provided King County dataset:\n",
    "* **id** - unique ID for a house\n",
    "* **date** - Date day house was sold\n",
    "* **price** - Price is prediction target\n",
    "* **bedrooms** - Number of bedrooms\n",
    "* **bathrooms** - Number of bathrooms\n",
    "* **sqft_living** - square footage of the home\n",
    "* **sqft_lot** - square footage of the lot\n",
    "* **floors** - Total floors (levels) in house\n",
    "* **waterfront** - Whether house has a view to a waterfront\n",
    "* **view** - Number of times house has been viewed\n",
    "* **condition** - How good the condition is (overall)\n",
    "* **grade** - overall grade given to the housing unit, based on King County grading system\n",
    "* **sqft_above** - square footage of house (apart from basement)\n",
    "* **sqft_basement** - square footage of the basement\n",
    "* **yr_built** - Year when house was built\n",
    "* **yr_renovated** - Year when house was renovated\n",
    "* **zipcode** - zip code in which house is located\n",
    "* **lat** - Latitude coordinate\n",
    "* **long** - Longitude coordinate\n",
    "* **sqft_living15** - The square footage of interior housing living space for the nearest 15 neighbors\n",
    "* **sqft_lot15** - The square footage of the land lots of the nearest 15 neighbors\n"
   ]
  },
  {
   "cell_type": "markdown",
   "metadata": {
    "id": "TKQF92x-v9o-"
   },
   "source": [
    "# **Business Questions**\n",
    "\n",
    "Our client representing a cohort of foreign investors has expressed interest in becoming involved in the Seattle area housing market.  By gaining better insight into the prediction models for housing prices, they hope to become major players in the market.  They have partnered with us to apply machine learning in enhancing the prediction of housing prices in King County.\n",
    "\n",
    "We set out to answer a few questions for our client:\n",
    "\n",
    "1. Do renovated properties have a higher selling price than unrenovated properties?\n",
    "2. Does the number of times a property is viewed have any effect on selling price?\n",
    "3. Does the grade given to the housing unit have an overall effect on the selling price?\n",
    "\n",
    "Through the use of statistical tests during our EDA process, we will be able to provide the essential information needed for our clients in their new business venture."
   ]
  },
  {
   "cell_type": "markdown",
   "metadata": {
    "id": "r1M7Rvplp5pI"
   },
   "source": [
    "# **Exploratory Data Analysis**\n",
    "\n",
    "The following notebook presents the steps in predicting house pries based on multiple features using regression analysis. We used a dataset of house sales in King County, which includes the city of Seattle and the metropolitan area, processed for instructional purposes from the original Kaggle dataset. We will apply the techniques of exploratory data analysis (EDA) to familiarize ourselves with the dataset.\n",
    "\n",
    "By performing an EDA, we are able to explore the relationship(s), or lack thereof, between the features and the target and amongst the feature variables themselve. We are better equipped through this process to identify features for analysis and filter out those without any correlation with our target variable. This process is also integral to identifying outliers, missing values, or anomalous values due to human error due to data visualization."
   ]
  },
  {
   "cell_type": "code",
   "execution_count": 1,
   "metadata": {
    "colab": {
     "base_uri": "https://localhost:8080/"
    },
    "id": "5q8TWWPi0LuR",
    "outputId": "9815449f-dfed-45cf-d166-7f6a26d830e9"
   },
   "outputs": [],
   "source": [
    "# import packages for data cleaning and processing  \n",
    "import pandas as pd\n",
    "import numpy as np\n",
    "from datetime import datetime\n",
    "import itertools\n",
    "import geohash2\n",
    "import warnings\n",
    "\n",
    "# import visualization modules\n",
    "import seaborn as sns\n",
    "import matplotlib.pyplot as plt\n",
    "from bokeh.plotting import figure, show, ColumnDataSource\n",
    "from bokeh.io import output_notebook\n",
    "from bokeh.palettes import Turbo256, Category10_10\n",
    "from bokeh.transform import linear_cmap\n",
    "from bokeh.models import HoverTool\n",
    "warnings.filterwarnings('ignore')\n",
    "%matplotlib inline\n",
    "plt.style.use(\"fivethirtyeight\")\n",
    "import branca.colormap as cm\n",
    "import json\n",
    "\n",
    "# import packages for geolocation\n",
    "import folium\n",
    "from folium import plugins\n",
    "import descartes\n",
    "import geopandas as gpd\n",
    "from shapely.geometry import Point, Polygon\n",
    "from folium.plugins import MarkerCluster\n",
    "from folium.plugins import HeatMap\n",
    "from bokeh.palettes import RdYlBu11\n",
    "from bokeh.models import LogColorMapper\n",
    "from bokeh.io import show\n",
    "from bokeh.models import (CDSView, ColorBar, ColumnDataSource, CustomJS, CustomJSFilter, GeoJSONDataSource, HoverTool, LinearColorMapper, Slider)\n",
    "from bokeh.layouts import column, row, widgetbox\n",
    "from bokeh.palettes import brewer\n",
    "from bokeh.plotting import figure\n",
    "\n",
    "# import packages and modules for statistical analysis\n",
    "from scipy import stats\n",
    "import scipy.stats as scs\n",
    "import statsmodels.api as sm\n",
    "import statsmodels.formula.api as smf\n",
    "from sklearn import linear_model\n",
    "from sklearn import metrics\n",
    "from sklearn.preprocessing import OneHotEncoder\n",
    "\n",
    "# import modules for preprocessing\n",
    "from statsmodels.formula.api import ols\n",
    "from sklearn.linear_model import LinearRegression, Lasso, Ridge\n",
    "from sklearn.model_selection import train_test_split, cross_val_score\n",
    "from sklearn.feature_selection import RFE, SelectKBest, f_regression, RFECV, mutual_info_regression\n",
    "from sklearn.preprocessing import PolynomialFeatures, StandardScaler, LabelBinarizer, LabelEncoder, minmax_scale, MinMaxScaler\n",
    "from sklearn.metrics import r2_score, mean_absolute_error, mean_squared_error\n",
    "from sklearn.tree import DecisionTreeRegressor\n",
    "\n",
    "# import module for object serialization\n",
    "import pickle\n",
    "\n",
    "# set display options for Pandas dataframes to allow view of a maximal number of columns and rows\n",
    "pd.set_option('display.max_rows', 200)\n",
    "pd.set_option('display.max_columns', 200)\n"
   ]
  },
  {
   "cell_type": "code",
   "execution_count": 2,
   "metadata": {
    "id": "YIxRo8GzWb3e"
   },
   "outputs": [],
   "source": [
    "# Read CSV file into notebook\n",
    "df = pd.read_csv('data/kc_house_data_train.csv', index_col=0)"
   ]
  },
  {
   "cell_type": "code",
   "execution_count": 3,
   "metadata": {
    "colab": {
     "base_uri": "https://localhost:8080/"
    },
    "id": "hO1eum4xHmnO",
    "outputId": "95b00b36-b49a-4f30-a01d-113a3c3cee7f"
   },
   "outputs": [
    {
     "output_type": "execute_result",
     "data": {
      "text/plain": [
       "(17290, 21)"
      ]
     },
     "metadata": {},
     "execution_count": 3
    }
   ],
   "source": [
    "# get dimensions of the dataframe\n",
    "df.shape"
   ]
  },
  {
   "cell_type": "code",
   "execution_count": 4,
   "metadata": {
    "colab": {
     "base_uri": "https://localhost:8080/",
     "height": 224
    },
    "id": "Mre5lP88XDg_",
    "outputId": "cd715478-f23c-4f23-ca7d-1248d9cd0803"
   },
   "outputs": [
    {
     "output_type": "execute_result",
     "data": {
      "text/plain": [
       "           id             date      price  bedrooms  bathrooms  sqft_living  \\\n",
       "0  2591820310  20141006T000000   365000.0         4       2.25         2070   \n",
       "1  7974200820  20140821T000000   865000.0         5       3.00         2900   \n",
       "2  7701450110  20140815T000000  1038000.0         4       2.50         3770   \n",
       "3  9522300010  20150331T000000  1490000.0         3       3.50         4560   \n",
       "4  9510861140  20140714T000000   711000.0         3       2.50         2550   \n",
       "\n",
       "   sqft_lot  floors  waterfront  view  condition  grade  sqft_above  \\\n",
       "0      8893     2.0           0     0          4      8        2070   \n",
       "1      6730     1.0           0     0          5      8        1830   \n",
       "2     10893     2.0           0     2          3     11        3770   \n",
       "3     14608     2.0           0     2          3     12        4560   \n",
       "4      5376     2.0           0     0          3      9        2550   \n",
       "\n",
       "   sqft_basement  yr_built  yr_renovated  zipcode      lat     long  \\\n",
       "0              0      1986             0    98058  47.4388 -122.162   \n",
       "1           1070      1977             0    98115  47.6784 -122.285   \n",
       "2              0      1997             0    98006  47.5646 -122.129   \n",
       "3              0      1990             0    98034  47.6995 -122.228   \n",
       "4              0      2004             0    98052  47.6647 -122.083   \n",
       "\n",
       "   sqft_living15  sqft_lot15  \n",
       "0           2390        7700  \n",
       "1           2370        6283  \n",
       "2           3710        9685  \n",
       "3           4050       14226  \n",
       "4           2250        4050  "
      ],
      "text/html": "<div>\n<style scoped>\n    .dataframe tbody tr th:only-of-type {\n        vertical-align: middle;\n    }\n\n    .dataframe tbody tr th {\n        vertical-align: top;\n    }\n\n    .dataframe thead th {\n        text-align: right;\n    }\n</style>\n<table border=\"1\" class=\"dataframe\">\n  <thead>\n    <tr style=\"text-align: right;\">\n      <th></th>\n      <th>id</th>\n      <th>date</th>\n      <th>price</th>\n      <th>bedrooms</th>\n      <th>bathrooms</th>\n      <th>sqft_living</th>\n      <th>sqft_lot</th>\n      <th>floors</th>\n      <th>waterfront</th>\n      <th>view</th>\n      <th>condition</th>\n      <th>grade</th>\n      <th>sqft_above</th>\n      <th>sqft_basement</th>\n      <th>yr_built</th>\n      <th>yr_renovated</th>\n      <th>zipcode</th>\n      <th>lat</th>\n      <th>long</th>\n      <th>sqft_living15</th>\n      <th>sqft_lot15</th>\n    </tr>\n  </thead>\n  <tbody>\n    <tr>\n      <th>0</th>\n      <td>2591820310</td>\n      <td>20141006T000000</td>\n      <td>365000.0</td>\n      <td>4</td>\n      <td>2.25</td>\n      <td>2070</td>\n      <td>8893</td>\n      <td>2.0</td>\n      <td>0</td>\n      <td>0</td>\n      <td>4</td>\n      <td>8</td>\n      <td>2070</td>\n      <td>0</td>\n      <td>1986</td>\n      <td>0</td>\n      <td>98058</td>\n      <td>47.4388</td>\n      <td>-122.162</td>\n      <td>2390</td>\n      <td>7700</td>\n    </tr>\n    <tr>\n      <th>1</th>\n      <td>7974200820</td>\n      <td>20140821T000000</td>\n      <td>865000.0</td>\n      <td>5</td>\n      <td>3.00</td>\n      <td>2900</td>\n      <td>6730</td>\n      <td>1.0</td>\n      <td>0</td>\n      <td>0</td>\n      <td>5</td>\n      <td>8</td>\n      <td>1830</td>\n      <td>1070</td>\n      <td>1977</td>\n      <td>0</td>\n      <td>98115</td>\n      <td>47.6784</td>\n      <td>-122.285</td>\n      <td>2370</td>\n      <td>6283</td>\n    </tr>\n    <tr>\n      <th>2</th>\n      <td>7701450110</td>\n      <td>20140815T000000</td>\n      <td>1038000.0</td>\n      <td>4</td>\n      <td>2.50</td>\n      <td>3770</td>\n      <td>10893</td>\n      <td>2.0</td>\n      <td>0</td>\n      <td>2</td>\n      <td>3</td>\n      <td>11</td>\n      <td>3770</td>\n      <td>0</td>\n      <td>1997</td>\n      <td>0</td>\n      <td>98006</td>\n      <td>47.5646</td>\n      <td>-122.129</td>\n      <td>3710</td>\n      <td>9685</td>\n    </tr>\n    <tr>\n      <th>3</th>\n      <td>9522300010</td>\n      <td>20150331T000000</td>\n      <td>1490000.0</td>\n      <td>3</td>\n      <td>3.50</td>\n      <td>4560</td>\n      <td>14608</td>\n      <td>2.0</td>\n      <td>0</td>\n      <td>2</td>\n      <td>3</td>\n      <td>12</td>\n      <td>4560</td>\n      <td>0</td>\n      <td>1990</td>\n      <td>0</td>\n      <td>98034</td>\n      <td>47.6995</td>\n      <td>-122.228</td>\n      <td>4050</td>\n      <td>14226</td>\n    </tr>\n    <tr>\n      <th>4</th>\n      <td>9510861140</td>\n      <td>20140714T000000</td>\n      <td>711000.0</td>\n      <td>3</td>\n      <td>2.50</td>\n      <td>2550</td>\n      <td>5376</td>\n      <td>2.0</td>\n      <td>0</td>\n      <td>0</td>\n      <td>3</td>\n      <td>9</td>\n      <td>2550</td>\n      <td>0</td>\n      <td>2004</td>\n      <td>0</td>\n      <td>98052</td>\n      <td>47.6647</td>\n      <td>-122.083</td>\n      <td>2250</td>\n      <td>4050</td>\n    </tr>\n  </tbody>\n</table>\n</div>"
     },
     "metadata": {},
     "execution_count": 4
    }
   ],
   "source": [
    "# Display first 5 rows of dataset\n",
    "df.head()"
   ]
  },
  {
   "cell_type": "code",
   "execution_count": 5,
   "metadata": {},
   "outputs": [
    {
     "output_type": "execute_result",
     "data": {
      "text/plain": [
       "               id             date     price  bedrooms  bathrooms  \\\n",
       "17285   627300195  20150303T000000  750000.0         5       2.50   \n",
       "17286  8819900270  20140520T000000  440000.0         2       1.75   \n",
       "17287  3816300095  20140514T000000  310000.0         3       1.00   \n",
       "17288   122069107  20141204T000000  427500.0         3       1.50   \n",
       "17289  6703100135  20150116T000000  348000.0         3       1.50   \n",
       "\n",
       "       sqft_living  sqft_lot  floors  waterfront  view  condition  grade  \\\n",
       "17285         3240      9960     1.0           0     1          3      8   \n",
       "17286         1300      4000     2.0           0     0          3      7   \n",
       "17287         1050      9876     1.0           0     0          3      7   \n",
       "17288         1900     43186     1.5           0     0          4      7   \n",
       "17289         1330      6768     1.0           0     0          4      7   \n",
       "\n",
       "       sqft_above  sqft_basement  yr_built  yr_renovated  zipcode      lat  \\\n",
       "17285        2020           1220      1958             0    98008  47.5858   \n",
       "17286        1300              0      1948             0    98105  47.6687   \n",
       "17287        1050              0      1953             0    98028  47.7635   \n",
       "17288        1300            600      1971             0    98038  47.4199   \n",
       "17289        1330              0      1952             0    98155  47.7366   \n",
       "\n",
       "          long  sqft_living15  sqft_lot15  \n",
       "17285 -122.112           2730       10400  \n",
       "17286 -122.288           1350        4013  \n",
       "17287 -122.262           1760        9403  \n",
       "17288 -121.990           2080      108028  \n",
       "17289 -122.319           1320        6910  "
      ],
      "text/html": "<div>\n<style scoped>\n    .dataframe tbody tr th:only-of-type {\n        vertical-align: middle;\n    }\n\n    .dataframe tbody tr th {\n        vertical-align: top;\n    }\n\n    .dataframe thead th {\n        text-align: right;\n    }\n</style>\n<table border=\"1\" class=\"dataframe\">\n  <thead>\n    <tr style=\"text-align: right;\">\n      <th></th>\n      <th>id</th>\n      <th>date</th>\n      <th>price</th>\n      <th>bedrooms</th>\n      <th>bathrooms</th>\n      <th>sqft_living</th>\n      <th>sqft_lot</th>\n      <th>floors</th>\n      <th>waterfront</th>\n      <th>view</th>\n      <th>condition</th>\n      <th>grade</th>\n      <th>sqft_above</th>\n      <th>sqft_basement</th>\n      <th>yr_built</th>\n      <th>yr_renovated</th>\n      <th>zipcode</th>\n      <th>lat</th>\n      <th>long</th>\n      <th>sqft_living15</th>\n      <th>sqft_lot15</th>\n    </tr>\n  </thead>\n  <tbody>\n    <tr>\n      <th>17285</th>\n      <td>627300195</td>\n      <td>20150303T000000</td>\n      <td>750000.0</td>\n      <td>5</td>\n      <td>2.50</td>\n      <td>3240</td>\n      <td>9960</td>\n      <td>1.0</td>\n      <td>0</td>\n      <td>1</td>\n      <td>3</td>\n      <td>8</td>\n      <td>2020</td>\n      <td>1220</td>\n      <td>1958</td>\n      <td>0</td>\n      <td>98008</td>\n      <td>47.5858</td>\n      <td>-122.112</td>\n      <td>2730</td>\n      <td>10400</td>\n    </tr>\n    <tr>\n      <th>17286</th>\n      <td>8819900270</td>\n      <td>20140520T000000</td>\n      <td>440000.0</td>\n      <td>2</td>\n      <td>1.75</td>\n      <td>1300</td>\n      <td>4000</td>\n      <td>2.0</td>\n      <td>0</td>\n      <td>0</td>\n      <td>3</td>\n      <td>7</td>\n      <td>1300</td>\n      <td>0</td>\n      <td>1948</td>\n      <td>0</td>\n      <td>98105</td>\n      <td>47.6687</td>\n      <td>-122.288</td>\n      <td>1350</td>\n      <td>4013</td>\n    </tr>\n    <tr>\n      <th>17287</th>\n      <td>3816300095</td>\n      <td>20140514T000000</td>\n      <td>310000.0</td>\n      <td>3</td>\n      <td>1.00</td>\n      <td>1050</td>\n      <td>9876</td>\n      <td>1.0</td>\n      <td>0</td>\n      <td>0</td>\n      <td>3</td>\n      <td>7</td>\n      <td>1050</td>\n      <td>0</td>\n      <td>1953</td>\n      <td>0</td>\n      <td>98028</td>\n      <td>47.7635</td>\n      <td>-122.262</td>\n      <td>1760</td>\n      <td>9403</td>\n    </tr>\n    <tr>\n      <th>17288</th>\n      <td>122069107</td>\n      <td>20141204T000000</td>\n      <td>427500.0</td>\n      <td>3</td>\n      <td>1.50</td>\n      <td>1900</td>\n      <td>43186</td>\n      <td>1.5</td>\n      <td>0</td>\n      <td>0</td>\n      <td>4</td>\n      <td>7</td>\n      <td>1300</td>\n      <td>600</td>\n      <td>1971</td>\n      <td>0</td>\n      <td>98038</td>\n      <td>47.4199</td>\n      <td>-121.990</td>\n      <td>2080</td>\n      <td>108028</td>\n    </tr>\n    <tr>\n      <th>17289</th>\n      <td>6703100135</td>\n      <td>20150116T000000</td>\n      <td>348000.0</td>\n      <td>3</td>\n      <td>1.50</td>\n      <td>1330</td>\n      <td>6768</td>\n      <td>1.0</td>\n      <td>0</td>\n      <td>0</td>\n      <td>4</td>\n      <td>7</td>\n      <td>1330</td>\n      <td>0</td>\n      <td>1952</td>\n      <td>0</td>\n      <td>98155</td>\n      <td>47.7366</td>\n      <td>-122.319</td>\n      <td>1320</td>\n      <td>6910</td>\n    </tr>\n  </tbody>\n</table>\n</div>"
     },
     "metadata": {},
     "execution_count": 5
    }
   ],
   "source": [
    "# Display last 5 rows of dataset\n",
    "df.tail()"
   ]
  },
  {
   "cell_type": "code",
   "execution_count": 6,
   "metadata": {
    "colab": {
     "base_uri": "https://localhost:8080/",
     "height": 317
    },
    "id": "rYTyqfN7XtTe",
    "outputId": "e5b9be02-b46f-4c63-e59d-4d2716370b86"
   },
   "outputs": [
    {
     "output_type": "execute_result",
     "data": {
      "text/plain": [
       "                 id         price      bedrooms     bathrooms   sqft_living  \\\n",
       "count  1.729000e+04  1.729000e+04  17290.000000  17290.000000  17290.000000   \n",
       "mean   4.565502e+09  5.407395e+05      3.372470      2.111943   2081.464604   \n",
       "std    2.874656e+09  3.733190e+05      0.939346      0.770476    920.018539   \n",
       "min    1.000102e+06  7.500000e+04      0.000000      0.000000    290.000000   \n",
       "25%    2.114701e+09  3.210000e+05      3.000000      1.500000   1430.000000   \n",
       "50%    3.903650e+09  4.500000e+05      3.000000      2.250000   1920.000000   \n",
       "75%    7.301150e+09  6.450000e+05      4.000000      2.500000   2550.000000   \n",
       "max    9.900000e+09  7.700000e+06     33.000000      8.000000  13540.000000   \n",
       "\n",
       "           sqft_lot        floors    waterfront          view     condition  \\\n",
       "count  1.729000e+04  17290.000000  17290.000000  17290.000000  17290.000000   \n",
       "mean   1.524340e+04      1.490312      0.007981      0.238519      3.408502   \n",
       "std    4.230462e+04      0.538909      0.088985      0.775229      0.651296   \n",
       "min    5.720000e+02      1.000000      0.000000      0.000000      1.000000   \n",
       "25%    5.081250e+03      1.000000      0.000000      0.000000      3.000000   \n",
       "50%    7.642000e+03      1.500000      0.000000      0.000000      3.000000   \n",
       "75%    1.072575e+04      2.000000      0.000000      0.000000      4.000000   \n",
       "max    1.651359e+06      3.500000      1.000000      4.000000      5.000000   \n",
       "\n",
       "              grade    sqft_above  sqft_basement      yr_built  yr_renovated  \\\n",
       "count  17290.000000  17290.000000   17290.000000  17290.000000  17290.000000   \n",
       "mean       7.654425   1789.306015     292.158589   1970.792019     83.806304   \n",
       "std        1.174718    829.265107     443.151874     29.343516    400.329376   \n",
       "min        1.000000    290.000000       0.000000   1900.000000      0.000000   \n",
       "25%        7.000000   1200.000000       0.000000   1951.000000      0.000000   \n",
       "50%        7.000000   1560.000000       0.000000   1974.000000      0.000000   \n",
       "75%        8.000000   2214.500000     560.000000   1996.000000      0.000000   \n",
       "max       13.000000   9410.000000    4820.000000   2015.000000   2015.000000   \n",
       "\n",
       "            zipcode           lat          long  sqft_living15     sqft_lot15  \n",
       "count  17290.000000  17290.000000  17290.000000   17290.000000   17290.000000  \n",
       "mean   98078.193175     47.560058   -122.214258    1987.986698   12873.475824  \n",
       "std       53.607949      0.138412      0.140857     684.802635   27227.437583  \n",
       "min    98001.000000     47.155900   -122.519000     399.000000     659.000000  \n",
       "25%    98033.000000     47.471200   -122.329000    1490.000000    5111.250000  \n",
       "50%    98065.000000     47.571600   -122.230000    1840.000000    7622.500000  \n",
       "75%    98118.000000     47.677900   -122.126000    2360.000000   10101.750000  \n",
       "max    98199.000000     47.777600   -121.315000    6210.000000  858132.000000  "
      ],
      "text/html": "<div>\n<style scoped>\n    .dataframe tbody tr th:only-of-type {\n        vertical-align: middle;\n    }\n\n    .dataframe tbody tr th {\n        vertical-align: top;\n    }\n\n    .dataframe thead th {\n        text-align: right;\n    }\n</style>\n<table border=\"1\" class=\"dataframe\">\n  <thead>\n    <tr style=\"text-align: right;\">\n      <th></th>\n      <th>id</th>\n      <th>price</th>\n      <th>bedrooms</th>\n      <th>bathrooms</th>\n      <th>sqft_living</th>\n      <th>sqft_lot</th>\n      <th>floors</th>\n      <th>waterfront</th>\n      <th>view</th>\n      <th>condition</th>\n      <th>grade</th>\n      <th>sqft_above</th>\n      <th>sqft_basement</th>\n      <th>yr_built</th>\n      <th>yr_renovated</th>\n      <th>zipcode</th>\n      <th>lat</th>\n      <th>long</th>\n      <th>sqft_living15</th>\n      <th>sqft_lot15</th>\n    </tr>\n  </thead>\n  <tbody>\n    <tr>\n      <th>count</th>\n      <td>1.729000e+04</td>\n      <td>1.729000e+04</td>\n      <td>17290.000000</td>\n      <td>17290.000000</td>\n      <td>17290.000000</td>\n      <td>1.729000e+04</td>\n      <td>17290.000000</td>\n      <td>17290.000000</td>\n      <td>17290.000000</td>\n      <td>17290.000000</td>\n      <td>17290.000000</td>\n      <td>17290.000000</td>\n      <td>17290.000000</td>\n      <td>17290.000000</td>\n      <td>17290.000000</td>\n      <td>17290.000000</td>\n      <td>17290.000000</td>\n      <td>17290.000000</td>\n      <td>17290.000000</td>\n      <td>17290.000000</td>\n    </tr>\n    <tr>\n      <th>mean</th>\n      <td>4.565502e+09</td>\n      <td>5.407395e+05</td>\n      <td>3.372470</td>\n      <td>2.111943</td>\n      <td>2081.464604</td>\n      <td>1.524340e+04</td>\n      <td>1.490312</td>\n      <td>0.007981</td>\n      <td>0.238519</td>\n      <td>3.408502</td>\n      <td>7.654425</td>\n      <td>1789.306015</td>\n      <td>292.158589</td>\n      <td>1970.792019</td>\n      <td>83.806304</td>\n      <td>98078.193175</td>\n      <td>47.560058</td>\n      <td>-122.214258</td>\n      <td>1987.986698</td>\n      <td>12873.475824</td>\n    </tr>\n    <tr>\n      <th>std</th>\n      <td>2.874656e+09</td>\n      <td>3.733190e+05</td>\n      <td>0.939346</td>\n      <td>0.770476</td>\n      <td>920.018539</td>\n      <td>4.230462e+04</td>\n      <td>0.538909</td>\n      <td>0.088985</td>\n      <td>0.775229</td>\n      <td>0.651296</td>\n      <td>1.174718</td>\n      <td>829.265107</td>\n      <td>443.151874</td>\n      <td>29.343516</td>\n      <td>400.329376</td>\n      <td>53.607949</td>\n      <td>0.138412</td>\n      <td>0.140857</td>\n      <td>684.802635</td>\n      <td>27227.437583</td>\n    </tr>\n    <tr>\n      <th>min</th>\n      <td>1.000102e+06</td>\n      <td>7.500000e+04</td>\n      <td>0.000000</td>\n      <td>0.000000</td>\n      <td>290.000000</td>\n      <td>5.720000e+02</td>\n      <td>1.000000</td>\n      <td>0.000000</td>\n      <td>0.000000</td>\n      <td>1.000000</td>\n      <td>1.000000</td>\n      <td>290.000000</td>\n      <td>0.000000</td>\n      <td>1900.000000</td>\n      <td>0.000000</td>\n      <td>98001.000000</td>\n      <td>47.155900</td>\n      <td>-122.519000</td>\n      <td>399.000000</td>\n      <td>659.000000</td>\n    </tr>\n    <tr>\n      <th>25%</th>\n      <td>2.114701e+09</td>\n      <td>3.210000e+05</td>\n      <td>3.000000</td>\n      <td>1.500000</td>\n      <td>1430.000000</td>\n      <td>5.081250e+03</td>\n      <td>1.000000</td>\n      <td>0.000000</td>\n      <td>0.000000</td>\n      <td>3.000000</td>\n      <td>7.000000</td>\n      <td>1200.000000</td>\n      <td>0.000000</td>\n      <td>1951.000000</td>\n      <td>0.000000</td>\n      <td>98033.000000</td>\n      <td>47.471200</td>\n      <td>-122.329000</td>\n      <td>1490.000000</td>\n      <td>5111.250000</td>\n    </tr>\n    <tr>\n      <th>50%</th>\n      <td>3.903650e+09</td>\n      <td>4.500000e+05</td>\n      <td>3.000000</td>\n      <td>2.250000</td>\n      <td>1920.000000</td>\n      <td>7.642000e+03</td>\n      <td>1.500000</td>\n      <td>0.000000</td>\n      <td>0.000000</td>\n      <td>3.000000</td>\n      <td>7.000000</td>\n      <td>1560.000000</td>\n      <td>0.000000</td>\n      <td>1974.000000</td>\n      <td>0.000000</td>\n      <td>98065.000000</td>\n      <td>47.571600</td>\n      <td>-122.230000</td>\n      <td>1840.000000</td>\n      <td>7622.500000</td>\n    </tr>\n    <tr>\n      <th>75%</th>\n      <td>7.301150e+09</td>\n      <td>6.450000e+05</td>\n      <td>4.000000</td>\n      <td>2.500000</td>\n      <td>2550.000000</td>\n      <td>1.072575e+04</td>\n      <td>2.000000</td>\n      <td>0.000000</td>\n      <td>0.000000</td>\n      <td>4.000000</td>\n      <td>8.000000</td>\n      <td>2214.500000</td>\n      <td>560.000000</td>\n      <td>1996.000000</td>\n      <td>0.000000</td>\n      <td>98118.000000</td>\n      <td>47.677900</td>\n      <td>-122.126000</td>\n      <td>2360.000000</td>\n      <td>10101.750000</td>\n    </tr>\n    <tr>\n      <th>max</th>\n      <td>9.900000e+09</td>\n      <td>7.700000e+06</td>\n      <td>33.000000</td>\n      <td>8.000000</td>\n      <td>13540.000000</td>\n      <td>1.651359e+06</td>\n      <td>3.500000</td>\n      <td>1.000000</td>\n      <td>4.000000</td>\n      <td>5.000000</td>\n      <td>13.000000</td>\n      <td>9410.000000</td>\n      <td>4820.000000</td>\n      <td>2015.000000</td>\n      <td>2015.000000</td>\n      <td>98199.000000</td>\n      <td>47.777600</td>\n      <td>-121.315000</td>\n      <td>6210.000000</td>\n      <td>858132.000000</td>\n    </tr>\n  </tbody>\n</table>\n</div>"
     },
     "metadata": {},
     "execution_count": 6
    }
   ],
   "source": [
    "# Get descriptive analytics of dataset\n",
    "df.describe()"
   ]
  },
  {
   "cell_type": "markdown",
   "metadata": {
    "id": "VLL74ohZ3OqO"
   },
   "source": [
    "**Initial Observations:**\n",
    "\n",
    "- *waterfront* is a binary discrete variable (0 = not waterfront, 1 = waterfront)\n",
    "- *sqft_above* + *sqft_basement* = *sqft_living*\n",
    "- *sqft_basement*, *view*, and *yr_renovated* have many zero values, potentially express them as binary variables\n",
    "- the oldest home was built in 1970 and the newest in 2015\n",
    "\n",
    "We can assign our categorical and continuous variables:\n",
    "\n",
    "- **categorical variables:**  *floors, view, grade, zipcode, bathrooms, bedrooms, condition*\n",
    "- **continuous variables:** *price, sqft_living, sqft_lot, sqft_above, sqft_basement, yr_built, yr_renovated, lat, long, sqft_living15, sqft_lot15*\n"
   ]
  },
  {
   "cell_type": "code",
   "execution_count": 7,
   "metadata": {
    "colab": {
     "base_uri": "https://localhost:8080/"
    },
    "id": "8dDmMhQRjoDR",
    "outputId": "ce47f5ee-7830-410f-e725-6cae2732f6f6"
   },
   "outputs": [
    {
     "output_type": "execute_result",
     "data": {
      "text/plain": [
       "id                 int64\n",
       "date              object\n",
       "price            float64\n",
       "bedrooms           int64\n",
       "bathrooms        float64\n",
       "sqft_living        int64\n",
       "sqft_lot           int64\n",
       "floors           float64\n",
       "waterfront         int64\n",
       "view               int64\n",
       "condition          int64\n",
       "grade              int64\n",
       "sqft_above         int64\n",
       "sqft_basement      int64\n",
       "yr_built           int64\n",
       "yr_renovated       int64\n",
       "zipcode            int64\n",
       "lat              float64\n",
       "long             float64\n",
       "sqft_living15      int64\n",
       "sqft_lot15         int64\n",
       "dtype: object"
      ]
     },
     "metadata": {},
     "execution_count": 7
    }
   ],
   "source": [
    "# Look for any column types that need conversion\n",
    "df.dtypes"
   ]
  },
  {
   "cell_type": "markdown",
   "metadata": {
    "id": "Fc1HFWOR0ixs"
   },
   "source": [
    "## **Initial Data Cleaning**"
   ]
  },
  {
   "cell_type": "code",
   "execution_count": 8,
   "metadata": {
    "colab": {
     "base_uri": "https://localhost:8080/"
    },
    "id": "IeitrrpEo9N9",
    "outputId": "04e8ed91-443c-4d44-8835-30e16959844c"
   },
   "outputs": [
    {
     "output_type": "execute_result",
     "data": {
      "text/plain": [
       "id               0\n",
       "date             0\n",
       "price            0\n",
       "bedrooms         0\n",
       "bathrooms        0\n",
       "sqft_living      0\n",
       "sqft_lot         0\n",
       "floors           0\n",
       "waterfront       0\n",
       "view             0\n",
       "condition        0\n",
       "grade            0\n",
       "sqft_above       0\n",
       "sqft_basement    0\n",
       "yr_built         0\n",
       "yr_renovated     0\n",
       "zipcode          0\n",
       "lat              0\n",
       "long             0\n",
       "sqft_living15    0\n",
       "sqft_lot15       0\n",
       "dtype: int64"
      ]
     },
     "metadata": {},
     "execution_count": 8
    }
   ],
   "source": [
    "# Check for any null values in the dataset\n",
    "df.isna().sum()"
   ]
  },
  {
   "cell_type": "code",
   "execution_count": 9,
   "metadata": {},
   "outputs": [
    {
     "output_type": "execute_result",
     "data": {
      "text/plain": [
       "           id      price  bedrooms  bathrooms  sqft_living  sqft_lot  floors  \\\n",
       "0  2591820310   365000.0         4       2.25         2070      8893     2.0   \n",
       "1  7974200820   865000.0         5       3.00         2900      6730     1.0   \n",
       "2  7701450110  1038000.0         4       2.50         3770     10893     2.0   \n",
       "3  9522300010  1490000.0         3       3.50         4560     14608     2.0   \n",
       "4  9510861140   711000.0         3       2.50         2550      5376     2.0   \n",
       "\n",
       "   waterfront  view  condition  grade  sqft_above  sqft_basement  yr_built  \\\n",
       "0           0     0          4      8        2070              0      1986   \n",
       "1           0     0          5      8        1830           1070      1977   \n",
       "2           0     2          3     11        3770              0      1997   \n",
       "3           0     2          3     12        4560              0      1990   \n",
       "4           0     0          3      9        2550              0      2004   \n",
       "\n",
       "   yr_renovated  zipcode      lat     long  sqft_living15  sqft_lot15  \\\n",
       "0             0    98058  47.4388 -122.162           2390        7700   \n",
       "1             0    98115  47.6784 -122.285           2370        6283   \n",
       "2             0    98006  47.5646 -122.129           3710        9685   \n",
       "3             0    98034  47.6995 -122.228           4050       14226   \n",
       "4             0    98052  47.6647 -122.083           2250        4050   \n",
       "\n",
       "   sale_date  \n",
       "0 2014-10-06  \n",
       "1 2014-08-21  \n",
       "2 2014-08-15  \n",
       "3 2015-03-31  \n",
       "4 2014-07-14  "
      ],
      "text/html": "<div>\n<style scoped>\n    .dataframe tbody tr th:only-of-type {\n        vertical-align: middle;\n    }\n\n    .dataframe tbody tr th {\n        vertical-align: top;\n    }\n\n    .dataframe thead th {\n        text-align: right;\n    }\n</style>\n<table border=\"1\" class=\"dataframe\">\n  <thead>\n    <tr style=\"text-align: right;\">\n      <th></th>\n      <th>id</th>\n      <th>price</th>\n      <th>bedrooms</th>\n      <th>bathrooms</th>\n      <th>sqft_living</th>\n      <th>sqft_lot</th>\n      <th>floors</th>\n      <th>waterfront</th>\n      <th>view</th>\n      <th>condition</th>\n      <th>grade</th>\n      <th>sqft_above</th>\n      <th>sqft_basement</th>\n      <th>yr_built</th>\n      <th>yr_renovated</th>\n      <th>zipcode</th>\n      <th>lat</th>\n      <th>long</th>\n      <th>sqft_living15</th>\n      <th>sqft_lot15</th>\n      <th>sale_date</th>\n    </tr>\n  </thead>\n  <tbody>\n    <tr>\n      <th>0</th>\n      <td>2591820310</td>\n      <td>365000.0</td>\n      <td>4</td>\n      <td>2.25</td>\n      <td>2070</td>\n      <td>8893</td>\n      <td>2.0</td>\n      <td>0</td>\n      <td>0</td>\n      <td>4</td>\n      <td>8</td>\n      <td>2070</td>\n      <td>0</td>\n      <td>1986</td>\n      <td>0</td>\n      <td>98058</td>\n      <td>47.4388</td>\n      <td>-122.162</td>\n      <td>2390</td>\n      <td>7700</td>\n      <td>2014-10-06</td>\n    </tr>\n    <tr>\n      <th>1</th>\n      <td>7974200820</td>\n      <td>865000.0</td>\n      <td>5</td>\n      <td>3.00</td>\n      <td>2900</td>\n      <td>6730</td>\n      <td>1.0</td>\n      <td>0</td>\n      <td>0</td>\n      <td>5</td>\n      <td>8</td>\n      <td>1830</td>\n      <td>1070</td>\n      <td>1977</td>\n      <td>0</td>\n      <td>98115</td>\n      <td>47.6784</td>\n      <td>-122.285</td>\n      <td>2370</td>\n      <td>6283</td>\n      <td>2014-08-21</td>\n    </tr>\n    <tr>\n      <th>2</th>\n      <td>7701450110</td>\n      <td>1038000.0</td>\n      <td>4</td>\n      <td>2.50</td>\n      <td>3770</td>\n      <td>10893</td>\n      <td>2.0</td>\n      <td>0</td>\n      <td>2</td>\n      <td>3</td>\n      <td>11</td>\n      <td>3770</td>\n      <td>0</td>\n      <td>1997</td>\n      <td>0</td>\n      <td>98006</td>\n      <td>47.5646</td>\n      <td>-122.129</td>\n      <td>3710</td>\n      <td>9685</td>\n      <td>2014-08-15</td>\n    </tr>\n    <tr>\n      <th>3</th>\n      <td>9522300010</td>\n      <td>1490000.0</td>\n      <td>3</td>\n      <td>3.50</td>\n      <td>4560</td>\n      <td>14608</td>\n      <td>2.0</td>\n      <td>0</td>\n      <td>2</td>\n      <td>3</td>\n      <td>12</td>\n      <td>4560</td>\n      <td>0</td>\n      <td>1990</td>\n      <td>0</td>\n      <td>98034</td>\n      <td>47.6995</td>\n      <td>-122.228</td>\n      <td>4050</td>\n      <td>14226</td>\n      <td>2015-03-31</td>\n    </tr>\n    <tr>\n      <th>4</th>\n      <td>9510861140</td>\n      <td>711000.0</td>\n      <td>3</td>\n      <td>2.50</td>\n      <td>2550</td>\n      <td>5376</td>\n      <td>2.0</td>\n      <td>0</td>\n      <td>0</td>\n      <td>3</td>\n      <td>9</td>\n      <td>2550</td>\n      <td>0</td>\n      <td>2004</td>\n      <td>0</td>\n      <td>98052</td>\n      <td>47.6647</td>\n      <td>-122.083</td>\n      <td>2250</td>\n      <td>4050</td>\n      <td>2014-07-14</td>\n    </tr>\n  </tbody>\n</table>\n</div>"
     },
     "metadata": {},
     "execution_count": 9
    }
   ],
   "source": [
    "# Convert 'date' column to datetime format, rename to 'sale_date', and drop original column\n",
    "df['sale_date'] = [x[:8] for x in df.date]\n",
    "df.sale_date = df.sale_date.apply(lambda x: datetime.strptime(x, '%Y%m%d'))\n",
    "df.drop(columns='date', inplace=True)\n",
    "df.head()"
   ]
  },
  {
   "cell_type": "code",
   "execution_count": 10,
   "metadata": {},
   "outputs": [
    {
     "output_type": "execute_result",
     "data": {
      "text/plain": [
       "   OBJECTID    ZIP ZIPCODE COUNTY  ZIP_TYPE     Shape_Leng    Shape_Area  \\\n",
       "0         1  98031   98031    033  Standard  117508.232813  2.280129e+08   \n",
       "1         2  98032   98032    033  Standard  166737.665152  4.826754e+08   \n",
       "2         3  98030   98030    033  Standard   94409.538568  2.000954e+08   \n",
       "3         4  98029   98029    033  Standard  111093.715481  2.774247e+08   \n",
       "4         5  98028   98028    033  Standard   71488.230747  1.996531e+08   \n",
       "\n",
       "                                            geometry  \n",
       "0  POLYGON ((-122.21842 47.43750, -122.21935 47.4...  \n",
       "1  MULTIPOLYGON (((-122.24187 47.44122, -122.2411...  \n",
       "2  POLYGON ((-122.21006 47.38692, -122.21007 47.3...  \n",
       "3  POLYGON ((-121.97642 47.58430, -121.97645 47.5...  \n",
       "4  POLYGON ((-122.22788 47.76909, -122.22790 47.7...  "
      ],
      "text/html": "<div>\n<style scoped>\n    .dataframe tbody tr th:only-of-type {\n        vertical-align: middle;\n    }\n\n    .dataframe tbody tr th {\n        vertical-align: top;\n    }\n\n    .dataframe thead th {\n        text-align: right;\n    }\n</style>\n<table border=\"1\" class=\"dataframe\">\n  <thead>\n    <tr style=\"text-align: right;\">\n      <th></th>\n      <th>OBJECTID</th>\n      <th>ZIP</th>\n      <th>ZIPCODE</th>\n      <th>COUNTY</th>\n      <th>ZIP_TYPE</th>\n      <th>Shape_Leng</th>\n      <th>Shape_Area</th>\n      <th>geometry</th>\n    </tr>\n  </thead>\n  <tbody>\n    <tr>\n      <th>0</th>\n      <td>1</td>\n      <td>98031</td>\n      <td>98031</td>\n      <td>033</td>\n      <td>Standard</td>\n      <td>117508.232813</td>\n      <td>2.280129e+08</td>\n      <td>POLYGON ((-122.21842 47.43750, -122.21935 47.4...</td>\n    </tr>\n    <tr>\n      <th>1</th>\n      <td>2</td>\n      <td>98032</td>\n      <td>98032</td>\n      <td>033</td>\n      <td>Standard</td>\n      <td>166737.665152</td>\n      <td>4.826754e+08</td>\n      <td>MULTIPOLYGON (((-122.24187 47.44122, -122.2411...</td>\n    </tr>\n    <tr>\n      <th>2</th>\n      <td>3</td>\n      <td>98030</td>\n      <td>98030</td>\n      <td>033</td>\n      <td>Standard</td>\n      <td>94409.538568</td>\n      <td>2.000954e+08</td>\n      <td>POLYGON ((-122.21006 47.38692, -122.21007 47.3...</td>\n    </tr>\n    <tr>\n      <th>3</th>\n      <td>4</td>\n      <td>98029</td>\n      <td>98029</td>\n      <td>033</td>\n      <td>Standard</td>\n      <td>111093.715481</td>\n      <td>2.774247e+08</td>\n      <td>POLYGON ((-121.97642 47.58430, -121.97645 47.5...</td>\n    </tr>\n    <tr>\n      <th>4</th>\n      <td>5</td>\n      <td>98028</td>\n      <td>98028</td>\n      <td>033</td>\n      <td>Standard</td>\n      <td>71488.230747</td>\n      <td>1.996531e+08</td>\n      <td>POLYGON ((-122.22788 47.76909, -122.22790 47.7...</td>\n    </tr>\n  </tbody>\n</table>\n</div>"
     },
     "metadata": {},
     "execution_count": 10
    }
   ],
   "source": [
    "geodata = gpd.read_file(\"mapping/Zipcodes_for_King_County_and_Surrounding_Area___zipcode_area.shp\")\n",
    "geodata.head()"
   ]
  },
  {
   "cell_type": "code",
   "execution_count": 11,
   "metadata": {},
   "outputs": [
    {
     "output_type": "execute_result",
     "data": {
      "text/plain": [
       "   zipcode            id         price  bedrooms  bathrooms  sqft_living  \\\n",
       "0    98001  4.626220e+09  2.819988e+05  3.387324   1.990317  1902.718310   \n",
       "1    98002  4.997224e+09  2.322865e+05  3.305732   1.828025  1618.038217   \n",
       "2    98003  4.631569e+09  2.907627e+05  3.375000   2.066964  1939.125000   \n",
       "3    98004  4.291230e+09  1.396883e+06  3.856540   2.527426  2969.409283   \n",
       "4    98005  5.096151e+09  8.088476e+05  3.835714   2.417857  2679.235714   \n",
       "\n",
       "       sqft_lot    floors  waterfront      view  condition     grade  \\\n",
       "0  15564.359155  1.396127    0.000000  0.109155   3.323944  7.302817   \n",
       "1   7536.222930  1.318471    0.000000  0.012739   3.738854  6.668790   \n",
       "2  10777.062500  1.310268    0.000000  0.183036   3.361607  7.526786   \n",
       "3  13679.042194  1.432489    0.004219  0.312236   3.502110  8.776371   \n",
       "4  19172.150000  1.264286    0.000000  0.114286   3.700000  8.500000   \n",
       "\n",
       "    sqft_above  sqft_basement     yr_built  yr_renovated        lat  \\\n",
       "0  1705.077465     197.640845  1979.904930     41.869718  47.309579   \n",
       "1  1518.700637      99.337580  1966.337580     75.910828  47.307609   \n",
       "2  1667.732143     271.392857  1977.125000     26.700893  47.316625   \n",
       "3  2458.143460     511.265823  1971.810127    202.594937  47.615932   \n",
       "4  2161.807143     517.428571  1969.492857     57.157143  47.611205   \n",
       "\n",
       "         long  sqft_living15    sqft_lot15  \n",
       "0 -122.270891    1820.056338  11337.359155  \n",
       "1 -122.213299    1460.649682   7758.611465  \n",
       "2 -122.309804    1864.035714   9717.857143  \n",
       "3 -122.205561    2742.236287  13220.194093  \n",
       "4 -122.167536    2559.578571  18203.107143  "
      ],
      "text/html": "<div>\n<style scoped>\n    .dataframe tbody tr th:only-of-type {\n        vertical-align: middle;\n    }\n\n    .dataframe tbody tr th {\n        vertical-align: top;\n    }\n\n    .dataframe thead th {\n        text-align: right;\n    }\n</style>\n<table border=\"1\" class=\"dataframe\">\n  <thead>\n    <tr style=\"text-align: right;\">\n      <th></th>\n      <th>zipcode</th>\n      <th>id</th>\n      <th>price</th>\n      <th>bedrooms</th>\n      <th>bathrooms</th>\n      <th>sqft_living</th>\n      <th>sqft_lot</th>\n      <th>floors</th>\n      <th>waterfront</th>\n      <th>view</th>\n      <th>condition</th>\n      <th>grade</th>\n      <th>sqft_above</th>\n      <th>sqft_basement</th>\n      <th>yr_built</th>\n      <th>yr_renovated</th>\n      <th>lat</th>\n      <th>long</th>\n      <th>sqft_living15</th>\n      <th>sqft_lot15</th>\n    </tr>\n  </thead>\n  <tbody>\n    <tr>\n      <th>0</th>\n      <td>98001</td>\n      <td>4.626220e+09</td>\n      <td>2.819988e+05</td>\n      <td>3.387324</td>\n      <td>1.990317</td>\n      <td>1902.718310</td>\n      <td>15564.359155</td>\n      <td>1.396127</td>\n      <td>0.000000</td>\n      <td>0.109155</td>\n      <td>3.323944</td>\n      <td>7.302817</td>\n      <td>1705.077465</td>\n      <td>197.640845</td>\n      <td>1979.904930</td>\n      <td>41.869718</td>\n      <td>47.309579</td>\n      <td>-122.270891</td>\n      <td>1820.056338</td>\n      <td>11337.359155</td>\n    </tr>\n    <tr>\n      <th>1</th>\n      <td>98002</td>\n      <td>4.997224e+09</td>\n      <td>2.322865e+05</td>\n      <td>3.305732</td>\n      <td>1.828025</td>\n      <td>1618.038217</td>\n      <td>7536.222930</td>\n      <td>1.318471</td>\n      <td>0.000000</td>\n      <td>0.012739</td>\n      <td>3.738854</td>\n      <td>6.668790</td>\n      <td>1518.700637</td>\n      <td>99.337580</td>\n      <td>1966.337580</td>\n      <td>75.910828</td>\n      <td>47.307609</td>\n      <td>-122.213299</td>\n      <td>1460.649682</td>\n      <td>7758.611465</td>\n    </tr>\n    <tr>\n      <th>2</th>\n      <td>98003</td>\n      <td>4.631569e+09</td>\n      <td>2.907627e+05</td>\n      <td>3.375000</td>\n      <td>2.066964</td>\n      <td>1939.125000</td>\n      <td>10777.062500</td>\n      <td>1.310268</td>\n      <td>0.000000</td>\n      <td>0.183036</td>\n      <td>3.361607</td>\n      <td>7.526786</td>\n      <td>1667.732143</td>\n      <td>271.392857</td>\n      <td>1977.125000</td>\n      <td>26.700893</td>\n      <td>47.316625</td>\n      <td>-122.309804</td>\n      <td>1864.035714</td>\n      <td>9717.857143</td>\n    </tr>\n    <tr>\n      <th>3</th>\n      <td>98004</td>\n      <td>4.291230e+09</td>\n      <td>1.396883e+06</td>\n      <td>3.856540</td>\n      <td>2.527426</td>\n      <td>2969.409283</td>\n      <td>13679.042194</td>\n      <td>1.432489</td>\n      <td>0.004219</td>\n      <td>0.312236</td>\n      <td>3.502110</td>\n      <td>8.776371</td>\n      <td>2458.143460</td>\n      <td>511.265823</td>\n      <td>1971.810127</td>\n      <td>202.594937</td>\n      <td>47.615932</td>\n      <td>-122.205561</td>\n      <td>2742.236287</td>\n      <td>13220.194093</td>\n    </tr>\n    <tr>\n      <th>4</th>\n      <td>98005</td>\n      <td>5.096151e+09</td>\n      <td>8.088476e+05</td>\n      <td>3.835714</td>\n      <td>2.417857</td>\n      <td>2679.235714</td>\n      <td>19172.150000</td>\n      <td>1.264286</td>\n      <td>0.000000</td>\n      <td>0.114286</td>\n      <td>3.700000</td>\n      <td>8.500000</td>\n      <td>2161.807143</td>\n      <td>517.428571</td>\n      <td>1969.492857</td>\n      <td>57.157143</td>\n      <td>47.611205</td>\n      <td>-122.167536</td>\n      <td>2559.578571</td>\n      <td>18203.107143</td>\n    </tr>\n  </tbody>\n</table>\n</div>"
     },
     "metadata": {},
     "execution_count": 11
    }
   ],
   "source": [
    "zip_df = df.groupby('zipcode').agg(np.mean)\n",
    "zip_df.reset_index(inplace=True)\n",
    "zip_df.head()"
   ]
  },
  {
   "cell_type": "code",
   "execution_count": 12,
   "metadata": {},
   "outputs": [
    {
     "output_type": "execute_result",
     "data": {
      "text/plain": [
       "   zipcode  count\n",
       "0    98001    284\n",
       "1    98002    157\n",
       "2    98003    224\n",
       "3    98004    237\n",
       "4    98005    140"
      ],
      "text/html": "<div>\n<style scoped>\n    .dataframe tbody tr th:only-of-type {\n        vertical-align: middle;\n    }\n\n    .dataframe tbody tr th {\n        vertical-align: top;\n    }\n\n    .dataframe thead th {\n        text-align: right;\n    }\n</style>\n<table border=\"1\" class=\"dataframe\">\n  <thead>\n    <tr style=\"text-align: right;\">\n      <th></th>\n      <th>zipcode</th>\n      <th>count</th>\n    </tr>\n  </thead>\n  <tbody>\n    <tr>\n      <th>0</th>\n      <td>98001</td>\n      <td>284</td>\n    </tr>\n    <tr>\n      <th>1</th>\n      <td>98002</td>\n      <td>157</td>\n    </tr>\n    <tr>\n      <th>2</th>\n      <td>98003</td>\n      <td>224</td>\n    </tr>\n    <tr>\n      <th>3</th>\n      <td>98004</td>\n      <td>237</td>\n    </tr>\n    <tr>\n      <th>4</th>\n      <td>98005</td>\n      <td>140</td>\n    </tr>\n  </tbody>\n</table>\n</div>"
     },
     "metadata": {},
     "execution_count": 12
    }
   ],
   "source": [
    "df['count'] = 1\n",
    "count_zip = df.groupby('zipcode').sum()\n",
    "count_zip.reset_index(inplace=True)\n",
    "count_zip = count_zip[['zipcode', 'count']]\n",
    "df.drop(['count'], axis = 1, inplace=True)\n",
    "count_zip.head()"
   ]
  },
  {
   "cell_type": "code",
   "execution_count": 13,
   "metadata": {},
   "outputs": [
    {
     "output_type": "execute_result",
     "data": {
      "text/plain": [
       "   zipcode            id         price  bedrooms  bathrooms  sqft_living  \\\n",
       "0    98001  4.626220e+09  2.819988e+05  3.387324   1.990317  1902.718310   \n",
       "1    98002  4.997224e+09  2.322865e+05  3.305732   1.828025  1618.038217   \n",
       "2    98003  4.631569e+09  2.907627e+05  3.375000   2.066964  1939.125000   \n",
       "3    98004  4.291230e+09  1.396883e+06  3.856540   2.527426  2969.409283   \n",
       "4    98005  5.096151e+09  8.088476e+05  3.835714   2.417857  2679.235714   \n",
       "\n",
       "       sqft_lot    floors  waterfront      view  condition     grade  \\\n",
       "0  15564.359155  1.396127    0.000000  0.109155   3.323944  7.302817   \n",
       "1   7536.222930  1.318471    0.000000  0.012739   3.738854  6.668790   \n",
       "2  10777.062500  1.310268    0.000000  0.183036   3.361607  7.526786   \n",
       "3  13679.042194  1.432489    0.004219  0.312236   3.502110  8.776371   \n",
       "4  19172.150000  1.264286    0.000000  0.114286   3.700000  8.500000   \n",
       "\n",
       "    sqft_above  sqft_basement     yr_built  yr_renovated        lat  \\\n",
       "0  1705.077465     197.640845  1979.904930     41.869718  47.309579   \n",
       "1  1518.700637      99.337580  1966.337580     75.910828  47.307609   \n",
       "2  1667.732143     271.392857  1977.125000     26.700893  47.316625   \n",
       "3  2458.143460     511.265823  1971.810127    202.594937  47.615932   \n",
       "4  2161.807143     517.428571  1969.492857     57.157143  47.611205   \n",
       "\n",
       "         long  sqft_living15    sqft_lot15  count  \n",
       "0 -122.270891    1820.056338  11337.359155    284  \n",
       "1 -122.213299    1460.649682   7758.611465    157  \n",
       "2 -122.309804    1864.035714   9717.857143    224  \n",
       "3 -122.205561    2742.236287  13220.194093    237  \n",
       "4 -122.167536    2559.578571  18203.107143    140  "
      ],
      "text/html": "<div>\n<style scoped>\n    .dataframe tbody tr th:only-of-type {\n        vertical-align: middle;\n    }\n\n    .dataframe tbody tr th {\n        vertical-align: top;\n    }\n\n    .dataframe thead th {\n        text-align: right;\n    }\n</style>\n<table border=\"1\" class=\"dataframe\">\n  <thead>\n    <tr style=\"text-align: right;\">\n      <th></th>\n      <th>zipcode</th>\n      <th>id</th>\n      <th>price</th>\n      <th>bedrooms</th>\n      <th>bathrooms</th>\n      <th>sqft_living</th>\n      <th>sqft_lot</th>\n      <th>floors</th>\n      <th>waterfront</th>\n      <th>view</th>\n      <th>condition</th>\n      <th>grade</th>\n      <th>sqft_above</th>\n      <th>sqft_basement</th>\n      <th>yr_built</th>\n      <th>yr_renovated</th>\n      <th>lat</th>\n      <th>long</th>\n      <th>sqft_living15</th>\n      <th>sqft_lot15</th>\n      <th>count</th>\n    </tr>\n  </thead>\n  <tbody>\n    <tr>\n      <th>0</th>\n      <td>98001</td>\n      <td>4.626220e+09</td>\n      <td>2.819988e+05</td>\n      <td>3.387324</td>\n      <td>1.990317</td>\n      <td>1902.718310</td>\n      <td>15564.359155</td>\n      <td>1.396127</td>\n      <td>0.000000</td>\n      <td>0.109155</td>\n      <td>3.323944</td>\n      <td>7.302817</td>\n      <td>1705.077465</td>\n      <td>197.640845</td>\n      <td>1979.904930</td>\n      <td>41.869718</td>\n      <td>47.309579</td>\n      <td>-122.270891</td>\n      <td>1820.056338</td>\n      <td>11337.359155</td>\n      <td>284</td>\n    </tr>\n    <tr>\n      <th>1</th>\n      <td>98002</td>\n      <td>4.997224e+09</td>\n      <td>2.322865e+05</td>\n      <td>3.305732</td>\n      <td>1.828025</td>\n      <td>1618.038217</td>\n      <td>7536.222930</td>\n      <td>1.318471</td>\n      <td>0.000000</td>\n      <td>0.012739</td>\n      <td>3.738854</td>\n      <td>6.668790</td>\n      <td>1518.700637</td>\n      <td>99.337580</td>\n      <td>1966.337580</td>\n      <td>75.910828</td>\n      <td>47.307609</td>\n      <td>-122.213299</td>\n      <td>1460.649682</td>\n      <td>7758.611465</td>\n      <td>157</td>\n    </tr>\n    <tr>\n      <th>2</th>\n      <td>98003</td>\n      <td>4.631569e+09</td>\n      <td>2.907627e+05</td>\n      <td>3.375000</td>\n      <td>2.066964</td>\n      <td>1939.125000</td>\n      <td>10777.062500</td>\n      <td>1.310268</td>\n      <td>0.000000</td>\n      <td>0.183036</td>\n      <td>3.361607</td>\n      <td>7.526786</td>\n      <td>1667.732143</td>\n      <td>271.392857</td>\n      <td>1977.125000</td>\n      <td>26.700893</td>\n      <td>47.316625</td>\n      <td>-122.309804</td>\n      <td>1864.035714</td>\n      <td>9717.857143</td>\n      <td>224</td>\n    </tr>\n    <tr>\n      <th>3</th>\n      <td>98004</td>\n      <td>4.291230e+09</td>\n      <td>1.396883e+06</td>\n      <td>3.856540</td>\n      <td>2.527426</td>\n      <td>2969.409283</td>\n      <td>13679.042194</td>\n      <td>1.432489</td>\n      <td>0.004219</td>\n      <td>0.312236</td>\n      <td>3.502110</td>\n      <td>8.776371</td>\n      <td>2458.143460</td>\n      <td>511.265823</td>\n      <td>1971.810127</td>\n      <td>202.594937</td>\n      <td>47.615932</td>\n      <td>-122.205561</td>\n      <td>2742.236287</td>\n      <td>13220.194093</td>\n      <td>237</td>\n    </tr>\n    <tr>\n      <th>4</th>\n      <td>98005</td>\n      <td>5.096151e+09</td>\n      <td>8.088476e+05</td>\n      <td>3.835714</td>\n      <td>2.417857</td>\n      <td>2679.235714</td>\n      <td>19172.150000</td>\n      <td>1.264286</td>\n      <td>0.000000</td>\n      <td>0.114286</td>\n      <td>3.700000</td>\n      <td>8.500000</td>\n      <td>2161.807143</td>\n      <td>517.428571</td>\n      <td>1969.492857</td>\n      <td>57.157143</td>\n      <td>47.611205</td>\n      <td>-122.167536</td>\n      <td>2559.578571</td>\n      <td>18203.107143</td>\n      <td>140</td>\n    </tr>\n  </tbody>\n</table>\n</div>"
     },
     "metadata": {},
     "execution_count": 13
    }
   ],
   "source": [
    "zip_df = pd.merge(zip_df, count_zip, how='left', on=['zipcode'])\n",
    "zip_df.head()"
   ]
  },
  {
   "cell_type": "code",
   "execution_count": 14,
   "metadata": {},
   "outputs": [],
   "source": [
    "# cmap = cm.LinearColormap(colors=['blue', 'yellow', 'red'], vmin=100000, vmax=1500000)\n",
    "# m = folium.Map(location=[df.lat.mean(), df.long.mean()], zoom_start=10, tiles='stamenterrain')\n",
    "# for i in range(len(df)):\n",
    "#     folium.Circle(\n",
    "#         location=[df.iloc[i]['lat'], df.iloc[i]['long']],\n",
    "#         radius=10,\n",
    "#         fill=True,\n",
    "#         color=cmap(df.iloc[i]['price']),\n",
    "#         fill_opacity=0.2\n",
    "#     ).add_to(m)\n",
    "# m.add_child(cmap)\n",
    "# m.save('price_cmap.html')\n",
    "# m"
   ]
  },
  {
   "cell_type": "markdown",
   "metadata": {},
   "source": [
    "<img src=\"images/folium_circles.png\">"
   ]
  },
  {
   "cell_type": "code",
   "execution_count": 15,
   "metadata": {},
   "outputs": [],
   "source": [
    "# df['zipcode'] = df['zipcode'].astype('str')\n",
    "# boundary_file = \"mapping/Zipcodes_for_King_County_and_Surrounding_Area___zipcode_area.geojson\"\n",
    "# with open(boundary_file, 'r') as f:\n",
    "#     zipcode_boundary = json.load(f)\n",
    "# m = folium.Map(location=[df.lat.mean(), df.long.mean()], zoom_start=10, tiles='openstreetmap')\n",
    "# zipcode_data = df.groupby('zipcode').aggregate(np.mean)\n",
    "# zipcode_data.reset_index(inplace = True) \n",
    "# bins = list(zipcode_data['price'].quantile([0, 0.2, 0.4, 0.6, 0.8, 1]))\n",
    "# folium.Choropleth(\n",
    "#     geo_data=zipcode_boundary,\n",
    "#     name='choropleth',\n",
    "#     data=zipcode_data,\n",
    "#     columns=['zipcode', 'price'],\n",
    "#     key_on='feature.properties.ZIPCODE',\n",
    "#     fill_color='Spectral',\n",
    "#     fill_opacity=0.6,\n",
    "#     nan_fill_opacity=0,\n",
    "#     line_opacity=1,\n",
    "#     bins=bins,\n",
    "#     legend_name='Mean Price'\n",
    "# ).add_to(m)\n",
    "# m.save('zip_choropleth.html')\n",
    "# m"
   ]
  },
  {
   "cell_type": "markdown",
   "metadata": {},
   "source": [
    "<img src=\"images/folium_choropleth.png\">"
   ]
  },
  {
   "cell_type": "markdown",
   "metadata": {},
   "source": [
    "Since the data was preprocessed, this steps are more pro forma.  We did not expect to produce any duplicate or missing values from this dataset, as would be expected from more raw data, i.e. directly from Kaggle.  These would be necessary steps in the preprocessing stage of the data."
   ]
  },
  {
   "cell_type": "code",
   "execution_count": 16,
   "metadata": {
    "id": "msToos6WjRVi"
   },
   "outputs": [],
   "source": [
    "# Put features into categorical and continuous subsets\n",
    "feat_cat = df[['view', 'condition', 'grade', 'waterfront', 'floors', 'bedrooms', 'bathrooms', 'zipcode']]\n",
    "feat_con = df[['sqft_living', 'sqft_lot', 'sqft_above', 'sqft_basement', 'sqft_living15', 'sqft_lot15', 'yr_built', 'yr_renovated', 'lat', 'long']]"
   ]
  },
  {
   "cell_type": "code",
   "execution_count": 17,
   "metadata": {
    "id": "SQzBgZhijRVi"
   },
   "outputs": [],
   "source": [
    "# Get indices of the subsetted columns to prepare for Seaborn visualizations\n",
    "col_con = feat_con.columns\n",
    "col_cat = feat_cat.columns"
   ]
  },
  {
   "cell_type": "markdown",
   "metadata": {},
   "source": [
    "## Target Variable Visualization"
   ]
  },
  {
   "cell_type": "code",
   "execution_count": 18,
   "metadata": {},
   "outputs": [],
   "source": [
    "# fig, ax = plt.subplots(figsize=(12, 4))\n",
    "# ax = sns.boxplot(df.price)\n",
    "# plt.savefig(\"df_target_2.png\")"
   ]
  },
  {
   "cell_type": "markdown",
   "metadata": {},
   "source": [
    "<img src=\"images/df_target_2.png\">"
   ]
  },
  {
   "cell_type": "markdown",
   "metadata": {},
   "source": [
    "**Observations:**\n",
    "\n",
    "- We could use this boxplot to identify outliers, but there are potentially different ways we could approach outliers for our target variable.  But this is just to get a lay of the land."
   ]
  },
  {
   "cell_type": "markdown",
   "metadata": {
    "id": "Pc4bI8ZY41kQ"
   },
   "source": [
    "## **Continuous Variable Visualizations**"
   ]
  },
  {
   "cell_type": "code",
   "execution_count": 19,
   "metadata": {},
   "outputs": [],
   "source": [
    "## Display distribution plots of continuous variables using FacetGrid and distplot\n",
    "\n",
    "# con_1 = pd.melt(df, value_vars = col_con)\n",
    "# g = sns.FacetGrid(con_1, col='variable', col_wrap=3, sharex=False, sharey=False, height=4)\n",
    "# g = g.map(sns.distplot, 'value', color='r')\n",
    "# g.set_xticklabels(rotation=45)\n",
    "# plt.savefig(\"images/df_distplot.png\")\n"
   ]
  },
  {
   "cell_type": "markdown",
   "metadata": {},
   "source": [
    "<img src=\"images/df_distplot.png\">"
   ]
  },
  {
   "cell_type": "markdown",
   "metadata": {
    "id": "GIj9wd-m2XKS"
   },
   "source": [
    "**Observations:**\n",
    "\n",
    "- `sqft_living`, `sqft_above`, and `sqft_living15` are skewed to the right, potentially use log transformation with skewed data to conform to normality\n",
    "- `sqft_lot`, `sqft_lot15`, `sqft_basement`, and `yr_renovated` have a lot of zero values, maybe create a discrete binary variable for some of them"
   ]
  },
  {
   "cell_type": "code",
   "execution_count": 20,
   "metadata": {
    "colab": {
     "base_uri": "https://localhost:8080/",
     "height": 1000
    },
    "id": "TWjsI1M-jRVj",
    "outputId": "bb497505-fff3-4f5e-83e1-ab086f89367e"
   },
   "outputs": [],
   "source": [
    "# Create scatterplots with regression line with regplot() of continuous variables\n",
    "\n",
    "# con_2 = pd.melt(df, id_vars='price', value_vars=col_con)\n",
    "# g = sns.FacetGrid(con_2, col='variable', col_wrap=3, sharex=False, sharey=False, height=4)\n",
    "# g = g.map(sns.regplot, 'value', 'price', color='darkorange')\n",
    "# g.set_xticklabels(rotation=45)\n",
    "# plt.savefig('images/df_scatter.png')\n"
   ]
  },
  {
   "cell_type": "markdown",
   "metadata": {},
   "source": [
    "<img src=\"images/df_regplot.png\">"
   ]
  },
  {
   "cell_type": "markdown",
   "metadata": {},
   "source": [
    "**Observations:**\n",
    "\n",
    "- in the case of `yr_renovated`, with such disparate values between no renovations as 0 values and the years having values around 2000, best to consider this as a discrete variable rather than continuous\n",
    "- `sqft_living` and `sqft_above` show the strongest correlation with `price`\n",
    "- scatterplots allow you to identify outliers\n",
    "- hard to see relationship of `lat`, `long`, and `yr_built` to `price`\n"
   ]
  },
  {
   "cell_type": "markdown",
   "metadata": {
    "id": "KNxCSyAGk4DS"
   },
   "source": [
    "## Categorical Variable Visualizations"
   ]
  },
  {
   "cell_type": "code",
   "execution_count": 21,
   "metadata": {
    "colab": {
     "base_uri": "https://localhost:8080/",
     "height": 922
    },
    "id": "6oNmRdXiYYbM",
    "outputId": "e71e6e7a-7685-4274-a783-a3909dbc1867"
   },
   "outputs": [],
   "source": [
    "# Use bar graphs of the distribution of data for categorical variables\n",
    "\n",
    "# cat_1 = pd.melt(df, value_vars=col_cat)\n",
    "# g = sns.FacetGrid(cat_1, col='variable', col_wrap=3, sharex=False, sharey=False, height=4)\n",
    "# g = g.map(sns.countplot, 'value', color='g')\n",
    "# g.set_xticklabels(rotation=90)\n",
    "# plt.savefig(\"images/df_countplot.png\")"
   ]
  },
  {
   "cell_type": "markdown",
   "metadata": {},
   "source": [
    "<img src=\"images/df_countplot.png\">"
   ]
  },
  {
   "cell_type": "markdown",
   "metadata": {},
   "source": [
    "**Observations:**\n",
    "\n",
    "- large number of zero values for `waterfont` and `view`\n",
    "- `bedrooms` and `bathrooms` have right-skewed data"
   ]
  },
  {
   "cell_type": "code",
   "execution_count": 22,
   "metadata": {
    "colab": {
     "base_uri": "https://localhost:8080/",
     "height": 912
    },
    "id": "NABcXtQS9LXI",
    "outputId": "94b06d71-701c-464f-bf22-6f7b1ead4987"
   },
   "outputs": [],
   "source": [
    "# Create scatterplots for categorical variables to observe any relationships\n",
    "\n",
    "# cat_2 = pd.melt(df,id_vars='price', value_vars=col_cat)\n",
    "# g = sns.FacetGrid(cat_2, col='variable', col_wrap=3, sharex=False, sharey=False, height=4)\n",
    "# g = g.map(sns.regplot, 'value', 'price', color='dodgerblue')\n",
    "# g.set_xticklabels(rotation=90)\n",
    "# plt.savefig(\"images/df_regplot.png\")\n"
   ]
  },
  {
   "cell_type": "markdown",
   "metadata": {},
   "source": [
    "<img src=\"images/df_regplot.png\">"
   ]
  },
  {
   "cell_type": "markdown",
   "metadata": {},
   "source": [
    "**Observations:**\n",
    "\n",
    "- stronger relationship: `bedrooms` vs. `price`, `grade` vs. `price`\n",
    "- `waterfront` and `view` have correlation with `price`\n",
    "- little relationship between `zipcode`, `condition`, and `floor`"
   ]
  },
  {
   "cell_type": "code",
   "execution_count": 23,
   "metadata": {
    "colab": {
     "base_uri": "https://localhost:8080/",
     "height": 922
    },
    "id": "Ek4m4bQjramC",
    "outputId": "a01fdf00-03f8-4e4b-a40c-95e3e682a037"
   },
   "outputs": [],
   "source": [
    "# Display boxplots of categorical variables to observe any trends in the mean values of each category\n",
    "\n",
    "# cat_3 = pd.melt(df, id_vars='price', value_vars=col_cat)\n",
    "# g = sns.FacetGrid(cat_3, col='variable', col_wrap=3, sharex=False, sharey=False, height=4)\n",
    "# g = g.map(sns.boxplot, 'value', 'price', color='mediumslateblue')\n",
    "# g.set_xticklabels(rotation=90)\n",
    "# plt.savefig(\"images/df_boxplot.png\")"
   ]
  },
  {
   "cell_type": "markdown",
   "metadata": {},
   "source": [
    "<img src=\"images/df_boxplot.png\">"
   ]
  },
  {
   "cell_type": "markdown",
   "metadata": {
    "id": "n13kz92p7ZYS"
   },
   "source": [
    "**Observations:**\n",
    "\n",
    "- 33 bedrooms is an outlier, potentially replace with 3 bedrooms\n",
    "- strong exponential relationship in the mean values for number of bathrooms and grade\n",
    "- little correlation with mean views, perhaps express as binary variable\n",
    "- potentially replace outliers with the mean for grade and bathrooms"
   ]
  },
  {
   "cell_type": "code",
   "execution_count": 24,
   "metadata": {},
   "outputs": [],
   "source": [
    "# df_zipcode = df.groupby(['zipcode']).price.median().sort_values(ascending=False)\n",
    "# plt.figure(figsize=(20,10))\n",
    "# plt.ylabel('median price')\n",
    "# df_zipcode.plot(kind='bar')\n",
    "# plt.savefig(\"images/zipcode.png\")"
   ]
  },
  {
   "cell_type": "markdown",
   "metadata": {},
   "source": [
    "<img src=\"images/zipcode.png\">"
   ]
  },
  {
   "cell_type": "markdown",
   "metadata": {},
   "source": [
    "## Looking at Correlations"
   ]
  },
  {
   "cell_type": "code",
   "execution_count": 25,
   "metadata": {
    "colab": {
     "base_uri": "https://localhost:8080/",
     "height": 868
    },
    "id": "lhsOCeghjRVj",
    "outputId": "9f561b16-ee9b-4efd-aa8f-6d9575a3bd2d"
   },
   "outputs": [],
   "source": [
    "# Correlation Matrix between all variables\n",
    "\n",
    "# corr_matrix = df.corr()\n",
    "# plt.figure(figsize=(16,12))\n",
    "# sns.heatmap(corr_matrix, annot=True, cmap='coolwarm', linecolor='black', linewidths=1.0, xticklabels=True, yticklabels=True)\n",
    "# plt.show()\n"
   ]
  },
  {
   "cell_type": "markdown",
   "metadata": {},
   "source": [
    "<img src=\"images/df_corr.png\">"
   ]
  },
  {
   "cell_type": "markdown",
   "metadata": {},
   "source": [
    "**Final Observations from EDA:**\n",
    "\n",
    "1. Price has a strong correlation with `sqft_living` and `grade`\n",
    "2. Price has medium correlation with `bedrooms`, `sqft_above`, `sqft_living15`\n",
    "3. Price has low correlation with `bedrooms`, `floors`, `sqft_basement`, `latitude`\n",
    "4. Price has no significant relationship with `sqft_lot`, `yr_built`, `long`, `sqft_lot15`\n",
    "\n",
    "This will help in guiding our decision for initial feature selection in developing different models.\n"
   ]
  },
  {
   "cell_type": "markdown",
   "metadata": {
    "id": "VRKVdK9Nw8i3"
   },
   "source": [
    "## **Data Cleaning**\n",
    "\n",
    "**As data scientists, we undergo the different facets of the data cleaning process to ensure that our \"dirty\" data does not lead to any false conclusions. To ensure the validity, completeness, and consistency of the data, we make any necessary type conversions, remove any duplicate values and outliers, impute in any missing or anomalous values, perform any scaling or transformations to reduce skewness.**"
   ]
  },
  {
   "cell_type": "code",
   "execution_count": 26,
   "metadata": {},
   "outputs": [],
   "source": [
    "# Reset view options\n",
    "pd.set_option('display.max_rows', 20)"
   ]
  },
  {
   "cell_type": "code",
   "execution_count": 27,
   "metadata": {
    "colab": {
     "base_uri": "https://localhost:8080/",
     "height": 204
    },
    "id": "gaFWS0sMGyK4",
    "outputId": "a7cbf825-3e09-48cf-b3e3-fb57d1136439"
   },
   "outputs": [
    {
     "output_type": "execute_result",
     "data": {
      "text/plain": [
       "       price  bedrooms  bathrooms  sqft_living  sqft_lot  floors  waterfront  \\\n",
       "0   365000.0         4       2.25         2070      8893     2.0           0   \n",
       "1   865000.0         5       3.00         2900      6730     1.0           0   \n",
       "2  1038000.0         4       2.50         3770     10893     2.0           0   \n",
       "3  1490000.0         3       3.50         4560     14608     2.0           0   \n",
       "4   711000.0         3       2.50         2550      5376     2.0           0   \n",
       "\n",
       "   view  condition  grade  sqft_above  sqft_basement  yr_built  yr_renovated  \\\n",
       "0     0          4      8        2070              0      1986             0   \n",
       "1     0          5      8        1830           1070      1977             0   \n",
       "2     2          3     11        3770              0      1997             0   \n",
       "3     2          3     12        4560              0      1990             0   \n",
       "4     0          3      9        2550              0      2004             0   \n",
       "\n",
       "   zipcode      lat     long  sqft_living15  sqft_lot15  sale_date  \n",
       "0    98058  47.4388 -122.162           2390        7700 2014-10-06  \n",
       "1    98115  47.6784 -122.285           2370        6283 2014-08-21  \n",
       "2    98006  47.5646 -122.129           3710        9685 2014-08-15  \n",
       "3    98034  47.6995 -122.228           4050       14226 2015-03-31  \n",
       "4    98052  47.6647 -122.083           2250        4050 2014-07-14  "
      ],
      "text/html": "<div>\n<style scoped>\n    .dataframe tbody tr th:only-of-type {\n        vertical-align: middle;\n    }\n\n    .dataframe tbody tr th {\n        vertical-align: top;\n    }\n\n    .dataframe thead th {\n        text-align: right;\n    }\n</style>\n<table border=\"1\" class=\"dataframe\">\n  <thead>\n    <tr style=\"text-align: right;\">\n      <th></th>\n      <th>price</th>\n      <th>bedrooms</th>\n      <th>bathrooms</th>\n      <th>sqft_living</th>\n      <th>sqft_lot</th>\n      <th>floors</th>\n      <th>waterfront</th>\n      <th>view</th>\n      <th>condition</th>\n      <th>grade</th>\n      <th>sqft_above</th>\n      <th>sqft_basement</th>\n      <th>yr_built</th>\n      <th>yr_renovated</th>\n      <th>zipcode</th>\n      <th>lat</th>\n      <th>long</th>\n      <th>sqft_living15</th>\n      <th>sqft_lot15</th>\n      <th>sale_date</th>\n    </tr>\n  </thead>\n  <tbody>\n    <tr>\n      <th>0</th>\n      <td>365000.0</td>\n      <td>4</td>\n      <td>2.25</td>\n      <td>2070</td>\n      <td>8893</td>\n      <td>2.0</td>\n      <td>0</td>\n      <td>0</td>\n      <td>4</td>\n      <td>8</td>\n      <td>2070</td>\n      <td>0</td>\n      <td>1986</td>\n      <td>0</td>\n      <td>98058</td>\n      <td>47.4388</td>\n      <td>-122.162</td>\n      <td>2390</td>\n      <td>7700</td>\n      <td>2014-10-06</td>\n    </tr>\n    <tr>\n      <th>1</th>\n      <td>865000.0</td>\n      <td>5</td>\n      <td>3.00</td>\n      <td>2900</td>\n      <td>6730</td>\n      <td>1.0</td>\n      <td>0</td>\n      <td>0</td>\n      <td>5</td>\n      <td>8</td>\n      <td>1830</td>\n      <td>1070</td>\n      <td>1977</td>\n      <td>0</td>\n      <td>98115</td>\n      <td>47.6784</td>\n      <td>-122.285</td>\n      <td>2370</td>\n      <td>6283</td>\n      <td>2014-08-21</td>\n    </tr>\n    <tr>\n      <th>2</th>\n      <td>1038000.0</td>\n      <td>4</td>\n      <td>2.50</td>\n      <td>3770</td>\n      <td>10893</td>\n      <td>2.0</td>\n      <td>0</td>\n      <td>2</td>\n      <td>3</td>\n      <td>11</td>\n      <td>3770</td>\n      <td>0</td>\n      <td>1997</td>\n      <td>0</td>\n      <td>98006</td>\n      <td>47.5646</td>\n      <td>-122.129</td>\n      <td>3710</td>\n      <td>9685</td>\n      <td>2014-08-15</td>\n    </tr>\n    <tr>\n      <th>3</th>\n      <td>1490000.0</td>\n      <td>3</td>\n      <td>3.50</td>\n      <td>4560</td>\n      <td>14608</td>\n      <td>2.0</td>\n      <td>0</td>\n      <td>2</td>\n      <td>3</td>\n      <td>12</td>\n      <td>4560</td>\n      <td>0</td>\n      <td>1990</td>\n      <td>0</td>\n      <td>98034</td>\n      <td>47.6995</td>\n      <td>-122.228</td>\n      <td>4050</td>\n      <td>14226</td>\n      <td>2015-03-31</td>\n    </tr>\n    <tr>\n      <th>4</th>\n      <td>711000.0</td>\n      <td>3</td>\n      <td>2.50</td>\n      <td>2550</td>\n      <td>5376</td>\n      <td>2.0</td>\n      <td>0</td>\n      <td>0</td>\n      <td>3</td>\n      <td>9</td>\n      <td>2550</td>\n      <td>0</td>\n      <td>2004</td>\n      <td>0</td>\n      <td>98052</td>\n      <td>47.6647</td>\n      <td>-122.083</td>\n      <td>2250</td>\n      <td>4050</td>\n      <td>2014-07-14</td>\n    </tr>\n  </tbody>\n</table>\n</div>"
     },
     "metadata": {},
     "execution_count": 27
    }
   ],
   "source": [
    "# Drop 'id' column and check dataframe\n",
    "df.drop(['id'], inplace=True, axis=1)\n",
    "df.head()"
   ]
  },
  {
   "cell_type": "markdown",
   "metadata": {},
   "source": [
    "**The `id` column is used to uniquely identify each property, but can be used in regression analysis.**"
   ]
  },
  {
   "cell_type": "code",
   "execution_count": 28,
   "metadata": {
    "colab": {
     "base_uri": "https://localhost:8080/"
    },
    "id": "8zCddw5qEPRG",
    "outputId": "e40382e1-de65-49cb-9cad-d559141219a8"
   },
   "outputs": [
    {
     "output_type": "execute_result",
     "data": {
      "text/plain": [
       "3     7865\n",
       "4     5488\n",
       "2     2204\n",
       "5     1283\n",
       "6      229\n",
       "1      160\n",
       "7       30\n",
       "0       12\n",
       "8       10\n",
       "9        5\n",
       "10       3\n",
       "11       1\n",
       "Name: bedrooms, dtype: int64"
      ]
     },
     "metadata": {},
     "execution_count": 28
    }
   ],
   "source": [
    "# Replace anomalous bedroom values and check values in column\n",
    "df.replace({'bedrooms': {33: 3}}, inplace=True)\n",
    "df.bedrooms.value_counts()"
   ]
  },
  {
   "cell_type": "markdown",
   "metadata": {},
   "source": [
    "**Upon investigation, it was highly likely that the value was recorded incorrectly and would seem more in alignment with properties with 3 bedrooms rather than 33 bedrooms, which itself is extremely anomalous.**"
   ]
  },
  {
   "cell_type": "code",
   "execution_count": 29,
   "metadata": {},
   "outputs": [
    {
     "output_type": "execute_result",
     "data": {
      "text/plain": [
       "           price  bedrooms  bathrooms  sqft_living  sqft_lot  floors  \\\n",
       "9286   1295650.0         0        0.0         4810     28008     2.0   \n",
       "1120   1095000.0         0        0.0         3064      4764     3.5   \n",
       "12982   484000.0         1        0.0          690     23244     1.0   \n",
       "5424    380000.0         0        0.0         1470       979     3.0   \n",
       "483     355000.0         0        0.0         2460      8049     2.0   \n",
       "3032    235000.0         0        0.0         1470      4800     2.0   \n",
       "10067   142000.0         0        0.0          290     20875     1.0   \n",
       "9060     75000.0         1        0.0          670     43377     1.0   \n",
       "\n",
       "       waterfront  view  condition  grade  sqft_above  sqft_basement  \\\n",
       "9286            0     0          3     12        4810              0   \n",
       "1120            0     2          3      7        3064              0   \n",
       "12982           0     0          4      7         690              0   \n",
       "5424            0     2          3      8        1470              0   \n",
       "483             0     0          3      8        2460              0   \n",
       "3032            0     0          3      7        1470              0   \n",
       "10067           0     0          1      1         290              0   \n",
       "9060            0     0          3      3         670              0   \n",
       "\n",
       "       yr_built  yr_renovated  zipcode      lat     long  sqft_living15  \\\n",
       "9286       1990             0    98053  47.6642 -122.069           4740   \n",
       "1120       1990             0    98102  47.6362 -122.322           2360   \n",
       "12982      1948             0    98053  47.6429 -121.955           1690   \n",
       "5424       2006             0    98133  47.7145 -122.356           1470   \n",
       "483        1990             0    98031  47.4095 -122.168           2520   \n",
       "3032       1996             0    98065  47.5265 -121.828           1060   \n",
       "10067      1963             0    98024  47.5308 -121.888           1620   \n",
       "9060       1966             0    98022  47.2638 -121.906           1160   \n",
       "\n",
       "       sqft_lot15  sale_date  \n",
       "9286        35061 2014-06-24  \n",
       "1120         4000 2014-06-12  \n",
       "12982       19290 2014-09-18  \n",
       "5424         1399 2015-02-05  \n",
       "483          8050 2015-04-29  \n",
       "3032         7200 2014-12-23  \n",
       "10067       22850 2014-09-26  \n",
       "9060        42882 2015-02-17  "
      ],
      "text/html": "<div>\n<style scoped>\n    .dataframe tbody tr th:only-of-type {\n        vertical-align: middle;\n    }\n\n    .dataframe tbody tr th {\n        vertical-align: top;\n    }\n\n    .dataframe thead th {\n        text-align: right;\n    }\n</style>\n<table border=\"1\" class=\"dataframe\">\n  <thead>\n    <tr style=\"text-align: right;\">\n      <th></th>\n      <th>price</th>\n      <th>bedrooms</th>\n      <th>bathrooms</th>\n      <th>sqft_living</th>\n      <th>sqft_lot</th>\n      <th>floors</th>\n      <th>waterfront</th>\n      <th>view</th>\n      <th>condition</th>\n      <th>grade</th>\n      <th>sqft_above</th>\n      <th>sqft_basement</th>\n      <th>yr_built</th>\n      <th>yr_renovated</th>\n      <th>zipcode</th>\n      <th>lat</th>\n      <th>long</th>\n      <th>sqft_living15</th>\n      <th>sqft_lot15</th>\n      <th>sale_date</th>\n    </tr>\n  </thead>\n  <tbody>\n    <tr>\n      <th>9286</th>\n      <td>1295650.0</td>\n      <td>0</td>\n      <td>0.0</td>\n      <td>4810</td>\n      <td>28008</td>\n      <td>2.0</td>\n      <td>0</td>\n      <td>0</td>\n      <td>3</td>\n      <td>12</td>\n      <td>4810</td>\n      <td>0</td>\n      <td>1990</td>\n      <td>0</td>\n      <td>98053</td>\n      <td>47.6642</td>\n      <td>-122.069</td>\n      <td>4740</td>\n      <td>35061</td>\n      <td>2014-06-24</td>\n    </tr>\n    <tr>\n      <th>1120</th>\n      <td>1095000.0</td>\n      <td>0</td>\n      <td>0.0</td>\n      <td>3064</td>\n      <td>4764</td>\n      <td>3.5</td>\n      <td>0</td>\n      <td>2</td>\n      <td>3</td>\n      <td>7</td>\n      <td>3064</td>\n      <td>0</td>\n      <td>1990</td>\n      <td>0</td>\n      <td>98102</td>\n      <td>47.6362</td>\n      <td>-122.322</td>\n      <td>2360</td>\n      <td>4000</td>\n      <td>2014-06-12</td>\n    </tr>\n    <tr>\n      <th>12982</th>\n      <td>484000.0</td>\n      <td>1</td>\n      <td>0.0</td>\n      <td>690</td>\n      <td>23244</td>\n      <td>1.0</td>\n      <td>0</td>\n      <td>0</td>\n      <td>4</td>\n      <td>7</td>\n      <td>690</td>\n      <td>0</td>\n      <td>1948</td>\n      <td>0</td>\n      <td>98053</td>\n      <td>47.6429</td>\n      <td>-121.955</td>\n      <td>1690</td>\n      <td>19290</td>\n      <td>2014-09-18</td>\n    </tr>\n    <tr>\n      <th>5424</th>\n      <td>380000.0</td>\n      <td>0</td>\n      <td>0.0</td>\n      <td>1470</td>\n      <td>979</td>\n      <td>3.0</td>\n      <td>0</td>\n      <td>2</td>\n      <td>3</td>\n      <td>8</td>\n      <td>1470</td>\n      <td>0</td>\n      <td>2006</td>\n      <td>0</td>\n      <td>98133</td>\n      <td>47.7145</td>\n      <td>-122.356</td>\n      <td>1470</td>\n      <td>1399</td>\n      <td>2015-02-05</td>\n    </tr>\n    <tr>\n      <th>483</th>\n      <td>355000.0</td>\n      <td>0</td>\n      <td>0.0</td>\n      <td>2460</td>\n      <td>8049</td>\n      <td>2.0</td>\n      <td>0</td>\n      <td>0</td>\n      <td>3</td>\n      <td>8</td>\n      <td>2460</td>\n      <td>0</td>\n      <td>1990</td>\n      <td>0</td>\n      <td>98031</td>\n      <td>47.4095</td>\n      <td>-122.168</td>\n      <td>2520</td>\n      <td>8050</td>\n      <td>2015-04-29</td>\n    </tr>\n    <tr>\n      <th>3032</th>\n      <td>235000.0</td>\n      <td>0</td>\n      <td>0.0</td>\n      <td>1470</td>\n      <td>4800</td>\n      <td>2.0</td>\n      <td>0</td>\n      <td>0</td>\n      <td>3</td>\n      <td>7</td>\n      <td>1470</td>\n      <td>0</td>\n      <td>1996</td>\n      <td>0</td>\n      <td>98065</td>\n      <td>47.5265</td>\n      <td>-121.828</td>\n      <td>1060</td>\n      <td>7200</td>\n      <td>2014-12-23</td>\n    </tr>\n    <tr>\n      <th>10067</th>\n      <td>142000.0</td>\n      <td>0</td>\n      <td>0.0</td>\n      <td>290</td>\n      <td>20875</td>\n      <td>1.0</td>\n      <td>0</td>\n      <td>0</td>\n      <td>1</td>\n      <td>1</td>\n      <td>290</td>\n      <td>0</td>\n      <td>1963</td>\n      <td>0</td>\n      <td>98024</td>\n      <td>47.5308</td>\n      <td>-121.888</td>\n      <td>1620</td>\n      <td>22850</td>\n      <td>2014-09-26</td>\n    </tr>\n    <tr>\n      <th>9060</th>\n      <td>75000.0</td>\n      <td>1</td>\n      <td>0.0</td>\n      <td>670</td>\n      <td>43377</td>\n      <td>1.0</td>\n      <td>0</td>\n      <td>0</td>\n      <td>3</td>\n      <td>3</td>\n      <td>670</td>\n      <td>0</td>\n      <td>1966</td>\n      <td>0</td>\n      <td>98022</td>\n      <td>47.2638</td>\n      <td>-121.906</td>\n      <td>1160</td>\n      <td>42882</td>\n      <td>2015-02-17</td>\n    </tr>\n  </tbody>\n</table>\n</div>"
     },
     "metadata": {},
     "execution_count": 29
    }
   ],
   "source": [
    "df[df.bathrooms==0].sort_values('price', ascending=False)"
   ]
  },
  {
   "cell_type": "markdown",
   "metadata": {},
   "source": [
    "**Since we cannot remove any data values from the dataset, I would replace the zero bathroom values with 0.25 since that is the bare minimum for any property.  While properties can have zero bedrooms like studios, but properties must have a bathroom.  Since we have already demonstrated that it has a strong correlation with price, we need to impute some value for the zero values.  What constitutes a quarter bathroom is a bathroom with either a sink, a shower, toilet, or bathtub.  For example, a hallway shower or fresh-up room with single sink would be a 0.25 bathroom.**"
   ]
  },
  {
   "cell_type": "code",
   "execution_count": 30,
   "metadata": {},
   "outputs": [
    {
     "output_type": "execute_result",
     "data": {
      "text/plain": [
       "2.50    4322\n",
       "1.00    3100\n",
       "1.75    2431\n",
       "2.25    1666\n",
       "2.00    1549\n",
       "        ... \n",
       "6.75       2\n",
       "6.25       2\n",
       "7.50       1\n",
       "6.50       1\n",
       "7.75       1\n",
       "Name: bathrooms, Length: 30, dtype: int64"
      ]
     },
     "metadata": {},
     "execution_count": 30
    }
   ],
   "source": [
    "df.replace({'bathrooms': {0: 0.25}}, inplace=True)\n",
    "df.bathrooms.value_counts()"
   ]
  },
  {
   "cell_type": "code",
   "execution_count": 31,
   "metadata": {},
   "outputs": [
    {
     "output_type": "execute_result",
     "data": {
      "text/plain": [
       "           price  bedrooms  bathrooms  sqft_living  sqft_lot  floors  \\\n",
       "6903   7062500.0         5       4.50        10040     37325     2.0   \n",
       "3903   3850000.0         4       4.25         5770     21300     2.0   \n",
       "260    3650000.0         6       4.75         5480     19401     1.5   \n",
       "1020   3640900.0         4       3.25         4830     22257     2.0   \n",
       "10286  3418800.0         5       5.00         5450     20412     2.0   \n",
       "...          ...       ...        ...          ...       ...     ...   \n",
       "8344    635000.0         5       3.50         4150     13232     2.0   \n",
       "13984   633000.0         5       2.75         3630     30570     2.0   \n",
       "2905    575000.0         4       2.50         4620     20793     2.0   \n",
       "5668    556000.0         5       2.50         3840     16905     2.0   \n",
       "3107    550000.0         4       3.00         4180     35169     2.0   \n",
       "\n",
       "       waterfront  view  condition  grade  sqft_above  sqft_basement  \\\n",
       "6903            1     2          3     11        7680           2360   \n",
       "3903            1     4          4     11        5770              0   \n",
       "260             1     4          5     11        3910           1570   \n",
       "1020            1     4          4     11        4830              0   \n",
       "10286           0     0          3     11        5450              0   \n",
       "...           ...   ...        ...    ...         ...            ...   \n",
       "8344            0     0          3     11        4150              0   \n",
       "13984           0     0          3     11        3630              0   \n",
       "2905            0     0          4     11        4620              0   \n",
       "5668            0     0          3     11        3840              0   \n",
       "3107            0     0          3     11        4180              0   \n",
       "\n",
       "       yr_built  yr_renovated  zipcode      lat     long  sqft_living15  \\\n",
       "6903       1940          2001    98004  47.6500 -122.214           3930   \n",
       "3903       1980             0    98040  47.5850 -122.222           4620   \n",
       "260        1936             0    98105  47.6515 -122.277           3510   \n",
       "1020       1990             0    98039  47.6409 -122.241           3820   \n",
       "10286      2014             0    98039  47.6209 -122.237           3160   \n",
       "...         ...           ...      ...      ...      ...            ...   \n",
       "8344       2006             0    98003  47.3417 -122.182           3840   \n",
       "13984      2000             0    98058  47.4243 -122.097           3620   \n",
       "2905       1991             0    98023  47.2929 -122.342           3640   \n",
       "5668       1991             0    98023  47.2996 -122.342           3270   \n",
       "3107       1986          1998    98038  47.4000 -122.027           3010   \n",
       "\n",
       "       sqft_lot15  sale_date  \n",
       "6903        25449 2014-06-11  \n",
       "3903        22748 2014-11-14  \n",
       "260         15810 2015-04-21  \n",
       "1020        25582 2014-09-11  \n",
       "10286       17825 2014-10-07  \n",
       "...           ...        ...  \n",
       "8344        15121 2015-02-06  \n",
       "13984       41965 2014-12-19  \n",
       "2905        20793 2014-06-24  \n",
       "5668        12133 2014-05-23  \n",
       "3107        35190 2014-09-24  \n",
       "\n",
       "[319 rows x 20 columns]"
      ],
      "text/html": "<div>\n<style scoped>\n    .dataframe tbody tr th:only-of-type {\n        vertical-align: middle;\n    }\n\n    .dataframe tbody tr th {\n        vertical-align: top;\n    }\n\n    .dataframe thead th {\n        text-align: right;\n    }\n</style>\n<table border=\"1\" class=\"dataframe\">\n  <thead>\n    <tr style=\"text-align: right;\">\n      <th></th>\n      <th>price</th>\n      <th>bedrooms</th>\n      <th>bathrooms</th>\n      <th>sqft_living</th>\n      <th>sqft_lot</th>\n      <th>floors</th>\n      <th>waterfront</th>\n      <th>view</th>\n      <th>condition</th>\n      <th>grade</th>\n      <th>sqft_above</th>\n      <th>sqft_basement</th>\n      <th>yr_built</th>\n      <th>yr_renovated</th>\n      <th>zipcode</th>\n      <th>lat</th>\n      <th>long</th>\n      <th>sqft_living15</th>\n      <th>sqft_lot15</th>\n      <th>sale_date</th>\n    </tr>\n  </thead>\n  <tbody>\n    <tr>\n      <th>6903</th>\n      <td>7062500.0</td>\n      <td>5</td>\n      <td>4.50</td>\n      <td>10040</td>\n      <td>37325</td>\n      <td>2.0</td>\n      <td>1</td>\n      <td>2</td>\n      <td>3</td>\n      <td>11</td>\n      <td>7680</td>\n      <td>2360</td>\n      <td>1940</td>\n      <td>2001</td>\n      <td>98004</td>\n      <td>47.6500</td>\n      <td>-122.214</td>\n      <td>3930</td>\n      <td>25449</td>\n      <td>2014-06-11</td>\n    </tr>\n    <tr>\n      <th>3903</th>\n      <td>3850000.0</td>\n      <td>4</td>\n      <td>4.25</td>\n      <td>5770</td>\n      <td>21300</td>\n      <td>2.0</td>\n      <td>1</td>\n      <td>4</td>\n      <td>4</td>\n      <td>11</td>\n      <td>5770</td>\n      <td>0</td>\n      <td>1980</td>\n      <td>0</td>\n      <td>98040</td>\n      <td>47.5850</td>\n      <td>-122.222</td>\n      <td>4620</td>\n      <td>22748</td>\n      <td>2014-11-14</td>\n    </tr>\n    <tr>\n      <th>260</th>\n      <td>3650000.0</td>\n      <td>6</td>\n      <td>4.75</td>\n      <td>5480</td>\n      <td>19401</td>\n      <td>1.5</td>\n      <td>1</td>\n      <td>4</td>\n      <td>5</td>\n      <td>11</td>\n      <td>3910</td>\n      <td>1570</td>\n      <td>1936</td>\n      <td>0</td>\n      <td>98105</td>\n      <td>47.6515</td>\n      <td>-122.277</td>\n      <td>3510</td>\n      <td>15810</td>\n      <td>2015-04-21</td>\n    </tr>\n    <tr>\n      <th>1020</th>\n      <td>3640900.0</td>\n      <td>4</td>\n      <td>3.25</td>\n      <td>4830</td>\n      <td>22257</td>\n      <td>2.0</td>\n      <td>1</td>\n      <td>4</td>\n      <td>4</td>\n      <td>11</td>\n      <td>4830</td>\n      <td>0</td>\n      <td>1990</td>\n      <td>0</td>\n      <td>98039</td>\n      <td>47.6409</td>\n      <td>-122.241</td>\n      <td>3820</td>\n      <td>25582</td>\n      <td>2014-09-11</td>\n    </tr>\n    <tr>\n      <th>10286</th>\n      <td>3418800.0</td>\n      <td>5</td>\n      <td>5.00</td>\n      <td>5450</td>\n      <td>20412</td>\n      <td>2.0</td>\n      <td>0</td>\n      <td>0</td>\n      <td>3</td>\n      <td>11</td>\n      <td>5450</td>\n      <td>0</td>\n      <td>2014</td>\n      <td>0</td>\n      <td>98039</td>\n      <td>47.6209</td>\n      <td>-122.237</td>\n      <td>3160</td>\n      <td>17825</td>\n      <td>2014-10-07</td>\n    </tr>\n    <tr>\n      <th>...</th>\n      <td>...</td>\n      <td>...</td>\n      <td>...</td>\n      <td>...</td>\n      <td>...</td>\n      <td>...</td>\n      <td>...</td>\n      <td>...</td>\n      <td>...</td>\n      <td>...</td>\n      <td>...</td>\n      <td>...</td>\n      <td>...</td>\n      <td>...</td>\n      <td>...</td>\n      <td>...</td>\n      <td>...</td>\n      <td>...</td>\n      <td>...</td>\n      <td>...</td>\n    </tr>\n    <tr>\n      <th>8344</th>\n      <td>635000.0</td>\n      <td>5</td>\n      <td>3.50</td>\n      <td>4150</td>\n      <td>13232</td>\n      <td>2.0</td>\n      <td>0</td>\n      <td>0</td>\n      <td>3</td>\n      <td>11</td>\n      <td>4150</td>\n      <td>0</td>\n      <td>2006</td>\n      <td>0</td>\n      <td>98003</td>\n      <td>47.3417</td>\n      <td>-122.182</td>\n      <td>3840</td>\n      <td>15121</td>\n      <td>2015-02-06</td>\n    </tr>\n    <tr>\n      <th>13984</th>\n      <td>633000.0</td>\n      <td>5</td>\n      <td>2.75</td>\n      <td>3630</td>\n      <td>30570</td>\n      <td>2.0</td>\n      <td>0</td>\n      <td>0</td>\n      <td>3</td>\n      <td>11</td>\n      <td>3630</td>\n      <td>0</td>\n      <td>2000</td>\n      <td>0</td>\n      <td>98058</td>\n      <td>47.4243</td>\n      <td>-122.097</td>\n      <td>3620</td>\n      <td>41965</td>\n      <td>2014-12-19</td>\n    </tr>\n    <tr>\n      <th>2905</th>\n      <td>575000.0</td>\n      <td>4</td>\n      <td>2.50</td>\n      <td>4620</td>\n      <td>20793</td>\n      <td>2.0</td>\n      <td>0</td>\n      <td>0</td>\n      <td>4</td>\n      <td>11</td>\n      <td>4620</td>\n      <td>0</td>\n      <td>1991</td>\n      <td>0</td>\n      <td>98023</td>\n      <td>47.2929</td>\n      <td>-122.342</td>\n      <td>3640</td>\n      <td>20793</td>\n      <td>2014-06-24</td>\n    </tr>\n    <tr>\n      <th>5668</th>\n      <td>556000.0</td>\n      <td>5</td>\n      <td>2.50</td>\n      <td>3840</td>\n      <td>16905</td>\n      <td>2.0</td>\n      <td>0</td>\n      <td>0</td>\n      <td>3</td>\n      <td>11</td>\n      <td>3840</td>\n      <td>0</td>\n      <td>1991</td>\n      <td>0</td>\n      <td>98023</td>\n      <td>47.2996</td>\n      <td>-122.342</td>\n      <td>3270</td>\n      <td>12133</td>\n      <td>2014-05-23</td>\n    </tr>\n    <tr>\n      <th>3107</th>\n      <td>550000.0</td>\n      <td>4</td>\n      <td>3.00</td>\n      <td>4180</td>\n      <td>35169</td>\n      <td>2.0</td>\n      <td>0</td>\n      <td>0</td>\n      <td>3</td>\n      <td>11</td>\n      <td>4180</td>\n      <td>0</td>\n      <td>1986</td>\n      <td>1998</td>\n      <td>98038</td>\n      <td>47.4000</td>\n      <td>-122.027</td>\n      <td>3010</td>\n      <td>35190</td>\n      <td>2014-09-24</td>\n    </tr>\n  </tbody>\n</table>\n<p>319 rows × 20 columns</p>\n</div>"
     },
     "metadata": {},
     "execution_count": 31
    }
   ],
   "source": [
    "df[df.grade==11].sort_values('price', ascending=False)"
   ]
  },
  {
   "cell_type": "markdown",
   "metadata": {},
   "source": [
    "**If we investigate this top outlier that we identified through our data visualization, it immediately becomes apparent that the increase in `price` can be explained by the combination of any of the following: increase in `sqft_living`, `sqft_lot`, and `sqft_basement`, and the recent renovation.  Based on this information, it would not be considered an outlier based on that level of `grade`.**"
   ]
  },
  {
   "cell_type": "code",
   "execution_count": 32,
   "metadata": {},
   "outputs": [
    {
     "output_type": "execute_result",
     "data": {
      "text/plain": [
       "           price  bedrooms  bathrooms  sqft_living  sqft_lot  floors  \\\n",
       "6903   7062500.0         5        4.5        10040     37325     2.0   \n",
       "7823   3567000.0         5        4.5         4850     10584     2.0   \n",
       "5293   3200000.0         7        4.5         6210      8856     2.5   \n",
       "16000  2945000.0         5        4.5         4340      5722     3.0   \n",
       "3181   2600000.0         4        4.5         5270     12195     2.0   \n",
       "...          ...       ...        ...          ...       ...     ...   \n",
       "1835    482500.0         6        4.5         2940      7500     1.5   \n",
       "14681   460000.0         5        4.5         3100      7260     2.0   \n",
       "13472   389000.0         6        4.5         3560     14010     2.0   \n",
       "9118    350000.0         6        4.5         3500      8504     2.0   \n",
       "9224    290000.0         6        4.5         2810     11214     1.0   \n",
       "\n",
       "       waterfront  view  condition  grade  sqft_above  sqft_basement  \\\n",
       "6903            1     2          3     11        7680           2360   \n",
       "7823            1     4          3     10        3540           1310   \n",
       "5293            0     2          5     11        4760           1450   \n",
       "16000           0     4          3     10        4340              0   \n",
       "3181            1     4          3     11        3400           1870   \n",
       "...           ...   ...        ...    ...         ...            ...   \n",
       "1835            0     0          4      8        2940              0   \n",
       "14681           0     0          3      8        3100              0   \n",
       "13472           0     0          3      7        3560              0   \n",
       "9118            0     0          3      7        3500              0   \n",
       "9224            0     0          3      8        2010            800   \n",
       "\n",
       "       yr_built  yr_renovated  zipcode      lat     long  sqft_living15  \\\n",
       "6903       1940          2001    98004  47.6500 -122.214           3930   \n",
       "7823       2007             0    98008  47.5943 -122.110           3470   \n",
       "5293       1910             0    98109  47.6307 -122.354           2940   \n",
       "16000      2010             0    98107  47.6715 -122.406           1770   \n",
       "3181       1979             0    98027  47.5696 -122.090           3390   \n",
       "...         ...           ...      ...      ...      ...            ...   \n",
       "1835       1966             0    98034  47.7208 -122.182           2010   \n",
       "14681      1963          2000    98059  47.5004 -122.162           1650   \n",
       "13472      1989             0    98002  47.3244 -122.217           1710   \n",
       "9118       1980             0    98155  47.7351 -122.295           1550   \n",
       "9224       1958             0    98031  47.4045 -122.197           1940   \n",
       "\n",
       "       sqft_lot15  sale_date  \n",
       "6903        25449 2014-06-11  \n",
       "7823        18270 2015-01-07  \n",
       "5293         5400 2014-05-07  \n",
       "16000        5250 2015-03-04  \n",
       "3181         9905 2014-12-16  \n",
       "...           ...        ...  \n",
       "1835         7500 2014-09-05  \n",
       "14681        7700 2015-02-25  \n",
       "13472       11116 2015-05-06  \n",
       "9118         8460 2014-09-17  \n",
       "9224         8349 2014-07-31  \n",
       "\n",
       "[76 rows x 20 columns]"
      ],
      "text/html": "<div>\n<style scoped>\n    .dataframe tbody tr th:only-of-type {\n        vertical-align: middle;\n    }\n\n    .dataframe tbody tr th {\n        vertical-align: top;\n    }\n\n    .dataframe thead th {\n        text-align: right;\n    }\n</style>\n<table border=\"1\" class=\"dataframe\">\n  <thead>\n    <tr style=\"text-align: right;\">\n      <th></th>\n      <th>price</th>\n      <th>bedrooms</th>\n      <th>bathrooms</th>\n      <th>sqft_living</th>\n      <th>sqft_lot</th>\n      <th>floors</th>\n      <th>waterfront</th>\n      <th>view</th>\n      <th>condition</th>\n      <th>grade</th>\n      <th>sqft_above</th>\n      <th>sqft_basement</th>\n      <th>yr_built</th>\n      <th>yr_renovated</th>\n      <th>zipcode</th>\n      <th>lat</th>\n      <th>long</th>\n      <th>sqft_living15</th>\n      <th>sqft_lot15</th>\n      <th>sale_date</th>\n    </tr>\n  </thead>\n  <tbody>\n    <tr>\n      <th>6903</th>\n      <td>7062500.0</td>\n      <td>5</td>\n      <td>4.5</td>\n      <td>10040</td>\n      <td>37325</td>\n      <td>2.0</td>\n      <td>1</td>\n      <td>2</td>\n      <td>3</td>\n      <td>11</td>\n      <td>7680</td>\n      <td>2360</td>\n      <td>1940</td>\n      <td>2001</td>\n      <td>98004</td>\n      <td>47.6500</td>\n      <td>-122.214</td>\n      <td>3930</td>\n      <td>25449</td>\n      <td>2014-06-11</td>\n    </tr>\n    <tr>\n      <th>7823</th>\n      <td>3567000.0</td>\n      <td>5</td>\n      <td>4.5</td>\n      <td>4850</td>\n      <td>10584</td>\n      <td>2.0</td>\n      <td>1</td>\n      <td>4</td>\n      <td>3</td>\n      <td>10</td>\n      <td>3540</td>\n      <td>1310</td>\n      <td>2007</td>\n      <td>0</td>\n      <td>98008</td>\n      <td>47.5943</td>\n      <td>-122.110</td>\n      <td>3470</td>\n      <td>18270</td>\n      <td>2015-01-07</td>\n    </tr>\n    <tr>\n      <th>5293</th>\n      <td>3200000.0</td>\n      <td>7</td>\n      <td>4.5</td>\n      <td>6210</td>\n      <td>8856</td>\n      <td>2.5</td>\n      <td>0</td>\n      <td>2</td>\n      <td>5</td>\n      <td>11</td>\n      <td>4760</td>\n      <td>1450</td>\n      <td>1910</td>\n      <td>0</td>\n      <td>98109</td>\n      <td>47.6307</td>\n      <td>-122.354</td>\n      <td>2940</td>\n      <td>5400</td>\n      <td>2014-05-07</td>\n    </tr>\n    <tr>\n      <th>16000</th>\n      <td>2945000.0</td>\n      <td>5</td>\n      <td>4.5</td>\n      <td>4340</td>\n      <td>5722</td>\n      <td>3.0</td>\n      <td>0</td>\n      <td>4</td>\n      <td>3</td>\n      <td>10</td>\n      <td>4340</td>\n      <td>0</td>\n      <td>2010</td>\n      <td>0</td>\n      <td>98107</td>\n      <td>47.6715</td>\n      <td>-122.406</td>\n      <td>1770</td>\n      <td>5250</td>\n      <td>2015-03-04</td>\n    </tr>\n    <tr>\n      <th>3181</th>\n      <td>2600000.0</td>\n      <td>4</td>\n      <td>4.5</td>\n      <td>5270</td>\n      <td>12195</td>\n      <td>2.0</td>\n      <td>1</td>\n      <td>4</td>\n      <td>3</td>\n      <td>11</td>\n      <td>3400</td>\n      <td>1870</td>\n      <td>1979</td>\n      <td>0</td>\n      <td>98027</td>\n      <td>47.5696</td>\n      <td>-122.090</td>\n      <td>3390</td>\n      <td>9905</td>\n      <td>2014-12-16</td>\n    </tr>\n    <tr>\n      <th>...</th>\n      <td>...</td>\n      <td>...</td>\n      <td>...</td>\n      <td>...</td>\n      <td>...</td>\n      <td>...</td>\n      <td>...</td>\n      <td>...</td>\n      <td>...</td>\n      <td>...</td>\n      <td>...</td>\n      <td>...</td>\n      <td>...</td>\n      <td>...</td>\n      <td>...</td>\n      <td>...</td>\n      <td>...</td>\n      <td>...</td>\n      <td>...</td>\n      <td>...</td>\n    </tr>\n    <tr>\n      <th>1835</th>\n      <td>482500.0</td>\n      <td>6</td>\n      <td>4.5</td>\n      <td>2940</td>\n      <td>7500</td>\n      <td>1.5</td>\n      <td>0</td>\n      <td>0</td>\n      <td>4</td>\n      <td>8</td>\n      <td>2940</td>\n      <td>0</td>\n      <td>1966</td>\n      <td>0</td>\n      <td>98034</td>\n      <td>47.7208</td>\n      <td>-122.182</td>\n      <td>2010</td>\n      <td>7500</td>\n      <td>2014-09-05</td>\n    </tr>\n    <tr>\n      <th>14681</th>\n      <td>460000.0</td>\n      <td>5</td>\n      <td>4.5</td>\n      <td>3100</td>\n      <td>7260</td>\n      <td>2.0</td>\n      <td>0</td>\n      <td>0</td>\n      <td>3</td>\n      <td>8</td>\n      <td>3100</td>\n      <td>0</td>\n      <td>1963</td>\n      <td>2000</td>\n      <td>98059</td>\n      <td>47.5004</td>\n      <td>-122.162</td>\n      <td>1650</td>\n      <td>7700</td>\n      <td>2015-02-25</td>\n    </tr>\n    <tr>\n      <th>13472</th>\n      <td>389000.0</td>\n      <td>6</td>\n      <td>4.5</td>\n      <td>3560</td>\n      <td>14010</td>\n      <td>2.0</td>\n      <td>0</td>\n      <td>0</td>\n      <td>3</td>\n      <td>7</td>\n      <td>3560</td>\n      <td>0</td>\n      <td>1989</td>\n      <td>0</td>\n      <td>98002</td>\n      <td>47.3244</td>\n      <td>-122.217</td>\n      <td>1710</td>\n      <td>11116</td>\n      <td>2015-05-06</td>\n    </tr>\n    <tr>\n      <th>9118</th>\n      <td>350000.0</td>\n      <td>6</td>\n      <td>4.5</td>\n      <td>3500</td>\n      <td>8504</td>\n      <td>2.0</td>\n      <td>0</td>\n      <td>0</td>\n      <td>3</td>\n      <td>7</td>\n      <td>3500</td>\n      <td>0</td>\n      <td>1980</td>\n      <td>0</td>\n      <td>98155</td>\n      <td>47.7351</td>\n      <td>-122.295</td>\n      <td>1550</td>\n      <td>8460</td>\n      <td>2014-09-17</td>\n    </tr>\n    <tr>\n      <th>9224</th>\n      <td>290000.0</td>\n      <td>6</td>\n      <td>4.5</td>\n      <td>2810</td>\n      <td>11214</td>\n      <td>1.0</td>\n      <td>0</td>\n      <td>0</td>\n      <td>3</td>\n      <td>8</td>\n      <td>2010</td>\n      <td>800</td>\n      <td>1958</td>\n      <td>0</td>\n      <td>98031</td>\n      <td>47.4045</td>\n      <td>-122.197</td>\n      <td>1940</td>\n      <td>8349</td>\n      <td>2014-07-31</td>\n    </tr>\n  </tbody>\n</table>\n<p>76 rows × 20 columns</p>\n</div>"
     },
     "metadata": {},
     "execution_count": 32
    }
   ],
   "source": [
    "df[df.bathrooms==4.5].sort_values('price', ascending=False)"
   ]
  },
  {
   "cell_type": "markdown",
   "metadata": {},
   "source": [
    "**If we pick another outlier to explore like the apparent high housing price value in the category of 4.5 bathrooms, once again, there is a substantive increase in `sqft_living` and `sqft_lot`, plus `renovated`. Based on analyzing these two values, I have decided not to change any apparent outliers.**"
   ]
  },
  {
   "cell_type": "markdown",
   "metadata": {
    "id": "-3EyjfOLwGJT"
   },
   "source": [
    "# Feature Engineering\n",
    "\n",
    "The goal of feature engineering is to prepare the data for the machine learning algorithms and to improve the performance of the models. The different techniques involved include creating dummy variables for our categorical variables, perform any transformations or scaling, binning, or any new features based on your EDA analysis.\n",
    "\n",
    "Log transformations consist of taking the log of each observation, where the back transformation is raise 10 or 3 to the power of the number. In the instance where different indepedent factors relate in the following fashion, (factor)*(factor)*(factor)*(factor), i.e. a multiplicative process, the function is log-normal. In biology, size data would be representative of such a dataset, i.e. height of trees.  It is used to handle skewed data in creating a more normal distribution, as well as decreasing the effect of outliers.\n",
    "\n",
    "Square root transformations consists of taking the sqaure root of each observation, where the back transformation is to square the number.  Count data, like bacteria in a petri dish or mutations in a population, can be transformed for a more normal distributions.  Reciprocal transformations.... \n",
    "\n",
    "Scaling techniques normalize the scale of various indepedent variables, which include mean normalization, standardization, robust scaling (median and IQR), min-max scaling, for certain algorithms that are particularly sensitive to feature magnitude. Variables with a greater magnitude often dominate over those with a smaller magnitude range, and the scale directly influences the regression coefficient."
   ]
  },
  {
   "cell_type": "code",
   "execution_count": 33,
   "metadata": {
    "colab": {
     "base_uri": "https://localhost:8080/"
    },
    "id": "c_jKZgGkwJt3",
    "outputId": "9916eb7c-931e-4273-bab0-b2c1882d1276"
   },
   "outputs": [
    {
     "output_type": "execute_result",
     "data": {
      "text/plain": [
       " 0      418\n",
       " 9      385\n",
       " 11     375\n",
       " 10     372\n",
       " 8      370\n",
       "       ... \n",
       " 112     22\n",
       " 115     17\n",
       " 81      15\n",
       " 80      12\n",
       "-1       10\n",
       "Name: sale_age, Length: 117, dtype: int64"
      ]
     },
     "metadata": {},
     "execution_count": 33
    }
   ],
   "source": [
    "# Create new feature to incorporate built and renovation year\n",
    "df['sale_age'] = df.sale_date.dt.year - df[['yr_built', 'yr_renovated']].max(axis=1)\n",
    "# Reset display options set in the beginning\n",
    "pd.set_option('display.max_rows', 20)\n",
    "# Look for anomalous values\n",
    "df.sale_age.value_counts(ascending=False)"
   ]
  },
  {
   "cell_type": "code",
   "execution_count": 34,
   "metadata": {
    "colab": {
     "base_uri": "https://localhost:8080/"
    },
    "id": "Febi-9F2CESL",
    "outputId": "b4c9cf10-bd52-4dc3-cf05-cf52039b525d"
   },
   "outputs": [
    {
     "output_type": "execute_result",
     "data": {
      "text/plain": [
       "0      428\n",
       "9      385\n",
       "11     375\n",
       "10     372\n",
       "8      370\n",
       "      ... \n",
       "113     23\n",
       "112     22\n",
       "115     17\n",
       "81      15\n",
       "80      12\n",
       "Name: sale_age, Length: 116, dtype: int64"
      ]
     },
     "metadata": {},
     "execution_count": 34
    }
   ],
   "source": [
    "# Replace anomalous values\n",
    "df.replace({'sale_age': {-1: 0}}, inplace=True)\n",
    "df.sale_age.value_counts()"
   ]
  },
  {
   "cell_type": "code",
   "execution_count": 35,
   "metadata": {},
   "outputs": [],
   "source": [
    "# x = df.groupby('sale_age').price.mean().index\n",
    "# y = df.groupby('sale_age').price.mean().values\n",
    "# sns.regplot(x, y)\n",
    "# plt.savefig('images/sale_age_regplot.png')"
   ]
  },
  {
   "source": [
    "<img src=\"images/sale_age_regplot.png\">"
   ],
   "cell_type": "markdown",
   "metadata": {}
  },
  {
   "cell_type": "code",
   "execution_count": 36,
   "metadata": {},
   "outputs": [],
   "source": [
    "df['age'] = df.sale_date.dt.year - df.yr_built"
   ]
  },
  {
   "cell_type": "code",
   "execution_count": 37,
   "metadata": {},
   "outputs": [],
   "source": [
    "# x = df.groupby('age').price.mean().index\n",
    "# y = df.groupby('age').price.mean().values\n",
    "# sns.regplot(x, y)\n",
    "# plt.savefig('images/age_regplot.png')"
   ]
  },
  {
   "source": [
    "<img src='images/age_regplot.png'>"
   ],
   "cell_type": "markdown",
   "metadata": {}
  },
  {
   "cell_type": "code",
   "execution_count": 38,
   "metadata": {},
   "outputs": [
    {
     "output_type": "execute_result",
     "data": {
      "text/plain": [
       "9      363\n",
       "0      357\n",
       "11     351\n",
       "10     345\n",
       "8      338\n",
       "      ... \n",
       "112     24\n",
       "113     23\n",
       "115     22\n",
       "81      22\n",
       "80      18\n",
       "Name: age, Length: 116, dtype: int64"
      ]
     },
     "metadata": {},
     "execution_count": 38
    }
   ],
   "source": [
    "df.replace({'age': {-1: 0}}, inplace=True)\n",
    "df.age.value_counts()"
   ]
  },
  {
   "cell_type": "code",
   "execution_count": 39,
   "metadata": {
    "id": "1xz5uIwXNDQD"
   },
   "outputs": [],
   "source": [
    "# Create binary variable for whether there has been a renovation, has a bathroom, and has been viewed\n",
    "df['renovated'] = df.yr_renovated.apply(lambda x: x if x==0 else 1)\n",
    "df['basement'] = df.sqft_basement.apply(lambda x: x if x==0 else 1)\n",
    "df['viewed'] = df.view.apply(lambda x: x if x==0 else 1)\n",
    "# Drop original columms as well as the sale_date columns since it is in datetime format\n",
    "df.drop(['yr_built', 'yr_renovated', 'sale_date', 'sqft_basement', 'view'], inplace=True, axis=1)"
   ]
  },
  {
   "cell_type": "code",
   "execution_count": 40,
   "metadata": {},
   "outputs": [
    {
     "output_type": "stream",
     "name": "stdout",
     "text": [
      "0    10484\n1     6806\nName: basement, dtype: int64\n0    15571\n1     1719\nName: viewed, dtype: int64\n0    16564\n1      726\nName: renovated, dtype: int64\n"
     ]
    }
   ],
   "source": [
    "# Check for any anomalous values\n",
    "print(df.basement.value_counts())\n",
    "print(df.viewed.value_counts())\n",
    "print(df.renovated.value_counts())"
   ]
  },
  {
   "cell_type": "code",
   "execution_count": 41,
   "metadata": {},
   "outputs": [],
   "source": [
    "# feat_cat_2 = df[['renovated', 'viewed', 'basement']]\n",
    "# col_cat_2 = feat_cat_2.columns\n",
    "# cat_4 = pd.melt(df, id_vars='price', value_vars=col_cat_2)\n",
    "# g = sns.FacetGrid(cat_4, col='variable', col_wrap=3, sharex=False, sharey=False, height=4)\n",
    "# g = g.map(sns.barplot, 'value', 'price')\n",
    "# g.set_xticklabels\n",
    "# plt.savefig(\"images/df_barplot.png\")"
   ]
  },
  {
   "source": [
    "<img src='images/df_barplot.png'>"
   ],
   "cell_type": "markdown",
   "metadata": {}
  },
  {
   "cell_type": "code",
   "execution_count": null,
   "metadata": {},
   "outputs": [],
   "source": []
  },
  {
   "cell_type": "markdown",
   "metadata": {},
   "source": [
    "# Statistical Tests\n",
    "\n",
    "We conduct our statistical tests to provide answers for our preliminary and exploratory questions about what features affect housing values.  The goal for conducting the regression models is to find what features best predict housing values."
   ]
  },
  {
   "cell_type": "markdown",
   "metadata": {},
   "source": [
    "### Question 1: Do renovated properties have a higher selling price than unrenovated properties?\n",
    "\n",
    "To answer this question, we conduct a Welch's T-test which does not assume equal population variance to compare the means of two independent sample populations, which in this case is the mean selling price for renovated vs. unrenovated properties.\n",
    "\n",
    "**Difference of Two Means**\n",
    "\n",
    "$$H_o: \\mu_1 = \\mu_2$$  \n",
    "\n",
    "The null hypothesis is that there is no statistically significant difference between the housing price means of the two groups, renovated and not renovated. \n",
    "\n",
    "$$H_a: \\mu_1 \\neq \\mu_2$$  \n",
    "\n",
    "The alternate hypothesis is that there is statistically significant difference between the housing price means of the two groups.\n",
    "\n"
   ]
  },
  {
   "cell_type": "code",
   "execution_count": 42,
   "metadata": {},
   "outputs": [
    {
     "output_type": "stream",
     "name": "stdout",
     "text": [
      "P-value for T-Test:  6.478917377975333e-20\nWe reject the null hypothesis, and the sample populations are statistical different. Price is correlated with whether the property is renovated or not.\n"
     ]
    }
   ],
   "source": [
    "renovated = df[df.renovated==1]\n",
    "not_renovated = df[df.renovated==0]\n",
    "p_value = stats.ttest_ind(renovated.price, not_renovated.price, equal_var=False)[1]\n",
    "print(\"P-value for T-Test: \", p_value)\n",
    "if p_value < 0.05:\n",
    "    print('We reject the null hypothesis, and the sample populations are statistical different. Price is correlated with whether the property is renovated or not.')\n",
    "else:\n",
    "    print('We do not reject the null hypothesis')"
   ]
  },
  {
   "cell_type": "markdown",
   "metadata": {},
   "source": [
    "### Question 2: Does whether or not a property has been viewed have any effect on selling price?\n",
    "\n",
    "To answer this question, we also conduct a Welch's T-test to compare the means of the sample populations of viewed and not viewed.\n",
    "\n",
    "**Difference of Two Means**\n",
    "\n",
    "$$H_o: \\mu_1 = \\mu_2$$  \n",
    "\n",
    "The null hypothesis is that there is no statistically significant difference between the housing price means of the two groups, viewed and not viewed. \n",
    "\n",
    "$$H_a: \\mu_1 \\neq \\mu_2$$  \n",
    "\n",
    "The alternate hypothesis is that there is statistically significant difference between the housing price means of the two groups."
   ]
  },
  {
   "cell_type": "code",
   "execution_count": 43,
   "metadata": {},
   "outputs": [
    {
     "output_type": "stream",
     "name": "stdout",
     "text": [
      "P-value for T-Test:  2.784996317762731e-131\nWe reject the null hypothesis, and the sample populations are statistical different. Price is correlated with whether the property has been viewed or not.\n"
     ]
    }
   ],
   "source": [
    "viewed = df[df.viewed==1]\n",
    "not_viewed = df[df.viewed==0]\n",
    "p_value = stats.ttest_ind(viewed.price, not_viewed.price, equal_var=False)[1]\n",
    "print(\"P-value for T-Test: \", p_value)\n",
    "if p_value < 0.05:\n",
    "    print('We reject the null hypothesis, and the sample populations are statistical different. Price is correlated with whether the property has been viewed or not.')\n",
    "else:\n",
    "    print('Do Not Reject Null Hypothesis')"
   ]
  },
  {
   "cell_type": "markdown",
   "metadata": {},
   "source": [
    "### Question 3: Does the grade given to the housing unit have an overall effect on the selling price?\n",
    "\n",
    "**One-Way ANOVA for Variance Between Multiple Means**\n",
    "\n",
    "$$H_o : \\mu_1 = \\mu_2 = \\mu_3 = \\mu_4 = \\mu_5$$\n",
    "\n",
    "Null Hypothesis is that there is no statistically significant difference between the housing price means between the different grades.\n",
    "\n",
    "$$H_a : \\mu_1 \\neq \\mu_2 \\text{ or } \\mu_2 \\neq \\mu_3 \\text{ or } \\mu_1 \\neq \\mu_3...$$\n",
    "\n",
    "Alternative Hypothesis is that there is statistically significant difference of the housing price means of at least one of the grades."
   ]
  },
  {
   "cell_type": "markdown",
   "metadata": {},
   "source": []
  },
  {
   "cell_type": "code",
   "execution_count": 44,
   "metadata": {},
   "outputs": [
    {
     "output_type": "stream",
     "name": "stdout",
     "text": [
      "F-stat Probability:  0.0\nWe reject the null hypothesis, and at least one of the sample populations is statistically different. Price is correlated with at least one of the grade categories.\n"
     ]
    }
   ],
   "source": [
    "formula = 'price~grade'\n",
    "lm_condition = ols(formula, df).fit()\n",
    "anova_condition = sm.stats.anova_lm(lm_condition, type=2)\n",
    "print('F-stat Probability: ', anova_condition[\"PR(>F)\"][0])\n",
    "if anova_condition['PR(>F)'][0] < 0.05:\n",
    "    print(\"We reject the null hypothesis, and at least one of the sample populations is statistically different. Price is correlated with at least one of the grade categories.\")\n",
    "else:\n",
    "    print(\"Do Not Reject Null Hypothesis\")"
   ]
  },
  {
   "cell_type": "code",
   "execution_count": 104,
   "metadata": {},
   "outputs": [],
   "source": [
    "df.to_csv('data/modeling.csv', index=False)"
   ]
  },
  {
   "cell_type": "markdown",
   "metadata": {},
   "source": [
    "# Prediction with Holdout Set"
   ]
  },
  {
   "cell_type": "code",
   "execution_count": 243,
   "metadata": {},
   "outputs": [],
   "source": [
    "# read csv file\n",
    "df = pd.read_csv('data/kc_house_data_test_features.csv', index_col=0)\n"
   ]
  },
  {
   "cell_type": "code",
   "execution_count": null,
   "metadata": {},
   "outputs": [],
   "source": [
    "# data preprocessing\n",
    "df['sale_date'] = [x[:8] for x in df.date]\n",
    "df.sale_date = df.sale_date.apply(lambda x: datetime.strptime(x, '%Y%m%d'))\n",
    "df.drop(columns='date', inplace=True)\n",
    "df.drop(['id'], inplace=True, axis=1)\n",
    "df.replace({'bedrooms': {33: 3}}, inplace=True)\n",
    "df.replace({'bedrooms': {11: 1}}, inplace=True)\n",
    "df['sale_age'] = df.sale_date.dt.year - df[['yr_built', 'yr_renovated']].max(axis=1)\n",
    "df.replace({'sale_age': {-1: 0}}, inplace=True)\n",
    "df['renovated'] = df.yr_renovated.apply(lambda x: x if x==0 else 1)\n",
    "df['basement'] = df.sqft_basement.apply(lambda x: x if x==0 else 1)\n",
    "df['viewed'] = df.view.apply(lambda x: x if x==0 else 1)\n",
    "df.drop(['yr_built', 'yr_renovated', 'sale_date', 'sqft_basement', 'view'], inplace=True, axis=1)"
   ]
  },
  {
   "cell_type": "code",
   "execution_count": null,
   "metadata": {},
   "outputs": [],
   "source": [
    "# dummy variables\n",
    "index_dum = df[['bedrooms', 'bathrooms', 'floors', 'condition', 'grade']].columns\n",
    "df_dum = pd.get_dummies(data=df, columns=index_dum, drop_first=True, prefix=['bdr', 'bth', 'flr', 'cnd', 'grd'])\n",
    "# polynomial and interaction features\n",
    "poly = PolynomialFeatures(degree=2, include_bias=False)\n",
    "poly_data = poly.fit_transform(df_dum)\n",
    "poly_columns = poly.get_feature_names(df_dum.columns)\n",
    "df_poly = pd.DataFrame(poly_data, columns=poly_columns)"
   ]
  },
  {
   "cell_type": "code",
   "execution_count": null,
   "metadata": {},
   "outputs": [],
   "source": [
    "# subset identified by K-Best\n",
    "features = df_poly[['sqft_living', 'sqft_above', 'sqft_living15', 'sqft_living^2',\n",
    "       'sqft_living sqft_above', 'sqft_living zipcode', 'sqft_living lat',\n",
    "       'sqft_living long', 'sqft_living sqft_living15', 'sqft_living viewed',\n",
    "       'sqft_above^2', 'sqft_above zipcode', 'sqft_above lat',\n",
    "       'sqft_above long', 'sqft_above sqft_living15', 'sqft_above viewed',\n",
    "       'zipcode sqft_living15', 'lat sqft_living15', 'long sqft_living15',\n",
    "       'sqft_living15^2']]"
   ]
  },
  {
   "cell_type": "code",
   "execution_count": null,
   "metadata": {},
   "outputs": [],
   "source": [
    "# Scaling\n",
    "scaler = StandardScaler()\n",
    "features = pd.DataFrame(data=scaler.fit_transform(features), columns=features.columns)"
   ]
  },
  {
   "cell_type": "code",
   "execution_count": null,
   "metadata": {},
   "outputs": [],
   "source": [
    "# Load pickle\n",
    "with open('data/model.pickle', 'rb') as file:\n",
    "    final_answer = pickle.load(file)\n",
    "final_answers = final_answer.predict(features)"
   ]
  },
  {
   "cell_type": "code",
   "execution_count": null,
   "metadata": {},
   "outputs": [],
   "source": [
    "# Write prediction to CSV file\n",
    "pd.DataFrame(final_answers, columns=['predictions']).to_csv('housing_preds_Steven_Yan.csv')"
   ]
  }
 ],
 "metadata": {
  "colab": {
   "collapsed_sections": [
    "Pc4bI8ZY41kQ",
    "IdkIjAZsjRVj",
    "obC7MlVYxJbt",
    "xryxIncCptrZ"
   ],
   "name": "Housing_Data_Analysis_and_Prediction_jpynb.ipynb",
   "provenance": []
  },
  "kernelspec": {
   "display_name": "Python 3",
   "language": "python",
   "name": "python3"
  },
  "language_info": {
   "codemirror_mode": {
    "name": "ipython",
    "version": 3
   },
   "file_extension": ".py",
   "mimetype": "text/x-python",
   "name": "python",
   "nbconvert_exporter": "python",
   "pygments_lexer": "ipython3",
   "version": "3.9.1-final"
  }
 },
 "nbformat": 4,
 "nbformat_minor": 1
}