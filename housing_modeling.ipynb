{
 "metadata": {
  "language_info": {
   "codemirror_mode": {
    "name": "ipython",
    "version": 3
   },
   "file_extension": ".py",
   "mimetype": "text/x-python",
   "name": "python",
   "nbconvert_exporter": "python",
   "pygments_lexer": "ipython3",
   "version": "3.9.1-final"
  },
  "orig_nbformat": 2,
  "kernelspec": {
   "name": "python3",
   "display_name": "Python 3",
   "language": "python"
  }
 },
 "nbformat": 4,
 "nbformat_minor": 2,
 "cells": [
  {
   "cell_type": "code",
   "execution_count": 26,
   "metadata": {},
   "outputs": [],
   "source": [
    "import pandas as pd\n",
    "import warnings\n",
    "import numpy as np\n",
    "import seaborn as sns\n",
    "import matplotlib.pyplot as plt\n",
    "warnings.filterwarnings('ignore')\n",
    "%matplotlib inline\n",
    "plt.style.use(\"fivethirtyeight\")\n",
    "\n",
    "# import modules for preprocessing\n",
    "from sklearn import tree\n",
    "from sklearn.linear_model import LinearRegression, Lasso, Ridge, LassoCV, LassoLarsCV, LassoLarsIC\n",
    "from sklearn.model_selection import train_test_split, cross_val_score\n",
    "from sklearn.feature_selection import RFE, SelectKBest, f_regression, RFECV\n",
    "from sklearn.preprocessing import PolynomialFeatures, StandardScaler,OneHotEncoder\n",
    "from sklearn.metrics import r2_score, mean_absolute_error, mean_squared_error, make_scorer\n",
    "from sklearn.tree import DecisionTreeRegressor\n",
    "from sklearn.model_selection import validation_curve, GridSearchCV\n",
    "from sklearn.pipeline import make_pipeline\n",
    "from sklearn.ensemble import RandomForestRegressor\n",
    "\n",
    "def root_mean_squared_error(y, y_pred):\n",
    "    return np.sqrt(mean_squared_error(y, y_pred))\n",
    "def bias(y, y_pred):\n",
    "\treturn np.mean(y_pred - y)\n",
    "def variance(y_pred):\n",
    "\treturn np.mean([yi**2 for yi in y_pred]) - np.mean(y_pred)**2\n",
    "\n",
    "\n",
    "# import module for object serialization\n",
    "import pickle\n",
    "\n"
   ]
  },
  {
   "source": [
    "# Feature Engineering Continued\n",
    "\n",
    "## One-Hot Encoding/Dummy Variables\n",
    "\n",
    "Creating dummy variables allow us to input categorical variables into the Machine Learning models, which require that all input data be numerical. Here, they are numerical, but take on discrete numerical values, so we consider them as categorical.  Dummy variables only take on the value of 0 or 1 for the absence or presence of some aspect of the category that is expected to effect the outcome. We did not create polynomial and interaction features for dummy variables since the values are only 0 and 1."
   ],
   "cell_type": "markdown",
   "metadata": {}
  },
  {
   "cell_type": "code",
   "execution_count": 2,
   "metadata": {},
   "outputs": [],
   "source": [
    "df = pd.read_csv('data/modeling.csv')"
   ]
  },
  {
   "cell_type": "code",
   "execution_count": 3,
   "metadata": {},
   "outputs": [
    {
     "output_type": "execute_result",
     "data": {
      "text/plain": [
       "Index(['price', 'bedrooms', 'bathrooms', 'sqft_living', 'sqft_lot', 'floors',\n",
       "       'waterfront', 'condition', 'grade', 'sqft_above', 'zipcode', 'lat',\n",
       "       'long', 'sqft_living15', 'sqft_lot15', 'sale_age', 'age', 'renovated',\n",
       "       'basement', 'viewed'],\n",
       "      dtype='object')"
      ]
     },
     "metadata": {},
     "execution_count": 3
    }
   ],
   "source": [
    "# Get index of the columns\n",
    "df.columns"
   ]
  },
  {
   "cell_type": "code",
   "execution_count": 4,
   "metadata": {},
   "outputs": [
    {
     "output_type": "execute_result",
     "data": {
      "text/plain": [
       "   bdr_1  bdr_2  bdr_3  bdr_4  bdr_5  bdr_6  bdr_7  bdr_8  bdr_9  bdr_10  ...  \\\n",
       "0      0      0      0      1      0      0      0      0      0       0  ...   \n",
       "1      0      0      0      0      1      0      0      0      0       0  ...   \n",
       "2      0      0      0      1      0      0      0      0      0       0  ...   \n",
       "3      0      0      1      0      0      0      0      0      0       0  ...   \n",
       "4      0      0      1      0      0      0      0      0      0       0  ...   \n",
       "\n",
       "   zip_98146  zip_98148  zip_98155  zip_98166  zip_98168  zip_98177  \\\n",
       "0          0          0          0          0          0          0   \n",
       "1          0          0          0          0          0          0   \n",
       "2          0          0          0          0          0          0   \n",
       "3          0          0          0          0          0          0   \n",
       "4          0          0          0          0          0          0   \n",
       "\n",
       "   zip_98178  zip_98188  zip_98198  zip_98199  \n",
       "0          0          0          0          0  \n",
       "1          0          0          0          0  \n",
       "2          0          0          0          0  \n",
       "3          0          0          0          0  \n",
       "4          0          0          0          0  \n",
       "\n",
       "[5 rows x 129 columns]"
      ],
      "text/html": "<div>\n<style scoped>\n    .dataframe tbody tr th:only-of-type {\n        vertical-align: middle;\n    }\n\n    .dataframe tbody tr th {\n        vertical-align: top;\n    }\n\n    .dataframe thead th {\n        text-align: right;\n    }\n</style>\n<table border=\"1\" class=\"dataframe\">\n  <thead>\n    <tr style=\"text-align: right;\">\n      <th></th>\n      <th>bdr_1</th>\n      <th>bdr_2</th>\n      <th>bdr_3</th>\n      <th>bdr_4</th>\n      <th>bdr_5</th>\n      <th>bdr_6</th>\n      <th>bdr_7</th>\n      <th>bdr_8</th>\n      <th>bdr_9</th>\n      <th>bdr_10</th>\n      <th>...</th>\n      <th>zip_98146</th>\n      <th>zip_98148</th>\n      <th>zip_98155</th>\n      <th>zip_98166</th>\n      <th>zip_98168</th>\n      <th>zip_98177</th>\n      <th>zip_98178</th>\n      <th>zip_98188</th>\n      <th>zip_98198</th>\n      <th>zip_98199</th>\n    </tr>\n  </thead>\n  <tbody>\n    <tr>\n      <th>0</th>\n      <td>0</td>\n      <td>0</td>\n      <td>0</td>\n      <td>1</td>\n      <td>0</td>\n      <td>0</td>\n      <td>0</td>\n      <td>0</td>\n      <td>0</td>\n      <td>0</td>\n      <td>...</td>\n      <td>0</td>\n      <td>0</td>\n      <td>0</td>\n      <td>0</td>\n      <td>0</td>\n      <td>0</td>\n      <td>0</td>\n      <td>0</td>\n      <td>0</td>\n      <td>0</td>\n    </tr>\n    <tr>\n      <th>1</th>\n      <td>0</td>\n      <td>0</td>\n      <td>0</td>\n      <td>0</td>\n      <td>1</td>\n      <td>0</td>\n      <td>0</td>\n      <td>0</td>\n      <td>0</td>\n      <td>0</td>\n      <td>...</td>\n      <td>0</td>\n      <td>0</td>\n      <td>0</td>\n      <td>0</td>\n      <td>0</td>\n      <td>0</td>\n      <td>0</td>\n      <td>0</td>\n      <td>0</td>\n      <td>0</td>\n    </tr>\n    <tr>\n      <th>2</th>\n      <td>0</td>\n      <td>0</td>\n      <td>0</td>\n      <td>1</td>\n      <td>0</td>\n      <td>0</td>\n      <td>0</td>\n      <td>0</td>\n      <td>0</td>\n      <td>0</td>\n      <td>...</td>\n      <td>0</td>\n      <td>0</td>\n      <td>0</td>\n      <td>0</td>\n      <td>0</td>\n      <td>0</td>\n      <td>0</td>\n      <td>0</td>\n      <td>0</td>\n      <td>0</td>\n    </tr>\n    <tr>\n      <th>3</th>\n      <td>0</td>\n      <td>0</td>\n      <td>1</td>\n      <td>0</td>\n      <td>0</td>\n      <td>0</td>\n      <td>0</td>\n      <td>0</td>\n      <td>0</td>\n      <td>0</td>\n      <td>...</td>\n      <td>0</td>\n      <td>0</td>\n      <td>0</td>\n      <td>0</td>\n      <td>0</td>\n      <td>0</td>\n      <td>0</td>\n      <td>0</td>\n      <td>0</td>\n      <td>0</td>\n    </tr>\n    <tr>\n      <th>4</th>\n      <td>0</td>\n      <td>0</td>\n      <td>1</td>\n      <td>0</td>\n      <td>0</td>\n      <td>0</td>\n      <td>0</td>\n      <td>0</td>\n      <td>0</td>\n      <td>0</td>\n      <td>...</td>\n      <td>0</td>\n      <td>0</td>\n      <td>0</td>\n      <td>0</td>\n      <td>0</td>\n      <td>0</td>\n      <td>0</td>\n      <td>0</td>\n      <td>0</td>\n      <td>0</td>\n    </tr>\n  </tbody>\n</table>\n<p>5 rows × 129 columns</p>\n</div>"
     },
     "metadata": {},
     "execution_count": 4
    }
   ],
   "source": [
    "# Grab indices of columns for creating dummy variables and create dataframe with dummy variables\n",
    "dum_feat = df[['bedrooms', 'bathrooms', 'floors', 'condition', 'grade', 'zipcode']]\n",
    "dum_index = dum_feat.columns\n",
    "# To prevent what they call the dummy variable trap (related to multicollinearity), drop one of the dummy variable, as well as  the original categorical variable used in creating the dummy variables\n",
    "df_dum = pd.get_dummies(data=dum_feat, columns=dum_index, drop_first=True, prefix=['bdr', 'bth', 'flr', 'cnd', 'grd', 'zip'])\n",
    "df_dum.head()"
   ]
  },
  {
   "source": [
    "## Polynomial and Interaction Features\n",
    "\n",
    "Polynomial features are created by raising our exisitng features by some exponent, generally not greater than 3 or 4.  Adding polynomial features helps the regression models to recognize nonlinear patterns. For instance, age is related to price in more of a parabolic function due to the higher premium placed on brand new constructions vs. vintage or historic homes, which are on opposite ends of the age spectrum.\n",
    "\n",
    "Interaction features, however, are represented by one variable or feature multipled by another feature. The idea here is that feature A's effect on C depend on the differing values of feature B.  Let's say C is plant growth, feature A is the amount of bacteria and feature B is the amount of sunlight.  In low amounts of sunlight, a high amount of bacteria in the soil creates tall plants, let's say, but in high amounts of sunlight, that same amount of bacteria creates short plants.  Only an interaction feature would be able to express that relationship."
   ],
   "cell_type": "markdown",
   "metadata": {}
  },
  {
   "cell_type": "code",
   "execution_count": 5,
   "metadata": {},
   "outputs": [
    {
     "output_type": "execute_result",
     "data": {
      "text/plain": [
       "   sqft_living  sqft_lot  waterfront  sqft_above      lat     long  \\\n",
       "0       2070.0    8893.0         0.0      2070.0  47.4388 -122.162   \n",
       "1       2900.0    6730.0         0.0      1830.0  47.6784 -122.285   \n",
       "2       3770.0   10893.0         0.0      3770.0  47.5646 -122.129   \n",
       "3       4560.0   14608.0         0.0      4560.0  47.6995 -122.228   \n",
       "4       2550.0    5376.0         0.0      2550.0  47.6647 -122.083   \n",
       "\n",
       "   sqft_living15  sqft_lot15  sale_age   age  ...  zip_98146  zip_98148  \\\n",
       "0         2390.0      7700.0      28.0  28.0  ...          0          0   \n",
       "1         2370.0      6283.0      37.0  37.0  ...          0          0   \n",
       "2         3710.0      9685.0      17.0  17.0  ...          0          0   \n",
       "3         4050.0     14226.0      25.0  25.0  ...          0          0   \n",
       "4         2250.0      4050.0      10.0  10.0  ...          0          0   \n",
       "\n",
       "   zip_98155  zip_98166  zip_98168  zip_98177  zip_98178  zip_98188  \\\n",
       "0          0          0          0          0          0          0   \n",
       "1          0          0          0          0          0          0   \n",
       "2          0          0          0          0          0          0   \n",
       "3          0          0          0          0          0          0   \n",
       "4          0          0          0          0          0          0   \n",
       "\n",
       "   zip_98198  zip_98199  \n",
       "0          0          0  \n",
       "1          0          0  \n",
       "2          0          0  \n",
       "3          0          0  \n",
       "4          0          0  \n",
       "\n",
       "[5 rows x 233 columns]"
      ],
      "text/html": "<div>\n<style scoped>\n    .dataframe tbody tr th:only-of-type {\n        vertical-align: middle;\n    }\n\n    .dataframe tbody tr th {\n        vertical-align: top;\n    }\n\n    .dataframe thead th {\n        text-align: right;\n    }\n</style>\n<table border=\"1\" class=\"dataframe\">\n  <thead>\n    <tr style=\"text-align: right;\">\n      <th></th>\n      <th>sqft_living</th>\n      <th>sqft_lot</th>\n      <th>waterfront</th>\n      <th>sqft_above</th>\n      <th>lat</th>\n      <th>long</th>\n      <th>sqft_living15</th>\n      <th>sqft_lot15</th>\n      <th>sale_age</th>\n      <th>age</th>\n      <th>...</th>\n      <th>zip_98146</th>\n      <th>zip_98148</th>\n      <th>zip_98155</th>\n      <th>zip_98166</th>\n      <th>zip_98168</th>\n      <th>zip_98177</th>\n      <th>zip_98178</th>\n      <th>zip_98188</th>\n      <th>zip_98198</th>\n      <th>zip_98199</th>\n    </tr>\n  </thead>\n  <tbody>\n    <tr>\n      <th>0</th>\n      <td>2070.0</td>\n      <td>8893.0</td>\n      <td>0.0</td>\n      <td>2070.0</td>\n      <td>47.4388</td>\n      <td>-122.162</td>\n      <td>2390.0</td>\n      <td>7700.0</td>\n      <td>28.0</td>\n      <td>28.0</td>\n      <td>...</td>\n      <td>0</td>\n      <td>0</td>\n      <td>0</td>\n      <td>0</td>\n      <td>0</td>\n      <td>0</td>\n      <td>0</td>\n      <td>0</td>\n      <td>0</td>\n      <td>0</td>\n    </tr>\n    <tr>\n      <th>1</th>\n      <td>2900.0</td>\n      <td>6730.0</td>\n      <td>0.0</td>\n      <td>1830.0</td>\n      <td>47.6784</td>\n      <td>-122.285</td>\n      <td>2370.0</td>\n      <td>6283.0</td>\n      <td>37.0</td>\n      <td>37.0</td>\n      <td>...</td>\n      <td>0</td>\n      <td>0</td>\n      <td>0</td>\n      <td>0</td>\n      <td>0</td>\n      <td>0</td>\n      <td>0</td>\n      <td>0</td>\n      <td>0</td>\n      <td>0</td>\n    </tr>\n    <tr>\n      <th>2</th>\n      <td>3770.0</td>\n      <td>10893.0</td>\n      <td>0.0</td>\n      <td>3770.0</td>\n      <td>47.5646</td>\n      <td>-122.129</td>\n      <td>3710.0</td>\n      <td>9685.0</td>\n      <td>17.0</td>\n      <td>17.0</td>\n      <td>...</td>\n      <td>0</td>\n      <td>0</td>\n      <td>0</td>\n      <td>0</td>\n      <td>0</td>\n      <td>0</td>\n      <td>0</td>\n      <td>0</td>\n      <td>0</td>\n      <td>0</td>\n    </tr>\n    <tr>\n      <th>3</th>\n      <td>4560.0</td>\n      <td>14608.0</td>\n      <td>0.0</td>\n      <td>4560.0</td>\n      <td>47.6995</td>\n      <td>-122.228</td>\n      <td>4050.0</td>\n      <td>14226.0</td>\n      <td>25.0</td>\n      <td>25.0</td>\n      <td>...</td>\n      <td>0</td>\n      <td>0</td>\n      <td>0</td>\n      <td>0</td>\n      <td>0</td>\n      <td>0</td>\n      <td>0</td>\n      <td>0</td>\n      <td>0</td>\n      <td>0</td>\n    </tr>\n    <tr>\n      <th>4</th>\n      <td>2550.0</td>\n      <td>5376.0</td>\n      <td>0.0</td>\n      <td>2550.0</td>\n      <td>47.6647</td>\n      <td>-122.083</td>\n      <td>2250.0</td>\n      <td>4050.0</td>\n      <td>10.0</td>\n      <td>10.0</td>\n      <td>...</td>\n      <td>0</td>\n      <td>0</td>\n      <td>0</td>\n      <td>0</td>\n      <td>0</td>\n      <td>0</td>\n      <td>0</td>\n      <td>0</td>\n      <td>0</td>\n      <td>0</td>\n    </tr>\n  </tbody>\n</table>\n<p>5 rows × 233 columns</p>\n</div>"
     },
     "metadata": {},
     "execution_count": 5
    }
   ],
   "source": [
    "# Grab columns for polynominal and interaction features from the original dataframe without dummy variables\n",
    "poly_feat = df.drop(['price', 'bedrooms', 'bathrooms', 'floors', 'condition', 'grade', 'zipcode'], axis=1)\n",
    "y = df['price']\n",
    "# Use PolynomialFeatures to create binomial and interaction features\n",
    "poly = PolynomialFeatures(degree=2, include_bias=False)\n",
    "poly_data = poly.fit_transform(poly_feat)\n",
    "poly_columns = poly.get_feature_names(poly_feat.columns)\n",
    "df_poly = pd.DataFrame(poly_data, columns=poly_columns)\n",
    "# Concatenating two dataframes together for input into linear regression model\n",
    "X = pd.concat([df_poly, df_dum], axis=1)\n",
    "X.head()"
   ]
  },
  {
   "source": [
    "# Instantiating and Fitting a Supervised Learning Model \n",
    "\n",
    "There are several techniques we could use to prepare a linear regression model, including taking it to pen and paper to calculate means, standard deviations, correlations, and covariance.  Here we employ OLS method or ordinary least squares method.\n",
    "\n",
    "R^2 or the coefficient of determination is a measure to assess the goodness of fit of a regression model:\n",
    "\n",
    "$$ R^2 = 1 - \\frac{SS_{RES}}{SS_{TOT}} = 1 - \\frac{\\sum_i (y_i - \\hat{y}_i)^2}{\\sum_i (y_i - \\hat{y}_i)^2} $$\n",
    "\n",
    "- The R-squared value is more specifically the amount of variance in the dependent variable that can be explained by the independent variables, also the covariance of X and Y (SSxy) divided by variance in X (SSxx).\n",
    "- The intercept is the mean of the dependent variable when all the indepedent variables are zero. \n",
    "- The coefficients are estimates of the actual population parameters, where the increase\n",
    "\n",
    "- R-values range from 0 to 1, and higher values of R^2 would be indicative of a good fit, but if the R^2 value is too high, that often can be indicative of over-fitting. \n",
    "- The model starts becoming attuned to fit the noise in the sample rather than reflecting the entire population, which decreases its capability to make precise predictions.\n",
    "- \n"
   ],
   "cell_type": "markdown",
   "metadata": {}
  },
  {
   "cell_type": "code",
   "execution_count": 6,
   "metadata": {},
   "outputs": [
    {
     "output_type": "stream",
     "name": "stdout",
     "text": [
      "Intercept : -3804210354.986055\nR^2 Score :  0.8797519008528518\nCoefficients : [-1.49291857e+04  4.75406407e+01  3.94448372e+07 -2.59759303e+04\n  1.41288975e+08 -7.81019356e+06 -1.04595256e+04  1.30273015e+02\n -2.10502368e+05 -2.04893173e+05 -1.45145314e+06  4.74925866e+06\n -1.22026469e+07 -8.88278973e-03 -3.61393976e-04  2.74244013e+02\n  3.35891471e-02  1.57090682e+02 -2.24569896e+02  4.21863761e-02\n -1.12054506e-03 -3.60556721e+00  2.72893588e+00 -9.15059039e+01\n -1.99579299e+04 -2.06220885e+01 -4.00472469e-07  9.86384652e-01\n  2.69431350e-04  2.10866494e-01  4.65852178e-01  9.97489500e-05\n  1.02137081e-06  1.07714646e-02 -1.25576453e-02  9.76441460e-01\n  1.88665614e-02  3.42700481e-02  4.02034066e+07 -7.51815051e+01\n  1.10313822e+06  1.40637453e+06 -8.38103035e+01 -3.42388412e-01\n -4.81472988e+03  4.54658377e+03 -2.79998877e+05 -1.40183302e+05\n  4.02034056e+07 -1.06802308e-02  9.18909824e+01 -1.36381598e+01\n -2.89016161e-02  9.72065143e-04  1.50038569e+00 -5.62201155e-01\n -1.15311459e+01  1.99631824e+04  4.50514878e+01 -1.21668218e+06\n  2.12698270e+05  2.62160444e+01 -1.21489224e+00 -1.88359863e+02\n  7.15264129e+02 -7.43950380e+04 -2.50797629e+04  1.61700207e+05\n  7.92708829e+03 -7.49478402e+01  5.83314328e-01 -1.86876270e+03\n -1.29846357e+03 -5.48177328e+04  6.85016756e+04 -1.36339550e+05\n  3.70943826e-03 -2.78702006e-04 -3.33063528e-02  8.88914473e-01\n  5.28804421e+01 -4.74989935e+00  2.39688816e+01 -9.23871994e-07\n -2.16701552e-02  1.25821177e-02 -1.73777846e+00  9.71959963e-01\n -1.56783998e-01  2.53209442e+00 -1.83267436e+01 -6.21614598e+03\n  3.25389533e+03 -2.67300676e+02  2.82592284e+01  3.16022005e+03\n -2.14657657e+03  4.99750702e+02 -1.45980207e+06  8.08764892e+04\n  6.83605044e+02  4.75748057e+06  3.65632611e+04 -1.22010464e+07\n  1.12392709e+05  9.28794011e+04  9.63643696e+04  9.61515287e+04\n  7.94916446e+04  2.22052143e+04 -1.57705306e+05 -3.10088871e+04\n -1.95955757e+05 -2.44325968e+05  2.59961444e+01 -7.22753551e+04\n -7.53041647e+04 -6.05522400e+03 -1.15450358e+05 -1.29955209e+04\n -9.65230801e+03 -1.31711011e+04  5.82716280e+03  5.75437854e+03\n  6.25760810e+03  2.30248194e+04  3.84135593e+04  2.98407616e+04\n  7.60132465e+04  7.00958742e+04  1.76596382e+05  8.48745526e+04\n  2.09436920e+05  2.92671911e+05  1.58597569e+05  2.05163908e+05\n  3.14568352e+05  7.13534304e+05  3.17518409e+05  2.17976125e+05\n -5.56852365e+05 -1.12543837e+05  1.91036540e+06  7.33674728e+05\n -1.66368731e+04 -3.29626059e+04  1.76914445e+04 -8.95878759e+04\n -1.79028707e+04  6.68764297e+04  8.77749521e+04  1.16238833e+05\n  1.61073026e+05 -2.33602641e+04  1.24460503e+05  5.30067196e+04\n  3.60431788e+04  5.35359853e+04  8.51151073e+04  1.59101245e+05\n  2.51980774e+05  4.04216487e+05  6.46527443e+05  1.05063202e+06\n  1.28385247e+04 -2.45133545e+04  6.83149342e+05  2.39306735e+05\n  2.05399660e+05  2.15868473e+05  2.41310279e+05  1.57820801e+05\n  1.08597917e+05  9.77877588e+04  1.21842877e+05  1.80473280e+05\n -2.74321658e+04  2.33012563e+05  1.97776368e+05  8.10036527e+04\n  2.45031709e+05 -3.34048732e+03 -1.77861445e+04 -1.84190408e+01\n  3.00447667e+05  1.63183753e+05  1.17708105e+05  1.01155307e+06\n  4.06935465e+05 -3.23400815e+03  1.86432565e+05  2.32351294e+05\n  1.77079541e+05 -1.75361659e+04  4.58105190e+04  3.82895045e+04\n  5.40870895e+04  1.85198213e+05  1.76536500e+04  1.23728879e+05\n  2.00575637e+05  2.00600915e+05  9.40877733e+04  2.55951557e+04\n  3.83911708e+05  2.61926767e+05  3.93275822e+05  4.98150926e+04\n  2.87066059e+05  4.79196855e+04  3.89323960e+05  4.82151187e+05\n  2.30637258e+05  1.86152596e+05  2.35055046e+05  9.43956016e+04\n  4.14665644e+05  2.70555989e+05  1.32132730e+05  8.96878424e+04\n  8.87035147e+04  1.69734543e+05  1.68070991e+05  2.40922194e+04\n  8.11172681e+04  1.01868204e+05 -4.86320088e+02 -3.57407662e+04\n  1.38356897e+05 -3.44850945e+04 -1.94080291e+03 -3.20515711e+04\n  2.64334303e+05]\n"
     ]
    }
   ],
   "source": [
    "# Use scikit-learn to instantiate a linear regression object and fit the model to the data\n",
    "lm = LinearRegression().fit(X, y)\n",
    "# We use the value of R_squared as an indication of the fit \n",
    "print('Intercept :', lm.intercept_)\n",
    "print('R^2 Score : ', lm.score(X, y))\n",
    "print('Coefficients :', lm.coef_)"
   ]
  },
  {
   "source": [
    "## **Train-Test Split**\n",
    "\n",
    "The train-test split is a technique for evaluating the performance of a machine learning algorithm, which can be used for classification or regression problems or any supervised learning algorithm.\n",
    "\n",
    "The procedure involves taking a dataset and dividing it into two subsets. The first subset is used to fit the model, the training dataset, and for the second subset, the test dataset, the input element of the dataset is provided to the model, then predictions are made and compared to the expected values.  The objective is to estimate the performance of the machine learning model on new data: data not used to train the model.\n",
    "\n",
    "This is how we expect to use the model in practice. Namely, to fit it on available data with known inputs and outputs, then make predictions on new examples in the future where we do not have the expected output or target values.\n",
    "\n",
    "The train-test procedure is appropriate when there is a sufficiently large dataset available. When the dataset available is small, we can consider using a k-fold cross-validation procedure to evaluate the model performance."
   ],
   "cell_type": "markdown",
   "metadata": {}
  },
  {
   "source": [
    "### Assessing Training Model Performance, Predicting on Testing Set, and Comparing Model Performance\n",
    "\n",
    "As for what we use for regression metrics, \n",
    "\n",
    "1. MAE describes the typical magnitude of the residuals, where small MAE suggests that the model is good for prediction.\n",
    "2. MSE is the square of the difference between actual and predicted values, and will always be larger than MAE.  The presence of outliers will contribute quadratically to the error such that large differences between actual and predicted values are punished to a greater degree.\n",
    "3. RMSE is the square root of the variance of the residuals, which indicates the best absolute fit of the model to the data, having the same units as the target variable, where lower values indicates a better fit.  \n",
    "\n",
    "RMSE is the most important criterion for fit when we are working within prediction models and is the metric we most often use to compare between the training and testing model performance."
   ],
   "cell_type": "markdown",
   "metadata": {}
  },
  {
   "cell_type": "code",
   "execution_count": 7,
   "metadata": {},
   "outputs": [
    {
     "output_type": "stream",
     "name": "stdout",
     "text": [
      "Training R^2 Score:  0.8836\nTraining MAE:  79265.07\nTraining MSE:  1.6408e+10\nTraining RMSE:  128094.52\nTraining Bias:  0.0\nTraining Variance:  1.2469e+11\n\nTesting R^2 Score:  0.8649\nTesting MAE:  79461.47\nTesting MSE:  1.7982e+10\nTesting RMSE:  134097.92\nTesting Bias:  -1796.49\nTesting Variance:  1.1053e+11\n"
     ]
    }
   ],
   "source": [
    "X_tr, X_tt, y_tr, y_tt = train_test_split(X, y, random_state=42, test_size=0.2)\n",
    "lm = LinearRegression().fit(X_tr, y_tr)\n",
    "y_tr_pred = lm.predict(X_tr)\n",
    "y_tt_pred = lm.predict(X_tt)\n",
    "print('Training R^2 Score: ', round(r2_score(y_tr, y_tr_pred), 4))\n",
    "print('Training MAE: ', round(mean_absolute_error(y_tr, y_tr_pred), 2))\n",
    "print('Training MSE: ', \"{:.4e}\".format(mean_squared_error(y_tr, y_tr_pred)))\n",
    "print('Training RMSE: ', round(np.sqrt(mean_squared_error(y_tr, y_tr_pred)), 2))\n",
    "print('Training Bias: ', round(bias(y_tr, y_tr_pred), 2))\n",
    "print('Training Variance: ', \"{:.4e}\".format(variance(y_tr_pred)))\n",
    "print(\"\")\n",
    "print('Testing R^2 Score: ', round(r2_score(y_tt, y_tt_pred), 4))\n",
    "print('Testing MAE: ', round(mean_absolute_error(y_tt, y_tt_pred), 2))\n",
    "print('Testing MSE: ', \"{:.4e}\".format(mean_squared_error(y_tt, y_tt_pred)))\n",
    "print('Testing RMSE: ', round(np.sqrt(mean_squared_error(y_tt, y_tt_pred)), 2))\n",
    "print('Testing Bias: ', round(bias(y_tt, y_tt_pred), 2))\n",
    "print('Testing Variance: ', \"{:.4e}\".format(variance(y_tt_pred)))"
   ]
  },
  {
   "source": [
    "**Initial thoughts:**\n",
    "\n",
    "Comparing the training and testing RMSE, there is expected increase in RMSE from the training to the testing set.  The model still includes all the polynomial and interaction features, so it is definitely still overfit."
   ],
   "cell_type": "markdown",
   "metadata": {}
  },
  {
   "source": [
    "\n",
    "## Check for the Linear Regression assumptions\n"
   ],
   "cell_type": "markdown",
   "metadata": {}
  },
  {
   "cell_type": "code",
   "execution_count": 8,
   "metadata": {},
   "outputs": [],
   "source": [
    "# this defines residuals as the sample estimate of the error for each observation\n",
    "residuals = (y_tt - y_tt_pred)"
   ]
  },
  {
   "cell_type": "code",
   "execution_count": 9,
   "metadata": {},
   "outputs": [],
   "source": [
    "# This checks for the normal distribution of the residuals or error term.  By satisfying this assumption, you are able to generate more reliable confidence and prediction intervals.\n",
    "# plt.hist(residuals)\n",
    "# plt.savefig('images/residuals.png')"
   ]
  },
  {
   "source": [
    "<img src='images/residuals.png'>"
   ],
   "cell_type": "markdown",
   "metadata": {}
  },
  {
   "cell_type": "code",
   "execution_count": 10,
   "metadata": {},
   "outputs": [],
   "source": [
    "# # We use residplot to check for heteroscedasticity, which is the case where the residuals have a non-constant variance\n",
    "# sns.residplot(y_tt_pred, y_test, lowess=True, color='g')\n",
    "# plt.savefig('images/residplot.png')"
   ]
  },
  {
   "source": [
    "<img src='images/residplot.png'>"
   ],
   "cell_type": "markdown",
   "metadata": {}
  },
  {
   "source": [
    "# Feature Selection\n",
    "\n",
    "There are three types of feature selection methods:  filter, wrapper, and embedded.  Filtering methods, like K-Best, approach the problem by estimating the validities of features through statistical tests (i.e. correlation coefficient, information gain, chi-squared test, f-test) to assign scoring to each feature, which are subsequently ranked and selected.  Here K-Best uses the f-test (`f_regression`) to compare the least square errors between the two models and checks if the difference is significant and returns the top 20 features.\n",
    "\n",
    "Filtering methods are computationally less expensive than wrapper methods since we are not training an actual model."
   ],
   "cell_type": "markdown",
   "metadata": {}
  },
  {
   "source": [
    "## KBest"
   ],
   "cell_type": "markdown",
   "metadata": {}
  },
  {
   "cell_type": "code",
   "execution_count": 11,
   "metadata": {},
   "outputs": [
    {
     "output_type": "execute_result",
     "data": {
      "text/plain": [
       "['sqft_living',\n",
       " 'sqft_above',\n",
       " 'sqft_living15',\n",
       " 'sqft_living^2',\n",
       " 'sqft_living sqft_above',\n",
       " 'sqft_living lat',\n",
       " 'sqft_living long',\n",
       " 'sqft_living sqft_living15',\n",
       " 'sqft_living basement',\n",
       " 'sqft_living viewed',\n",
       " 'sqft_above^2',\n",
       " 'sqft_above lat',\n",
       " 'sqft_above long',\n",
       " 'sqft_above sqft_living15',\n",
       " 'sqft_above basement',\n",
       " 'sqft_above viewed',\n",
       " 'lat sqft_living15',\n",
       " 'long sqft_living15',\n",
       " 'sqft_living15^2',\n",
       " 'sqft_living15 viewed']"
      ]
     },
     "metadata": {},
     "execution_count": 11
    }
   ],
   "source": [
    "# Instantiate SelectKBest object and fit training data where k is the number of features you want to select\n",
    "kbest = SelectKBest(f_regression, k=20).fit(X_tr, y_tr)\n",
    "sel_columns = X_tr.columns[kbest.get_support()]\n",
    "rem_columns = X_tr.columns[~kbest.get_support()]\n",
    "list(sel_columns)"
   ]
  },
  {
   "cell_type": "code",
   "execution_count": 12,
   "metadata": {},
   "outputs": [
    {
     "output_type": "stream",
     "name": "stdout",
     "text": [
      "Training R^2 Score:  0.6877\nTraining MAE:  130573.33\nTraining MSE:  4.4014e+10\nTraining RMSE:  209795.48\nTraining Bias:  -0.0\nTraining Variance:  9.6902e+10\n\nTesting R^2 Score:  0.6911\nTesting MAE:  126932.94\nTesting MSE:  4.1107e+10\nTesting RMSE:  202748.99\nTesting Bias:  -4699.59\nTesting Variance:  8.2792e+10\n"
     ]
    }
   ],
   "source": [
    "# Instantiate linear regression object and fit the linear regression to the data\n",
    "kb = LinearRegression().fit(X_tr[sel_columns], y_tr)\n",
    "y_kb_tr_pred = kb.predict(X_tr[sel_columns])\n",
    "y_kb_tt_pred = kb.predict(X_tt[sel_columns])\n",
    "\n",
    "print('Training R^2 Score: ', round(r2_score(y_tr, y_kb_tr_pred), 4))\n",
    "print('Training MAE: ', round(mean_absolute_error(y_tr, y_kb_tr_pred), 2))\n",
    "print('Training MSE: ', \"{:.4e}\".format(mean_squared_error(y_tr, y_kb_tr_pred)))\n",
    "print('Training RMSE: ', round(np.sqrt(mean_squared_error(y_tr, y_kb_tr_pred)), 2))\n",
    "print('Training Bias: ', round(bias(y_tr, y_kb_tr_pred), 2))\n",
    "print('Training Variance: ', \"{:.4e}\".format(variance(y_kb_tr_pred)))\n",
    "print(\"\")\n",
    "print('Testing R^2 Score: ', round(r2_score(y_tt, y_kb_tt_pred), 4))\n",
    "print('Testing MAE: ', round(mean_absolute_error(y_tt, y_kb_tt_pred), 2))\n",
    "print('Testing MSE: ', \"{:.4e}\".format(mean_squared_error(y_tt, y_kb_tt_pred)))\n",
    "print('Testing RMSE: ', round(np.sqrt(mean_squared_error(y_tt, y_kb_tt_pred)), 2))\n",
    "print('Testing Bias: ', round(bias(y_tt, y_kb_tt_pred), 2))\n",
    "print('Testing Variance: ', \"{:.4e}\".format(variance(y_kb_tt_pred)))"
   ]
  },
  {
   "source": [
    "## RFECV\n",
    "\n",
    "Wrapper algorithms like RFECV returns a best set of features with an extensive greedy search, where different combinations are prepared, evaluated, and compared to other combinations.  Recursive Feature Elimination and Cross-Validation Selection begins with a model with the complete set of predictors and a score is assigned to each predictor, and the least important are removed.  The model is then rebuilt, and importance scores are computed again.  It is usually best practice to identify multicollinearity first, as it will select relevant and redundant features alike. "
   ],
   "cell_type": "markdown",
   "metadata": {}
  },
  {
   "cell_type": "code",
   "execution_count": 13,
   "metadata": {},
   "outputs": [
    {
     "output_type": "stream",
     "name": "stdout",
     "text": [
      "Optimal number of features : 226\n"
     ]
    }
   ],
   "source": [
    "lm = LinearRegression()\n",
    "rfe = RFECV(estimator=lm, step=1, cv=5, n_jobs=-1, scoring='neg_mean_squared_error')\n",
    "rfe.fit(X_tr, y_tr)\n",
    "selected = X_tr.columns[rfe.support_]\n",
    "print(\"Optimal number of features : %d\" % rfe.n_features_)"
   ]
  },
  {
   "cell_type": "code",
   "execution_count": 14,
   "metadata": {},
   "outputs": [
    {
     "output_type": "execute_result",
     "data": {
      "text/plain": [
       "['sqft_living sqft_lot',\n",
       " 'sqft_lot^2',\n",
       " 'sqft_lot sqft_living15',\n",
       " 'sqft_lot sqft_lot15',\n",
       " 'sqft_lot15^2',\n",
       " 'bth_7.5',\n",
       " 'grd_3']"
      ]
     },
     "metadata": {},
     "execution_count": 14
    }
   ],
   "source": [
    "removed = X_tr.columns[~rfe.support_]\n",
    "list(removed)"
   ]
  },
  {
   "cell_type": "code",
   "execution_count": 15,
   "metadata": {},
   "outputs": [
    {
     "output_type": "stream",
     "name": "stdout",
     "text": [
      "Training R^2 Score:  0.8842\nTraining MAE:  78848.97\nTraining MSE:  1.6312e+10\nTraining RMSE:  127719.34\nTraining Bias:  -0.0\nTraining Variance:  1.2460e+11\n\nTesting R^2 Score:  0.8659\nTesting MAE:  78660.89\nTesting MSE:  1.7841e+10\nTesting RMSE:  133569.89\nTesting Bias:  -1884.29\nTesting Variance:  1.1037e+11\n"
     ]
    }
   ],
   "source": [
    "rfecv = LinearRegression().fit(X_tr[selected], y_tr)\n",
    "y_tr_pred_rfe = rfecv.predict(X_tr[selected])\n",
    "y_tt_pred_rfe = rfecv.predict(X_tt[selected])\n",
    "\n",
    "print('Training R^2 Score: ', round(r2_score(y_tr, y_tr_pred_rfe), 4))\n",
    "print('Training MAE: ', round(mean_absolute_error(y_tr, y_tr_pred_rfe), 2))\n",
    "print('Training MSE: ', \"{:.4e}\".format(mean_squared_error(y_tr, y_tr_pred_rfe)))\n",
    "print('Training RMSE: ', round(np.sqrt(mean_squared_error(y_tr, y_tr_pred_rfe)), 2))\n",
    "print('Training Bias: ', round(bias(y_tr, y_tr_pred_rfe), 2))\n",
    "print('Training Variance: ', \"{:.4e}\".format(variance(y_tr_pred_rfe)))\n",
    "print(\"\")\n",
    "print('Testing R^2 Score: ', round(r2_score(y_tt, y_tt_pred_rfe), 4))\n",
    "print('Testing MAE: ', round(mean_absolute_error(y_tt, y_tt_pred_rfe), 2))\n",
    "print('Testing MSE: ', \"{:.4e}\".format(mean_squared_error(y_tt, y_tt_pred_rfe)))\n",
    "print('Testing RMSE: ', round(np.sqrt(mean_squared_error(y_tt, y_tt_pred_rfe)), 2))\n",
    "print('Testing Bias: ', round(bias(y_tt, y_tt_pred_rfe), 2))\n",
    "print('Testing Variance: ', \"{:.4e}\".format(variance(y_tt_pred_rfe)))\n"
   ]
  },
  {
   "source": [
    "# Second Run"
   ],
   "cell_type": "markdown",
   "metadata": {}
  },
  {
   "cell_type": "code",
   "execution_count": 16,
   "metadata": {},
   "outputs": [],
   "source": [
    "y = df['price']\n",
    "X = df.drop(columns=['price'], axis=1)\n",
    "\n",
    "X_tr2, X_tt2, y_tr2, y_tt2 = train_test_split(X, y, random_state=42, test_size=0.2)\n",
    "\n",
    "feat_cat = df[['condition', 'grade', 'waterfront', 'floors', 'bedrooms', 'bathrooms', 'zipcode', 'renovated', 'basement', 'viewed']]\n",
    "col_cat = feat_cat.columns\n",
    "feat_cont = df[['sqft_living', 'sqft_lot', 'sqft_above', 'sqft_living15', 'sqft_lot15', 'sale_age', 'age', 'lat', 'long']]\n",
    "col_cont = feat_cont.columns\n",
    "X_train_cont = X_tr2.loc[:, col_cont]\n",
    "X_test_cont = X_tt2.loc[:, col_cont]\n",
    "\n",
    "ss = StandardScaler()\n",
    "X_train_scaled = ss.fit_transform(X_train_cont)\n",
    "X_test_scaled = ss.fit_transform(X_test_cont)\n",
    "cont_tr_df = pd.DataFrame(X_train_scaled, columns=X_train_cont.columns)\n",
    "cont_tt_df = pd.DataFrame(X_test_scaled, columns=X_test_cont.columns)\n",
    "\n",
    "X_train_cat = X_tr2.loc[:, col_cat]\n",
    "X_test_cat = X_tt2.loc[:, col_cat]\n",
    "ohe = OneHotEncoder(handle_unknown='ignore')\n",
    "X_train_ohe = ohe.fit_transform(X_train_cat)\n",
    "X_test_ohe = ohe.transform(X_test_cat)\n",
    "columns = ohe.get_feature_names(input_features=X_train_cat.columns)\n",
    "cat_train_df = pd.DataFrame(X_train_ohe.todense(), columns=columns)\n",
    "cat_test_df = pd.DataFrame(X_test_ohe.todense(), columns=columns)\n",
    "\n",
    "X_tr2 = pd.concat([cont_tr_df, cat_train_df], axis=1)\n",
    "X_tt2 = pd.concat([cont_tt_df, cat_test_df], axis=1)"
   ]
  },
  {
   "cell_type": "code",
   "execution_count": 17,
   "metadata": {},
   "outputs": [
    {
     "output_type": "stream",
     "name": "stdout",
     "text": [
      "Training R^2 Score:  0.8393\nTraining MAE:  89133.57\nTraining MSE:  2.2647e+10\nTraining RMSE:  150488.38\nTraining Bias:  8.12\nTraining Variance:  1.1827e+11\n\nTesting R^2 Score:  -1.2719867969339525e+18\nTesting MAE:  10480690123271.31\nTesting MSE:  1.6925e+29\nTesting RMSE:  411395702718068.6\nTesting Bias:  10480690041742.34\nTesting Variance:  1.6914e+29\n"
     ]
    }
   ],
   "source": [
    "lm2 = LinearRegression().fit(X_tr2, y_tr2)\n",
    "y_tr_pred2 = lm2.predict(X_tr2)\n",
    "y_tt_pred2 = lm2.predict(X_tt2)\n",
    "\n",
    "print('Training R^2 Score: ', round(r2_score(y_tr2, y_tr_pred2), 4))\n",
    "print('Training MAE: ', round(mean_absolute_error(y_tr2, y_tr_pred2), 2))\n",
    "print('Training MSE: ', \"{:.4e}\".format(mean_squared_error(y_tr2, y_tr_pred2)))\n",
    "print('Training RMSE: ', round(np.sqrt(mean_squared_error(y_tr2, y_tr_pred2)), 2))\n",
    "print('Training Bias: ', round(bias(y_tr2, y_tr_pred2), 2))\n",
    "print('Training Variance: ', \"{:.4e}\".format(variance(y_tr_pred2)))\n",
    "print(\"\")\n",
    "print('Testing R^2 Score: ', round(r2_score(y_tt2, y_tt_pred2), 4))\n",
    "print('Testing MAE: ', round(mean_absolute_error(y_tt2, y_tt_pred2), 2))\n",
    "print('Testing MSE: ', \"{:.4e}\".format(mean_squared_error(y_tt2, y_tt_pred2)))\n",
    "print('Testing RMSE: ', round(np.sqrt(mean_squared_error(y_tt2, y_tt_pred2)), 2))\n",
    "print('Testing Bias: ', round(bias(y_tt2, y_tt_pred2), 2))\n",
    "print('Testing Variance: ', \"{:.4e}\".format(variance(y_tt_pred2)))"
   ]
  },
  {
   "source": [
    "## Ridge Regression\n",
    "\n",
    "Embedded methods learn which features best contribute to the accuracy of the model while the model is being created, the most common being the regularization methods.  They are also called penalization methods that introduce additional constraints into the optimization of a predictive algorithm that bias the model toward lower complexity, i.e. fewer coefficients.\n",
    "\n",
    "Ridge regression optimizes the RSS by adding a penalty equivalent to the square of the magnitude of the coefficients, while Lasso adds a penalty equivalent to the absolute value of the magnitude of the coefficients."
   ],
   "cell_type": "markdown",
   "metadata": {}
  },
  {
   "cell_type": "code",
   "execution_count": 18,
   "metadata": {},
   "outputs": [
    {
     "output_type": "stream",
     "name": "stdout",
     "text": [
      "Training R^2 Score:  0.8383\nTraining MAE:  89614.14\nTraining MSE:  2.2782e+10\nTraining RMSE:  150938.29\nTraining Bias:  -0.0\nTraining Variance:  1.1698e+11\n\nTesting R^2 Score:  0.8402\nTesting MAE:  86599.43\nTesting MSE:  2.1257e+10\nTesting RMSE:  145799.13\nTesting Bias:  5205.19\nTesting Variance:  1.1420e+11\n"
     ]
    }
   ],
   "source": [
    "ridge = Ridge(alpha=1).fit(X_tr2, y_tr2)\n",
    "y_ridge_tr = ridge.predict(X_tr2)\n",
    "y_ridge_tt = ridge.predict(X_tt2)\n",
    "print('Training R^2 Score: ', round(r2_score(y_tr2, y_ridge_tr), 4))\n",
    "print('Training MAE: ', round(mean_absolute_error(y_tr2, y_ridge_tr), 2))\n",
    "print('Training MSE: ', \"{:.4e}\".format(mean_squared_error(y_tr2, y_ridge_tr)))\n",
    "print('Training RMSE: ', round(np.sqrt(mean_squared_error(y_tr2, y_ridge_tr)), 2))\n",
    "print('Training Bias: ', round(bias(y_tr2, y_ridge_tr), 2))\n",
    "print('Training Variance: ', \"{:.4e}\".format(variance(y_ridge_tr)))\n",
    "print(\"\")\n",
    "print('Testing R^2 Score: ', round(r2_score(y_tt2, y_ridge_tt), 4))\n",
    "print('Testing MAE: ', round(mean_absolute_error(y_tt2, y_ridge_tt), 2))\n",
    "print('Testing MSE: ', \"{:.4e}\".format(mean_squared_error(y_tt2, y_ridge_tt)))\n",
    "print('Testing RMSE: ', round(np.sqrt(mean_squared_error(y_tt2, y_ridge_tt)), 2))\n",
    "print('Testing Bias: ', round(bias(y_tt2, y_ridge_tt), 2))\n",
    "print('Testing Variance: ', \"{:.4e}\".format(variance(y_ridge_tt)))"
   ]
  },
  {
   "cell_type": "code",
   "execution_count": 19,
   "metadata": {},
   "outputs": [],
   "source": [
    "# tr_rmse_ridge = []\n",
    "# tt_rmse_ridge = []\n",
    "# alphas_ridge = []\n",
    "\n",
    "# for alpha in np.linspace(0, 10, num=50):\n",
    "#     ridge = Ridge(alpha=alpha)\n",
    "#     ridge.fit(X_tr2, y_tr2)\n",
    "#     tr_pred = ridge.predict(X_tr2)\n",
    "#     tr_rmse_ridge.append(np.sqrt(mean_squared_error(y_tr2, tr_pred)))\n",
    "#     tt_pred = ridge.predict(X_tt2)\n",
    "#     tt_rmse_ridge.append(np.sqrt(mean_squared_error(y_tt2, tt_pred)))\n",
    "#     alphas_ridge.append(alpha)\n",
    "\n",
    "# fig, ax = plt.subplots()\n",
    "# ax.plot(alphas_ridge, tr_rmse_ridge, label=\"Train\")\n",
    "# ax.plot(alphas_ridge, tt_rmse_ridge, label=\"Test\")\n",
    "# ax.set_xlabel(\"Alpha\")\n",
    "# ax.set_ylabel(\"RMSE\")\n",
    "# optimal_alpha = alphas_ridge[np.argmin(tt_rmse_ridge)]\n",
    "# ax.axvline(optimal_alpha, color=\"black\", linestyle=\"--\")\n",
    "# print(f'Optimal Alpha Value: {int(optimal_alpha)}')\n",
    "# plt.savefig('images/optimal_ridge.png')"
   ]
  },
  {
   "source": [
    "<img src=\"images/optimal_ridge.png\">"
   ],
   "cell_type": "markdown",
   "metadata": {}
  },
  {
   "cell_type": "code",
   "execution_count": 20,
   "metadata": {},
   "outputs": [
    {
     "output_type": "stream",
     "name": "stdout",
     "text": [
      "Training R^2 Score:  0.8383\nTraining MAE:  89614.14\nTraining MSE:  2.2782e+10\nTraining RMSE:  150938.29\nTraining Bias:  -0.0\nTraining Variance:  1.1698e+11\n\nTesting R^2 Score:  0.8402\nTesting MAE:  86599.43\nTesting MSE:  2.1257e+10\nTesting RMSE:  145799.13\nTesting Bias:  5205.19\nTesting Variance:  1.1420e+11\n"
     ]
    }
   ],
   "source": [
    "ridge = Ridge(alpha=1, normalize=False)\n",
    "ridge.fit(X_tr2, y_tr2)\n",
    "y_best_ridge_tr = ridge.predict(X_tr2)\n",
    "y_best_ridge_tt = ridge.predict(X_tt2)\n",
    "\n",
    "print('Training R^2 Score: ', round(r2_score(y_tr2, y_best_ridge_tr), 4))\n",
    "print('Training MAE: ', round(mean_absolute_error(y_tr2, y_best_ridge_tr), 2))\n",
    "print('Training MSE: ', \"{:.4e}\".format(mean_squared_error(y_tr2, y_best_ridge_tr)))\n",
    "print('Training RMSE: ', round(np.sqrt(mean_squared_error(y_tr2, y_best_ridge_tr)), 2))\n",
    "print('Training Bias: ', round(bias(y_tr2, y_best_ridge_tr), 2))\n",
    "print('Training Variance: ', \"{:.4e}\".format(variance(y_best_ridge_tr)))\n",
    "print(\"\")\n",
    "print('Testing R^2 Score: ', round(r2_score(y_tt2, y_best_ridge_tt), 4))\n",
    "print('Testing MAE: ', round(mean_absolute_error(y_tt2, y_best_ridge_tt), 2))\n",
    "print('Testing MSE: ', \"{:.4e}\".format(mean_squared_error(y_tt2, y_best_ridge_tt)))\n",
    "print('Testing RMSE: ', round(np.sqrt(mean_squared_error(y_tt2, y_best_ridge_tt)), 2))\n",
    "print('Testing Bias: ', round(bias(y_tt2, y_best_ridge_tt), 2))\n",
    "print('Testing Variance: ', \"{:.4e}\".format(variance(y_best_ridge_tt)))"
   ]
  },
  {
   "source": [
    "## Lasso Regression"
   ],
   "cell_type": "markdown",
   "metadata": {}
  },
  {
   "cell_type": "code",
   "execution_count": 21,
   "metadata": {},
   "outputs": [
    {
     "output_type": "stream",
     "name": "stdout",
     "text": [
      "Training R^2 Score:  0.8393\nTraining MAE:  89144.08\nTraining MSE:  2.2647e+10\nTraining RMSE:  150489.09\nTraining Bias:  -0.0\nTraining Variance:  1.1822e+11\n\nTesting R^2 Score:  0.8404\nTesting MAE:  85971.41\nTesting MSE:  2.1237e+10\nTesting RMSE:  145730.86\nTesting Bias:  4413.75\nTesting Variance:  1.1343e+11\n"
     ]
    }
   ],
   "source": [
    "lasso = Lasso(alpha=1).fit(X_tr2, y_tr2)\n",
    "y_lasso_tr = lasso.predict(X_tr2)\n",
    "y_lasso_tt = lasso.predict(X_tt2)\n",
    "print('Training R^2 Score: ', round(r2_score(y_tr2, y_lasso_tr), 4))\n",
    "print('Training MAE: ', round(mean_absolute_error(y_tr2, y_lasso_tr), 2))\n",
    "print('Training MSE: ', \"{:.4e}\".format(mean_squared_error(y_tr2, y_lasso_tr)))\n",
    "print('Training RMSE: ', round(np.sqrt(mean_squared_error(y_tr2, y_lasso_tr)), 2))\n",
    "print('Training Bias: ', round(bias(y_tr2, y_lasso_tr), 2))\n",
    "print('Training Variance: ', \"{:.4e}\".format(variance(y_lasso_tr)))\n",
    "print(\"\")\n",
    "print('Testing R^2 Score: ', round(r2_score(y_tt2, y_lasso_tt), 4))\n",
    "print('Testing MAE: ', round(mean_absolute_error(y_tt2, y_lasso_tt), 2))\n",
    "print('Testing MSE: ', \"{:.4e}\".format(mean_squared_error(y_tt2, y_lasso_tt)))\n",
    "print('Testing RMSE: ', round(np.sqrt(mean_squared_error(y_tt2, y_lasso_tt)), 2))\n",
    "print('Testing Bias: ', round(bias(y_tt2, y_lasso_tt), 2))\n",
    "print('Testing Variance: ', \"{:.4e}\".format(variance(y_lasso_tt)))"
   ]
  },
  {
   "cell_type": "code",
   "execution_count": 22,
   "metadata": {},
   "outputs": [
    {
     "output_type": "stream",
     "name": "stdout",
     "text": [
      "Optimal Alpha Value: 16\n"
     ]
    },
    {
     "output_type": "display_data",
     "data": {
      "text/plain": "<Figure size 432x288 with 1 Axes>",
      "image/svg+xml": "<?xml version=\"1.0\" encoding=\"utf-8\" standalone=\"no\"?>\n<!DOCTYPE svg PUBLIC \"-//W3C//DTD SVG 1.1//EN\"\n  \"http://www.w3.org/Graphics/SVG/1.1/DTD/svg11.dtd\">\n<!-- Created with matplotlib (https://matplotlib.org/) -->\n<svg height=\"284.988625pt\" version=\"1.1\" viewBox=\"0 0 467.44425 284.988625\" width=\"467.44425pt\" xmlns=\"http://www.w3.org/2000/svg\" xmlns:xlink=\"http://www.w3.org/1999/xlink\">\n <metadata>\n  <rdf:RDF xmlns:cc=\"http://creativecommons.org/ns#\" xmlns:dc=\"http://purl.org/dc/elements/1.1/\" xmlns:rdf=\"http://www.w3.org/1999/02/22-rdf-syntax-ns#\">\n   <cc:Work>\n    <dc:type rdf:resource=\"http://purl.org/dc/dcmitype/StillImage\"/>\n    <dc:date>2021-02-02T00:27:47.157591</dc:date>\n    <dc:format>image/svg+xml</dc:format>\n    <dc:creator>\n     <cc:Agent>\n      <dc:title>Matplotlib v3.3.3, https://matplotlib.org/</dc:title>\n     </cc:Agent>\n    </dc:creator>\n   </cc:Work>\n  </rdf:RDF>\n </metadata>\n <defs>\n  <style type=\"text/css\">*{stroke-linecap:butt;stroke-linejoin:round;}</style>\n </defs>\n <g id=\"figure_1\">\n  <g id=\"patch_1\">\n   <path d=\"M 0 284.988625 \nL 467.44425 284.988625 \nL 467.44425 0 \nL 0 0 \nz\n\" style=\"fill:#f0f0f0;\"/>\n  </g>\n  <g id=\"axes_1\">\n   <g id=\"patch_2\">\n    <path d=\"M 84.40425 240.48 \nL 460.24425 240.48 \nL 460.24425 7.2 \nL 84.40425 7.2 \nz\n\" style=\"fill:#f0f0f0;\"/>\n   </g>\n   <g id=\"matplotlib.axis_1\">\n    <g id=\"xtick_1\">\n     <g id=\"line2d_1\">\n      <path clip-path=\"url(#pfa5ea174f5)\" d=\"M 101.487886 240.48 \nL 101.487886 7.2 \n\" style=\"fill:none;stroke:#cbcbcb;\"/>\n     </g>\n     <g id=\"line2d_2\"/>\n     <g id=\"text_1\">\n      <!-- 0 -->\n      <g transform=\"translate(97.034136 254.617813)scale(0.14 -0.14)\">\n       <defs>\n        <path d=\"M 31.78125 66.40625 \nQ 24.171875 66.40625 20.328125 58.90625 \nQ 16.5 51.421875 16.5 36.375 \nQ 16.5 21.390625 20.328125 13.890625 \nQ 24.171875 6.390625 31.78125 6.390625 \nQ 39.453125 6.390625 43.28125 13.890625 \nQ 47.125 21.390625 47.125 36.375 \nQ 47.125 51.421875 43.28125 58.90625 \nQ 39.453125 66.40625 31.78125 66.40625 \nz\nM 31.78125 74.21875 \nQ 44.046875 74.21875 50.515625 64.515625 \nQ 56.984375 54.828125 56.984375 36.375 \nQ 56.984375 17.96875 50.515625 8.265625 \nQ 44.046875 -1.421875 31.78125 -1.421875 \nQ 19.53125 -1.421875 13.0625 8.265625 \nQ 6.59375 17.96875 6.59375 36.375 \nQ 6.59375 54.828125 13.0625 64.515625 \nQ 19.53125 74.21875 31.78125 74.21875 \nz\n\" id=\"DejaVuSans-48\"/>\n       </defs>\n       <use xlink:href=\"#DejaVuSans-48\"/>\n      </g>\n     </g>\n    </g>\n    <g id=\"xtick_2\">\n     <g id=\"line2d_3\">\n      <path clip-path=\"url(#pfa5ea174f5)\" d=\"M 186.906068 240.48 \nL 186.906068 7.2 \n\" style=\"fill:none;stroke:#cbcbcb;\"/>\n     </g>\n     <g id=\"line2d_4\"/>\n     <g id=\"text_2\">\n      <!-- 50 -->\n      <g transform=\"translate(177.998568 254.617813)scale(0.14 -0.14)\">\n       <defs>\n        <path d=\"M 10.796875 72.90625 \nL 49.515625 72.90625 \nL 49.515625 64.59375 \nL 19.828125 64.59375 \nL 19.828125 46.734375 \nQ 21.96875 47.46875 24.109375 47.828125 \nQ 26.265625 48.1875 28.421875 48.1875 \nQ 40.625 48.1875 47.75 41.5 \nQ 54.890625 34.8125 54.890625 23.390625 \nQ 54.890625 11.625 47.5625 5.09375 \nQ 40.234375 -1.421875 26.90625 -1.421875 \nQ 22.3125 -1.421875 17.546875 -0.640625 \nQ 12.796875 0.140625 7.71875 1.703125 \nL 7.71875 11.625 \nQ 12.109375 9.234375 16.796875 8.0625 \nQ 21.484375 6.890625 26.703125 6.890625 \nQ 35.15625 6.890625 40.078125 11.328125 \nQ 45.015625 15.765625 45.015625 23.390625 \nQ 45.015625 31 40.078125 35.4375 \nQ 35.15625 39.890625 26.703125 39.890625 \nQ 22.75 39.890625 18.8125 39.015625 \nQ 14.890625 38.140625 10.796875 36.28125 \nz\n\" id=\"DejaVuSans-53\"/>\n       </defs>\n       <use xlink:href=\"#DejaVuSans-53\"/>\n       <use x=\"63.623047\" xlink:href=\"#DejaVuSans-48\"/>\n      </g>\n     </g>\n    </g>\n    <g id=\"xtick_3\">\n     <g id=\"line2d_5\">\n      <path clip-path=\"url(#pfa5ea174f5)\" d=\"M 272.32425 240.48 \nL 272.32425 7.2 \n\" style=\"fill:none;stroke:#cbcbcb;\"/>\n     </g>\n     <g id=\"line2d_6\"/>\n     <g id=\"text_3\">\n      <!-- 100 -->\n      <g transform=\"translate(258.963 254.617813)scale(0.14 -0.14)\">\n       <defs>\n        <path d=\"M 12.40625 8.296875 \nL 28.515625 8.296875 \nL 28.515625 63.921875 \nL 10.984375 60.40625 \nL 10.984375 69.390625 \nL 28.421875 72.90625 \nL 38.28125 72.90625 \nL 38.28125 8.296875 \nL 54.390625 8.296875 \nL 54.390625 0 \nL 12.40625 0 \nz\n\" id=\"DejaVuSans-49\"/>\n       </defs>\n       <use xlink:href=\"#DejaVuSans-49\"/>\n       <use x=\"63.623047\" xlink:href=\"#DejaVuSans-48\"/>\n       <use x=\"127.246094\" xlink:href=\"#DejaVuSans-48\"/>\n      </g>\n     </g>\n    </g>\n    <g id=\"xtick_4\">\n     <g id=\"line2d_7\">\n      <path clip-path=\"url(#pfa5ea174f5)\" d=\"M 357.742432 240.48 \nL 357.742432 7.2 \n\" style=\"fill:none;stroke:#cbcbcb;\"/>\n     </g>\n     <g id=\"line2d_8\"/>\n     <g id=\"text_4\">\n      <!-- 150 -->\n      <g transform=\"translate(344.381182 254.617813)scale(0.14 -0.14)\">\n       <use xlink:href=\"#DejaVuSans-49\"/>\n       <use x=\"63.623047\" xlink:href=\"#DejaVuSans-53\"/>\n       <use x=\"127.246094\" xlink:href=\"#DejaVuSans-48\"/>\n      </g>\n     </g>\n    </g>\n    <g id=\"xtick_5\">\n     <g id=\"line2d_9\">\n      <path clip-path=\"url(#pfa5ea174f5)\" d=\"M 443.160614 240.48 \nL 443.160614 7.2 \n\" style=\"fill:none;stroke:#cbcbcb;\"/>\n     </g>\n     <g id=\"line2d_10\"/>\n     <g id=\"text_5\">\n      <!-- 200 -->\n      <g transform=\"translate(429.799364 254.617813)scale(0.14 -0.14)\">\n       <defs>\n        <path d=\"M 19.1875 8.296875 \nL 53.609375 8.296875 \nL 53.609375 0 \nL 7.328125 0 \nL 7.328125 8.296875 \nQ 12.9375 14.109375 22.625 23.890625 \nQ 32.328125 33.6875 34.8125 36.53125 \nQ 39.546875 41.84375 41.421875 45.53125 \nQ 43.3125 49.21875 43.3125 52.78125 \nQ 43.3125 58.59375 39.234375 62.25 \nQ 35.15625 65.921875 28.609375 65.921875 \nQ 23.96875 65.921875 18.8125 64.3125 \nQ 13.671875 62.703125 7.8125 59.421875 \nL 7.8125 69.390625 \nQ 13.765625 71.78125 18.9375 73 \nQ 24.125 74.21875 28.421875 74.21875 \nQ 39.75 74.21875 46.484375 68.546875 \nQ 53.21875 62.890625 53.21875 53.421875 \nQ 53.21875 48.921875 51.53125 44.890625 \nQ 49.859375 40.875 45.40625 35.40625 \nQ 44.1875 33.984375 37.640625 27.21875 \nQ 31.109375 20.453125 19.1875 8.296875 \nz\n\" id=\"DejaVuSans-50\"/>\n       </defs>\n       <use xlink:href=\"#DejaVuSans-50\"/>\n       <use x=\"63.623047\" xlink:href=\"#DejaVuSans-48\"/>\n       <use x=\"127.246094\" xlink:href=\"#DejaVuSans-48\"/>\n      </g>\n     </g>\n    </g>\n    <g id=\"text_6\">\n     <!-- Alpha -->\n     <g transform=\"translate(248.440687 274.29475)scale(0.168 -0.168)\">\n      <defs>\n       <path d=\"M 34.1875 63.1875 \nL 20.796875 26.90625 \nL 47.609375 26.90625 \nz\nM 28.609375 72.90625 \nL 39.796875 72.90625 \nL 67.578125 0 \nL 57.328125 0 \nL 50.6875 18.703125 \nL 17.828125 18.703125 \nL 11.1875 0 \nL 0.78125 0 \nz\n\" id=\"DejaVuSans-65\"/>\n       <path d=\"M 9.421875 75.984375 \nL 18.40625 75.984375 \nL 18.40625 0 \nL 9.421875 0 \nz\n\" id=\"DejaVuSans-108\"/>\n       <path d=\"M 18.109375 8.203125 \nL 18.109375 -20.796875 \nL 9.078125 -20.796875 \nL 9.078125 54.6875 \nL 18.109375 54.6875 \nL 18.109375 46.390625 \nQ 20.953125 51.265625 25.265625 53.625 \nQ 29.59375 56 35.59375 56 \nQ 45.5625 56 51.78125 48.09375 \nQ 58.015625 40.1875 58.015625 27.296875 \nQ 58.015625 14.40625 51.78125 6.484375 \nQ 45.5625 -1.421875 35.59375 -1.421875 \nQ 29.59375 -1.421875 25.265625 0.953125 \nQ 20.953125 3.328125 18.109375 8.203125 \nz\nM 48.6875 27.296875 \nQ 48.6875 37.203125 44.609375 42.84375 \nQ 40.53125 48.484375 33.40625 48.484375 \nQ 26.265625 48.484375 22.1875 42.84375 \nQ 18.109375 37.203125 18.109375 27.296875 \nQ 18.109375 17.390625 22.1875 11.75 \nQ 26.265625 6.109375 33.40625 6.109375 \nQ 40.53125 6.109375 44.609375 11.75 \nQ 48.6875 17.390625 48.6875 27.296875 \nz\n\" id=\"DejaVuSans-112\"/>\n       <path d=\"M 54.890625 33.015625 \nL 54.890625 0 \nL 45.90625 0 \nL 45.90625 32.71875 \nQ 45.90625 40.484375 42.875 44.328125 \nQ 39.84375 48.1875 33.796875 48.1875 \nQ 26.515625 48.1875 22.3125 43.546875 \nQ 18.109375 38.921875 18.109375 30.90625 \nL 18.109375 0 \nL 9.078125 0 \nL 9.078125 75.984375 \nL 18.109375 75.984375 \nL 18.109375 46.1875 \nQ 21.34375 51.125 25.703125 53.5625 \nQ 30.078125 56 35.796875 56 \nQ 45.21875 56 50.046875 50.171875 \nQ 54.890625 44.34375 54.890625 33.015625 \nz\n\" id=\"DejaVuSans-104\"/>\n       <path d=\"M 34.28125 27.484375 \nQ 23.390625 27.484375 19.1875 25 \nQ 14.984375 22.515625 14.984375 16.5 \nQ 14.984375 11.71875 18.140625 8.90625 \nQ 21.296875 6.109375 26.703125 6.109375 \nQ 34.1875 6.109375 38.703125 11.40625 \nQ 43.21875 16.703125 43.21875 25.484375 \nL 43.21875 27.484375 \nz\nM 52.203125 31.203125 \nL 52.203125 0 \nL 43.21875 0 \nL 43.21875 8.296875 \nQ 40.140625 3.328125 35.546875 0.953125 \nQ 30.953125 -1.421875 24.3125 -1.421875 \nQ 15.921875 -1.421875 10.953125 3.296875 \nQ 6 8.015625 6 15.921875 \nQ 6 25.140625 12.171875 29.828125 \nQ 18.359375 34.515625 30.609375 34.515625 \nL 43.21875 34.515625 \nL 43.21875 35.40625 \nQ 43.21875 41.609375 39.140625 45 \nQ 35.0625 48.390625 27.6875 48.390625 \nQ 23 48.390625 18.546875 47.265625 \nQ 14.109375 46.140625 10.015625 43.890625 \nL 10.015625 52.203125 \nQ 14.9375 54.109375 19.578125 55.046875 \nQ 24.21875 56 28.609375 56 \nQ 40.484375 56 46.34375 49.84375 \nQ 52.203125 43.703125 52.203125 31.203125 \nz\n\" id=\"DejaVuSans-97\"/>\n      </defs>\n      <use xlink:href=\"#DejaVuSans-65\"/>\n      <use x=\"68.408203\" xlink:href=\"#DejaVuSans-108\"/>\n      <use x=\"96.191406\" xlink:href=\"#DejaVuSans-112\"/>\n      <use x=\"159.667969\" xlink:href=\"#DejaVuSans-104\"/>\n      <use x=\"223.046875\" xlink:href=\"#DejaVuSans-97\"/>\n     </g>\n    </g>\n   </g>\n   <g id=\"matplotlib.axis_2\">\n    <g id=\"ytick_1\">\n     <g id=\"line2d_11\">\n      <path clip-path=\"url(#pfa5ea174f5)\" d=\"M 84.40425 215.406325 \nL 460.24425 215.406325 \n\" style=\"fill:none;stroke:#cbcbcb;\"/>\n     </g>\n     <g id=\"line2d_12\"/>\n     <g id=\"text_7\">\n      <!-- 146000 -->\n      <g transform=\"translate(27.45925 220.725232)scale(0.14 -0.14)\">\n       <defs>\n        <path d=\"M 37.796875 64.3125 \nL 12.890625 25.390625 \nL 37.796875 25.390625 \nz\nM 35.203125 72.90625 \nL 47.609375 72.90625 \nL 47.609375 25.390625 \nL 58.015625 25.390625 \nL 58.015625 17.1875 \nL 47.609375 17.1875 \nL 47.609375 0 \nL 37.796875 0 \nL 37.796875 17.1875 \nL 4.890625 17.1875 \nL 4.890625 26.703125 \nz\n\" id=\"DejaVuSans-52\"/>\n        <path d=\"M 33.015625 40.375 \nQ 26.375 40.375 22.484375 35.828125 \nQ 18.609375 31.296875 18.609375 23.390625 \nQ 18.609375 15.53125 22.484375 10.953125 \nQ 26.375 6.390625 33.015625 6.390625 \nQ 39.65625 6.390625 43.53125 10.953125 \nQ 47.40625 15.53125 47.40625 23.390625 \nQ 47.40625 31.296875 43.53125 35.828125 \nQ 39.65625 40.375 33.015625 40.375 \nz\nM 52.59375 71.296875 \nL 52.59375 62.3125 \nQ 48.875 64.0625 45.09375 64.984375 \nQ 41.3125 65.921875 37.59375 65.921875 \nQ 27.828125 65.921875 22.671875 59.328125 \nQ 17.53125 52.734375 16.796875 39.40625 \nQ 19.671875 43.65625 24.015625 45.921875 \nQ 28.375 48.1875 33.59375 48.1875 \nQ 44.578125 48.1875 50.953125 41.515625 \nQ 57.328125 34.859375 57.328125 23.390625 \nQ 57.328125 12.15625 50.6875 5.359375 \nQ 44.046875 -1.421875 33.015625 -1.421875 \nQ 20.359375 -1.421875 13.671875 8.265625 \nQ 6.984375 17.96875 6.984375 36.375 \nQ 6.984375 53.65625 15.1875 63.9375 \nQ 23.390625 74.21875 37.203125 74.21875 \nQ 40.921875 74.21875 44.703125 73.484375 \nQ 48.484375 72.75 52.59375 71.296875 \nz\n\" id=\"DejaVuSans-54\"/>\n       </defs>\n       <use xlink:href=\"#DejaVuSans-49\"/>\n       <use x=\"63.623047\" xlink:href=\"#DejaVuSans-52\"/>\n       <use x=\"127.246094\" xlink:href=\"#DejaVuSans-54\"/>\n       <use x=\"190.869141\" xlink:href=\"#DejaVuSans-48\"/>\n       <use x=\"254.492188\" xlink:href=\"#DejaVuSans-48\"/>\n       <use x=\"318.115234\" xlink:href=\"#DejaVuSans-48\"/>\n      </g>\n     </g>\n    </g>\n    <g id=\"ytick_2\">\n     <g id=\"line2d_13\">\n      <path clip-path=\"url(#pfa5ea174f5)\" d=\"M 84.40425 170.284423 \nL 460.24425 170.284423 \n\" style=\"fill:none;stroke:#cbcbcb;\"/>\n     </g>\n     <g id=\"line2d_14\"/>\n     <g id=\"text_8\">\n      <!-- 148000 -->\n      <g transform=\"translate(27.45925 175.603329)scale(0.14 -0.14)\">\n       <defs>\n        <path d=\"M 31.78125 34.625 \nQ 24.75 34.625 20.71875 30.859375 \nQ 16.703125 27.09375 16.703125 20.515625 \nQ 16.703125 13.921875 20.71875 10.15625 \nQ 24.75 6.390625 31.78125 6.390625 \nQ 38.8125 6.390625 42.859375 10.171875 \nQ 46.921875 13.96875 46.921875 20.515625 \nQ 46.921875 27.09375 42.890625 30.859375 \nQ 38.875 34.625 31.78125 34.625 \nz\nM 21.921875 38.8125 \nQ 15.578125 40.375 12.03125 44.71875 \nQ 8.5 49.078125 8.5 55.328125 \nQ 8.5 64.0625 14.71875 69.140625 \nQ 20.953125 74.21875 31.78125 74.21875 \nQ 42.671875 74.21875 48.875 69.140625 \nQ 55.078125 64.0625 55.078125 55.328125 \nQ 55.078125 49.078125 51.53125 44.71875 \nQ 48 40.375 41.703125 38.8125 \nQ 48.828125 37.15625 52.796875 32.3125 \nQ 56.78125 27.484375 56.78125 20.515625 \nQ 56.78125 9.90625 50.3125 4.234375 \nQ 43.84375 -1.421875 31.78125 -1.421875 \nQ 19.734375 -1.421875 13.25 4.234375 \nQ 6.78125 9.90625 6.78125 20.515625 \nQ 6.78125 27.484375 10.78125 32.3125 \nQ 14.796875 37.15625 21.921875 38.8125 \nz\nM 18.3125 54.390625 \nQ 18.3125 48.734375 21.84375 45.5625 \nQ 25.390625 42.390625 31.78125 42.390625 \nQ 38.140625 42.390625 41.71875 45.5625 \nQ 45.3125 48.734375 45.3125 54.390625 \nQ 45.3125 60.0625 41.71875 63.234375 \nQ 38.140625 66.40625 31.78125 66.40625 \nQ 25.390625 66.40625 21.84375 63.234375 \nQ 18.3125 60.0625 18.3125 54.390625 \nz\n\" id=\"DejaVuSans-56\"/>\n       </defs>\n       <use xlink:href=\"#DejaVuSans-49\"/>\n       <use x=\"63.623047\" xlink:href=\"#DejaVuSans-52\"/>\n       <use x=\"127.246094\" xlink:href=\"#DejaVuSans-56\"/>\n       <use x=\"190.869141\" xlink:href=\"#DejaVuSans-48\"/>\n       <use x=\"254.492188\" xlink:href=\"#DejaVuSans-48\"/>\n       <use x=\"318.115234\" xlink:href=\"#DejaVuSans-48\"/>\n      </g>\n     </g>\n    </g>\n    <g id=\"ytick_3\">\n     <g id=\"line2d_15\">\n      <path clip-path=\"url(#pfa5ea174f5)\" d=\"M 84.40425 125.16252 \nL 460.24425 125.16252 \n\" style=\"fill:none;stroke:#cbcbcb;\"/>\n     </g>\n     <g id=\"line2d_16\"/>\n     <g id=\"text_9\">\n      <!-- 150000 -->\n      <g transform=\"translate(27.45925 130.481427)scale(0.14 -0.14)\">\n       <use xlink:href=\"#DejaVuSans-49\"/>\n       <use x=\"63.623047\" xlink:href=\"#DejaVuSans-53\"/>\n       <use x=\"127.246094\" xlink:href=\"#DejaVuSans-48\"/>\n       <use x=\"190.869141\" xlink:href=\"#DejaVuSans-48\"/>\n       <use x=\"254.492188\" xlink:href=\"#DejaVuSans-48\"/>\n       <use x=\"318.115234\" xlink:href=\"#DejaVuSans-48\"/>\n      </g>\n     </g>\n    </g>\n    <g id=\"ytick_4\">\n     <g id=\"line2d_17\">\n      <path clip-path=\"url(#pfa5ea174f5)\" d=\"M 84.40425 80.040618 \nL 460.24425 80.040618 \n\" style=\"fill:none;stroke:#cbcbcb;\"/>\n     </g>\n     <g id=\"line2d_18\"/>\n     <g id=\"text_10\">\n      <!-- 152000 -->\n      <g transform=\"translate(27.45925 85.359524)scale(0.14 -0.14)\">\n       <use xlink:href=\"#DejaVuSans-49\"/>\n       <use x=\"63.623047\" xlink:href=\"#DejaVuSans-53\"/>\n       <use x=\"127.246094\" xlink:href=\"#DejaVuSans-50\"/>\n       <use x=\"190.869141\" xlink:href=\"#DejaVuSans-48\"/>\n       <use x=\"254.492188\" xlink:href=\"#DejaVuSans-48\"/>\n       <use x=\"318.115234\" xlink:href=\"#DejaVuSans-48\"/>\n      </g>\n     </g>\n    </g>\n    <g id=\"ytick_5\">\n     <g id=\"line2d_19\">\n      <path clip-path=\"url(#pfa5ea174f5)\" d=\"M 84.40425 34.918715 \nL 460.24425 34.918715 \n\" style=\"fill:none;stroke:#cbcbcb;\"/>\n     </g>\n     <g id=\"line2d_20\"/>\n     <g id=\"text_11\">\n      <!-- 154000 -->\n      <g transform=\"translate(27.45925 40.237621)scale(0.14 -0.14)\">\n       <use xlink:href=\"#DejaVuSans-49\"/>\n       <use x=\"63.623047\" xlink:href=\"#DejaVuSans-53\"/>\n       <use x=\"127.246094\" xlink:href=\"#DejaVuSans-52\"/>\n       <use x=\"190.869141\" xlink:href=\"#DejaVuSans-48\"/>\n       <use x=\"254.492188\" xlink:href=\"#DejaVuSans-48\"/>\n       <use x=\"318.115234\" xlink:href=\"#DejaVuSans-48\"/>\n      </g>\n     </g>\n    </g>\n    <g id=\"text_12\">\n     <!-- RMSE -->\n     <g transform=\"translate(19.965375 147.56475)rotate(-90)scale(0.168 -0.168)\">\n      <defs>\n       <path d=\"M 44.390625 34.1875 \nQ 47.5625 33.109375 50.5625 29.59375 \nQ 53.5625 26.078125 56.59375 19.921875 \nL 66.609375 0 \nL 56 0 \nL 46.6875 18.703125 \nQ 43.0625 26.03125 39.671875 28.421875 \nQ 36.28125 30.8125 30.421875 30.8125 \nL 19.671875 30.8125 \nL 19.671875 0 \nL 9.8125 0 \nL 9.8125 72.90625 \nL 32.078125 72.90625 \nQ 44.578125 72.90625 50.734375 67.671875 \nQ 56.890625 62.453125 56.890625 51.90625 \nQ 56.890625 45.015625 53.6875 40.46875 \nQ 50.484375 35.9375 44.390625 34.1875 \nz\nM 19.671875 64.796875 \nL 19.671875 38.921875 \nL 32.078125 38.921875 \nQ 39.203125 38.921875 42.84375 42.21875 \nQ 46.484375 45.515625 46.484375 51.90625 \nQ 46.484375 58.296875 42.84375 61.546875 \nQ 39.203125 64.796875 32.078125 64.796875 \nz\n\" id=\"DejaVuSans-82\"/>\n       <path d=\"M 9.8125 72.90625 \nL 24.515625 72.90625 \nL 43.109375 23.296875 \nL 61.8125 72.90625 \nL 76.515625 72.90625 \nL 76.515625 0 \nL 66.890625 0 \nL 66.890625 64.015625 \nL 48.09375 14.015625 \nL 38.1875 14.015625 \nL 19.390625 64.015625 \nL 19.390625 0 \nL 9.8125 0 \nz\n\" id=\"DejaVuSans-77\"/>\n       <path d=\"M 53.515625 70.515625 \nL 53.515625 60.890625 \nQ 47.90625 63.578125 42.921875 64.890625 \nQ 37.9375 66.21875 33.296875 66.21875 \nQ 25.25 66.21875 20.875 63.09375 \nQ 16.5 59.96875 16.5 54.203125 \nQ 16.5 49.359375 19.40625 46.890625 \nQ 22.3125 44.4375 30.421875 42.921875 \nL 36.375 41.703125 \nQ 47.40625 39.59375 52.65625 34.296875 \nQ 57.90625 29 57.90625 20.125 \nQ 57.90625 9.515625 50.796875 4.046875 \nQ 43.703125 -1.421875 29.984375 -1.421875 \nQ 24.8125 -1.421875 18.96875 -0.25 \nQ 13.140625 0.921875 6.890625 3.21875 \nL 6.890625 13.375 \nQ 12.890625 10.015625 18.65625 8.296875 \nQ 24.421875 6.59375 29.984375 6.59375 \nQ 38.421875 6.59375 43.015625 9.90625 \nQ 47.609375 13.234375 47.609375 19.390625 \nQ 47.609375 24.75 44.3125 27.78125 \nQ 41.015625 30.8125 33.5 32.328125 \nL 27.484375 33.5 \nQ 16.453125 35.6875 11.515625 40.375 \nQ 6.59375 45.0625 6.59375 53.421875 \nQ 6.59375 63.09375 13.40625 68.65625 \nQ 20.21875 74.21875 32.171875 74.21875 \nQ 37.3125 74.21875 42.625 73.28125 \nQ 47.953125 72.359375 53.515625 70.515625 \nz\n\" id=\"DejaVuSans-83\"/>\n       <path d=\"M 9.8125 72.90625 \nL 55.90625 72.90625 \nL 55.90625 64.59375 \nL 19.671875 64.59375 \nL 19.671875 43.015625 \nL 54.390625 43.015625 \nL 54.390625 34.71875 \nL 19.671875 34.71875 \nL 19.671875 8.296875 \nL 56.78125 8.296875 \nL 56.78125 0 \nL 9.8125 0 \nz\n\" id=\"DejaVuSans-69\"/>\n      </defs>\n      <use xlink:href=\"#DejaVuSans-82\"/>\n      <use x=\"69.482422\" xlink:href=\"#DejaVuSans-77\"/>\n      <use x=\"155.761719\" xlink:href=\"#DejaVuSans-83\"/>\n      <use x=\"219.238281\" xlink:href=\"#DejaVuSans-69\"/>\n     </g>\n    </g>\n   </g>\n   <g id=\"line2d_21\">\n    <path clip-path=\"url(#pfa5ea174f5)\" d=\"M 101.487886 114.145072 \nL 108.460799 113.883093 \nL 115.433712 113.232687 \nL 122.406625 112.209546 \nL 129.379538 111.140801 \nL 136.35245 109.848541 \nL 143.325363 108.211748 \nL 150.298276 106.499433 \nL 157.271189 104.60182 \nL 164.244102 102.470529 \nL 171.217014 100.438149 \nL 178.189927 98.560192 \nL 185.16284 96.596422 \nL 192.135753 94.433506 \nL 199.108666 92.244831 \nL 206.081578 89.960881 \nL 213.054491 87.688891 \nL 220.027404 85.426522 \nL 227.000317 83.040287 \nL 233.97323 80.662334 \nL 240.946142 78.086693 \nL 247.919055 75.583898 \nL 254.891968 72.959469 \nL 261.864881 70.340906 \nL 268.837794 67.750494 \nL 275.810706 65.06364 \nL 282.783619 62.270003 \nL 289.756532 59.370647 \nL 296.729445 56.375076 \nL 303.702358 53.27361 \nL 310.67527 50.101271 \nL 317.648183 46.870613 \nL 324.621096 43.622065 \nL 331.594009 40.492548 \nL 338.566922 38.624722 \nL 345.539834 37.039414 \nL 352.512747 35.64389 \nL 359.48566 34.425466 \nL 366.458573 33.173716 \nL 373.431486 31.915916 \nL 380.404398 30.635261 \nL 387.377311 29.322858 \nL 394.350224 27.978768 \nL 401.323137 26.604512 \nL 408.29605 25.198643 \nL 415.268962 23.76123 \nL 422.241875 22.293543 \nL 429.214788 20.79322 \nL 436.187701 19.280995 \nL 443.160614 17.803636 \n\" style=\"fill:none;stroke:#008fd5;stroke-width:4;\"/>\n   </g>\n   <g id=\"line2d_22\">\n    <path clip-path=\"url(#pfa5ea174f5)\" d=\"M 101.487886 220.554443 \nL 108.460799 224.149966 \nL 115.433712 226.8104 \nL 122.406625 228.899109 \nL 129.379538 229.876364 \nL 136.35245 229.088515 \nL 143.325363 228.059284 \nL 150.298276 226.87475 \nL 157.271189 225.533628 \nL 164.244102 223.959785 \nL 171.217014 222.228224 \nL 178.189927 220.748354 \nL 185.16284 219.274533 \nL 192.135753 217.815808 \nL 199.108666 216.368782 \nL 206.081578 214.966209 \nL 213.054491 213.717827 \nL 220.027404 212.352435 \nL 227.000317 210.892695 \nL 233.97323 209.377975 \nL 240.946142 207.729525 \nL 247.919055 206.151509 \nL 254.891968 204.486677 \nL 261.864881 202.869347 \nL 268.837794 201.34064 \nL 275.810706 199.771574 \nL 282.783619 198.137795 \nL 289.756532 196.440538 \nL 296.729445 194.709491 \nL 303.702358 192.922487 \nL 310.67527 191.188931 \nL 317.648183 189.389521 \nL 324.621096 187.509715 \nL 331.594009 185.710808 \nL 338.566922 184.617118 \nL 345.539834 183.655397 \nL 352.512747 183.168472 \nL 359.48566 183.142737 \nL 366.458573 183.078607 \nL 373.431486 183.001685 \nL 380.404398 182.900738 \nL 387.377311 182.764695 \nL 394.350224 182.593547 \nL 401.323137 182.391392 \nL 408.29605 182.154394 \nL 415.268962 181.882567 \nL 422.241875 181.579618 \nL 429.214788 181.238201 \nL 436.187701 180.857864 \nL 443.160614 180.434914 \n\" style=\"fill:none;stroke:#fc4f30;stroke-width:4;\"/>\n   </g>\n   <g id=\"line2d_23\">\n    <path clip-path=\"url(#pfa5ea174f5)\" d=\"M 129.379538 240.48 \nL 129.379538 7.2 \n\" style=\"fill:none;stroke:#000000;stroke-dasharray:14.8,6.4;stroke-dashoffset:0;stroke-width:4;\"/>\n   </g>\n   <g id=\"patch_3\">\n    <path d=\"M 84.40425 240.48 \nL 84.40425 7.2 \n\" style=\"fill:none;stroke:#f0f0f0;stroke-linecap:square;stroke-linejoin:miter;stroke-width:3;\"/>\n   </g>\n   <g id=\"patch_4\">\n    <path d=\"M 460.24425 240.48 \nL 460.24425 7.2 \n\" style=\"fill:none;stroke:#f0f0f0;stroke-linecap:square;stroke-linejoin:miter;stroke-width:3;\"/>\n   </g>\n   <g id=\"patch_5\">\n    <path d=\"M 84.40425 240.48 \nL 460.24425 240.48 \n\" style=\"fill:none;stroke:#f0f0f0;stroke-linecap:square;stroke-linejoin:miter;stroke-width:3;\"/>\n   </g>\n   <g id=\"patch_6\">\n    <path d=\"M 84.40425 7.2 \nL 460.24425 7.2 \n\" style=\"fill:none;stroke:#f0f0f0;stroke-linecap:square;stroke-linejoin:miter;stroke-width:3;\"/>\n   </g>\n  </g>\n </g>\n <defs>\n  <clipPath id=\"pfa5ea174f5\">\n   <rect height=\"233.28\" width=\"375.84\" x=\"84.40425\" y=\"7.2\"/>\n  </clipPath>\n </defs>\n</svg>\n",
      "image/png": "[encoded data removed]"
     },
     "metadata": {}
    }
   ],
   "source": [
    "# tr_rmse_lasso = []\n",
    "# tt_rmse_lasso = []\n",
    "# alphas_lasso = []\n",
    "\n",
    "# for alpha in np.linspace(0, 200, num=50):\n",
    "#     lasso = Lasso(alpha=alpha)\n",
    "#     lasso.fit(X_tr2, y_tr2)\n",
    "#     tr_pred = lasso.predict(X_tr2)\n",
    "#     tr_rmse_lasso.append(np.sqrt(mean_squared_error(y_tr2, tr_pred)))\n",
    "#     tt_pred = lasso.predict(X_tt2)\n",
    "#     tt_rmse_lasso.append(np.sqrt(mean_squared_error(y_tt2, tt_pred)))\n",
    "#     alphas_lasso.append(alpha)\n",
    "\n",
    "# fig, ax = plt.subplots()\n",
    "# ax.plot(alphas_lasso, tr_rmse_lasso, label=\"Train\")\n",
    "# ax.plot(alphas_lasso, tt_rmse_lasso, label=\"Test\")\n",
    "# ax.set_xlabel(\"Alpha\")\n",
    "# ax.set_ylabel(\"RMSE\")\n",
    "# optimal_alpha = alphas_lasso[np.argmin(tt_rmse_lasso)]\n",
    "# ax.axvline(optimal_alpha, color=\"black\", linestyle=\"--\")\n",
    "# print(f'Optimal Alpha Value: {int(optimal_alpha)}')\n",
    "# plt.savefig('images/optimal_lasso.png')"
   ]
  },
  {
   "source": [
    "<img src=\"images/optimal_lasso.png\">"
   ],
   "cell_type": "markdown",
   "metadata": {}
  },
  {
   "cell_type": "code",
   "execution_count": 23,
   "metadata": {},
   "outputs": [
    {
     "output_type": "stream",
     "name": "stdout",
     "text": [
      "Training R^2 Score:  0.839\nTraining MAE:  89304.42\nTraining MSE:  2.2686e+10\nTraining RMSE:  150617.9\nTraining Bias:  0.0\nTraining Variance:  1.1760e+11\n\nTesting R^2 Score:  0.8412\nTesting MAE:  86111.85\nTesting MSE:  2.1129e+10\nTesting RMSE:  145357.18\nTesting Bias:  4859.58\nTesting Variance:  1.1413e+11\n"
     ]
    }
   ],
   "source": [
    "lasso = Lasso(alpha=16, normalize=False)\n",
    "lasso.fit(X_tr2, y_tr2)\n",
    "y_best_lasso_tr = lasso.predict(X_tr2)\n",
    "y_best_lasso_tt = lasso.predict(X_tt2)\n",
    "\n",
    "print('Training R^2 Score: ', round(r2_score(y_tr2, y_best_lasso_tr), 4))\n",
    "print('Training MAE: ', round(mean_absolute_error(y_tr2, y_best_lasso_tr), 2))\n",
    "print('Training MSE: ', \"{:.4e}\".format(mean_squared_error(y_tr2, y_best_lasso_tr)))\n",
    "print('Training RMSE: ', round(np.sqrt(mean_squared_error(y_tr2, y_best_lasso_tr)), 2))\n",
    "print('Training Bias: ', round(bias(y_tr2, y_best_lasso_tr), 2))\n",
    "print('Training Variance: ', \"{:.4e}\".format(variance(y_best_lasso_tr)))\n",
    "print(\"\")\n",
    "print('Testing R^2 Score: ', round(r2_score(y_tt2, y_best_lasso_tt), 4))\n",
    "print('Testing MAE: ', round(mean_absolute_error(y_tt2, y_best_lasso_tt), 2))\n",
    "print('Testing MSE: ', \"{:.4e}\".format(mean_squared_error(y_tt2, y_best_lasso_tt)))\n",
    "print('Testing RMSE: ', round(np.sqrt(mean_squared_error(y_tt2, y_best_lasso_tt)), 2))\n",
    "print('Testing Bias: ', round(bias(y_tt2, y_best_lasso_tt), 2))\n",
    "print('Testing Variance: ', \"{:.4e}\".format(variance(y_best_lasso_tt)))"
   ]
  },
  {
   "cell_type": "code",
   "execution_count": 28,
   "metadata": {},
   "outputs": [
    {
     "output_type": "display_data",
     "data": {
      "text/plain": "<Figure size 432x288 with 1 Axes>",
      "image/svg+xml": "<?xml version=\"1.0\" encoding=\"utf-8\" standalone=\"no\"?>\n<!DOCTYPE svg PUBLIC \"-//W3C//DTD SVG 1.1//EN\"\n  \"http://www.w3.org/Graphics/SVG/1.1/DTD/svg11.dtd\">\n<!-- Created with matplotlib (https://matplotlib.org/) -->\n<svg height=\"306.307075pt\" version=\"1.1\" viewBox=\"0 0 475.97155 306.307075\" width=\"475.97155pt\" xmlns=\"http://www.w3.org/2000/svg\" xmlns:xlink=\"http://www.w3.org/1999/xlink\">\n <metadata>\n  <rdf:RDF xmlns:cc=\"http://creativecommons.org/ns#\" xmlns:dc=\"http://purl.org/dc/elements/1.1/\" xmlns:rdf=\"http://www.w3.org/1999/02/22-rdf-syntax-ns#\">\n   <cc:Work>\n    <dc:type rdf:resource=\"http://purl.org/dc/dcmitype/StillImage\"/>\n    <dc:date>2021-02-02T00:46:31.467235</dc:date>\n    <dc:format>image/svg+xml</dc:format>\n    <dc:creator>\n     <cc:Agent>\n      <dc:title>Matplotlib v3.3.3, https://matplotlib.org/</dc:title>\n     </cc:Agent>\n    </dc:creator>\n   </cc:Work>\n  </rdf:RDF>\n </metadata>\n <defs>\n  <style type=\"text/css\">*{stroke-linecap:butt;stroke-linejoin:round;}</style>\n </defs>\n <g id=\"figure_1\">\n  <g id=\"patch_1\">\n   <path d=\"M 0 306.307075 \nL 475.97155 306.307075 \nL 475.97155 0 \nL 0 0 \nz\n\" style=\"fill:#f0f0f0;\"/>\n  </g>\n  <g id=\"axes_1\">\n   <g id=\"patch_2\">\n    <path d=\"M 75.49675 261.79845 \nL 451.33675 261.79845 \nL 451.33675 28.51845 \nL 75.49675 28.51845 \nz\n\" style=\"fill:#f0f0f0;\"/>\n   </g>\n   <g id=\"matplotlib.axis_1\">\n    <g id=\"xtick_1\">\n     <g id=\"line2d_1\">\n      <path clip-path=\"url(#pe6ef399dd2)\" d=\"M 115.538527 261.79845 \nL 115.538527 28.51845 \n\" style=\"fill:none;stroke:#cbcbcb;\"/>\n     </g>\n     <g id=\"line2d_2\"/>\n     <g id=\"text_1\">\n      <!-- −3.25 -->\n      <g transform=\"translate(94.086809 275.936262)scale(0.14 -0.14)\">\n       <defs>\n        <path d=\"M 10.59375 35.5 \nL 73.1875 35.5 \nL 73.1875 27.203125 \nL 10.59375 27.203125 \nz\n\" id=\"DejaVuSans-8722\"/>\n        <path d=\"M 40.578125 39.3125 \nQ 47.65625 37.796875 51.625 33 \nQ 55.609375 28.21875 55.609375 21.1875 \nQ 55.609375 10.40625 48.1875 4.484375 \nQ 40.765625 -1.421875 27.09375 -1.421875 \nQ 22.515625 -1.421875 17.65625 -0.515625 \nQ 12.796875 0.390625 7.625 2.203125 \nL 7.625 11.71875 \nQ 11.71875 9.328125 16.59375 8.109375 \nQ 21.484375 6.890625 26.8125 6.890625 \nQ 36.078125 6.890625 40.9375 10.546875 \nQ 45.796875 14.203125 45.796875 21.1875 \nQ 45.796875 27.640625 41.28125 31.265625 \nQ 36.765625 34.90625 28.71875 34.90625 \nL 20.21875 34.90625 \nL 20.21875 43.015625 \nL 29.109375 43.015625 \nQ 36.375 43.015625 40.234375 45.921875 \nQ 44.09375 48.828125 44.09375 54.296875 \nQ 44.09375 59.90625 40.109375 62.90625 \nQ 36.140625 65.921875 28.71875 65.921875 \nQ 24.65625 65.921875 20.015625 65.03125 \nQ 15.375 64.15625 9.8125 62.3125 \nL 9.8125 71.09375 \nQ 15.4375 72.65625 20.34375 73.4375 \nQ 25.25 74.21875 29.59375 74.21875 \nQ 40.828125 74.21875 47.359375 69.109375 \nQ 53.90625 64.015625 53.90625 55.328125 \nQ 53.90625 49.265625 50.4375 45.09375 \nQ 46.96875 40.921875 40.578125 39.3125 \nz\n\" id=\"DejaVuSans-51\"/>\n        <path d=\"M 10.6875 12.40625 \nL 21 12.40625 \nL 21 0 \nL 10.6875 0 \nz\n\" id=\"DejaVuSans-46\"/>\n        <path d=\"M 19.1875 8.296875 \nL 53.609375 8.296875 \nL 53.609375 0 \nL 7.328125 0 \nL 7.328125 8.296875 \nQ 12.9375 14.109375 22.625 23.890625 \nQ 32.328125 33.6875 34.8125 36.53125 \nQ 39.546875 41.84375 41.421875 45.53125 \nQ 43.3125 49.21875 43.3125 52.78125 \nQ 43.3125 58.59375 39.234375 62.25 \nQ 35.15625 65.921875 28.609375 65.921875 \nQ 23.96875 65.921875 18.8125 64.3125 \nQ 13.671875 62.703125 7.8125 59.421875 \nL 7.8125 69.390625 \nQ 13.765625 71.78125 18.9375 73 \nQ 24.125 74.21875 28.421875 74.21875 \nQ 39.75 74.21875 46.484375 68.546875 \nQ 53.21875 62.890625 53.21875 53.421875 \nQ 53.21875 48.921875 51.53125 44.890625 \nQ 49.859375 40.875 45.40625 35.40625 \nQ 44.1875 33.984375 37.640625 27.21875 \nQ 31.109375 20.453125 19.1875 8.296875 \nz\n\" id=\"DejaVuSans-50\"/>\n        <path d=\"M 10.796875 72.90625 \nL 49.515625 72.90625 \nL 49.515625 64.59375 \nL 19.828125 64.59375 \nL 19.828125 46.734375 \nQ 21.96875 47.46875 24.109375 47.828125 \nQ 26.265625 48.1875 28.421875 48.1875 \nQ 40.625 48.1875 47.75 41.5 \nQ 54.890625 34.8125 54.890625 23.390625 \nQ 54.890625 11.625 47.5625 5.09375 \nQ 40.234375 -1.421875 26.90625 -1.421875 \nQ 22.3125 -1.421875 17.546875 -0.640625 \nQ 12.796875 0.140625 7.71875 1.703125 \nL 7.71875 11.625 \nQ 12.109375 9.234375 16.796875 8.0625 \nQ 21.484375 6.890625 26.703125 6.890625 \nQ 35.15625 6.890625 40.078125 11.328125 \nQ 45.015625 15.765625 45.015625 23.390625 \nQ 45.015625 31 40.078125 35.4375 \nQ 35.15625 39.890625 26.703125 39.890625 \nQ 22.75 39.890625 18.8125 39.015625 \nQ 14.890625 38.140625 10.796875 36.28125 \nz\n\" id=\"DejaVuSans-53\"/>\n       </defs>\n       <use xlink:href=\"#DejaVuSans-8722\"/>\n       <use x=\"83.789062\" xlink:href=\"#DejaVuSans-51\"/>\n       <use x=\"147.412109\" xlink:href=\"#DejaVuSans-46\"/>\n       <use x=\"179.199219\" xlink:href=\"#DejaVuSans-50\"/>\n       <use x=\"242.822266\" xlink:href=\"#DejaVuSans-53\"/>\n      </g>\n     </g>\n    </g>\n    <g id=\"xtick_2\">\n     <g id=\"line2d_3\">\n      <path clip-path=\"url(#pe6ef399dd2)\" d=\"M 171.982264 261.79845 \nL 171.982264 28.51845 \n\" style=\"fill:none;stroke:#cbcbcb;\"/>\n     </g>\n     <g id=\"line2d_4\"/>\n     <g id=\"text_2\">\n      <!-- −3.00 -->\n      <g transform=\"translate(150.530545 275.936262)scale(0.14 -0.14)\">\n       <defs>\n        <path d=\"M 31.78125 66.40625 \nQ 24.171875 66.40625 20.328125 58.90625 \nQ 16.5 51.421875 16.5 36.375 \nQ 16.5 21.390625 20.328125 13.890625 \nQ 24.171875 6.390625 31.78125 6.390625 \nQ 39.453125 6.390625 43.28125 13.890625 \nQ 47.125 21.390625 47.125 36.375 \nQ 47.125 51.421875 43.28125 58.90625 \nQ 39.453125 66.40625 31.78125 66.40625 \nz\nM 31.78125 74.21875 \nQ 44.046875 74.21875 50.515625 64.515625 \nQ 56.984375 54.828125 56.984375 36.375 \nQ 56.984375 17.96875 50.515625 8.265625 \nQ 44.046875 -1.421875 31.78125 -1.421875 \nQ 19.53125 -1.421875 13.0625 8.265625 \nQ 6.59375 17.96875 6.59375 36.375 \nQ 6.59375 54.828125 13.0625 64.515625 \nQ 19.53125 74.21875 31.78125 74.21875 \nz\n\" id=\"DejaVuSans-48\"/>\n       </defs>\n       <use xlink:href=\"#DejaVuSans-8722\"/>\n       <use x=\"83.789062\" xlink:href=\"#DejaVuSans-51\"/>\n       <use x=\"147.412109\" xlink:href=\"#DejaVuSans-46\"/>\n       <use x=\"179.199219\" xlink:href=\"#DejaVuSans-48\"/>\n       <use x=\"242.822266\" xlink:href=\"#DejaVuSans-48\"/>\n      </g>\n     </g>\n    </g>\n    <g id=\"xtick_3\">\n     <g id=\"line2d_5\">\n      <path clip-path=\"url(#pe6ef399dd2)\" d=\"M 228.426001 261.79845 \nL 228.426001 28.51845 \n\" style=\"fill:none;stroke:#cbcbcb;\"/>\n     </g>\n     <g id=\"line2d_6\"/>\n     <g id=\"text_3\">\n      <!-- −2.75 -->\n      <g transform=\"translate(206.974282 275.936262)scale(0.14 -0.14)\">\n       <defs>\n        <path d=\"M 8.203125 72.90625 \nL 55.078125 72.90625 \nL 55.078125 68.703125 \nL 28.609375 0 \nL 18.3125 0 \nL 43.21875 64.59375 \nL 8.203125 64.59375 \nz\n\" id=\"DejaVuSans-55\"/>\n       </defs>\n       <use xlink:href=\"#DejaVuSans-8722\"/>\n       <use x=\"83.789062\" xlink:href=\"#DejaVuSans-50\"/>\n       <use x=\"147.412109\" xlink:href=\"#DejaVuSans-46\"/>\n       <use x=\"179.199219\" xlink:href=\"#DejaVuSans-55\"/>\n       <use x=\"242.822266\" xlink:href=\"#DejaVuSans-53\"/>\n      </g>\n     </g>\n    </g>\n    <g id=\"xtick_4\">\n     <g id=\"line2d_7\">\n      <path clip-path=\"url(#pe6ef399dd2)\" d=\"M 284.869738 261.79845 \nL 284.869738 28.51845 \n\" style=\"fill:none;stroke:#cbcbcb;\"/>\n     </g>\n     <g id=\"line2d_8\"/>\n     <g id=\"text_4\">\n      <!-- −2.50 -->\n      <g transform=\"translate(263.418019 275.936262)scale(0.14 -0.14)\">\n       <use xlink:href=\"#DejaVuSans-8722\"/>\n       <use x=\"83.789062\" xlink:href=\"#DejaVuSans-50\"/>\n       <use x=\"147.412109\" xlink:href=\"#DejaVuSans-46\"/>\n       <use x=\"179.199219\" xlink:href=\"#DejaVuSans-53\"/>\n       <use x=\"242.822266\" xlink:href=\"#DejaVuSans-48\"/>\n      </g>\n     </g>\n    </g>\n    <g id=\"xtick_5\">\n     <g id=\"line2d_9\">\n      <path clip-path=\"url(#pe6ef399dd2)\" d=\"M 341.313475 261.79845 \nL 341.313475 28.51845 \n\" style=\"fill:none;stroke:#cbcbcb;\"/>\n     </g>\n     <g id=\"line2d_10\"/>\n     <g id=\"text_5\">\n      <!-- −2.25 -->\n      <g transform=\"translate(319.861756 275.936262)scale(0.14 -0.14)\">\n       <use xlink:href=\"#DejaVuSans-8722\"/>\n       <use x=\"83.789062\" xlink:href=\"#DejaVuSans-50\"/>\n       <use x=\"147.412109\" xlink:href=\"#DejaVuSans-46\"/>\n       <use x=\"179.199219\" xlink:href=\"#DejaVuSans-50\"/>\n       <use x=\"242.822266\" xlink:href=\"#DejaVuSans-53\"/>\n      </g>\n     </g>\n    </g>\n    <g id=\"xtick_6\">\n     <g id=\"line2d_11\">\n      <path clip-path=\"url(#pe6ef399dd2)\" d=\"M 397.757211 261.79845 \nL 397.757211 28.51845 \n\" style=\"fill:none;stroke:#cbcbcb;\"/>\n     </g>\n     <g id=\"line2d_12\"/>\n     <g id=\"text_6\">\n      <!-- −2.00 -->\n      <g transform=\"translate(376.305493 275.936262)scale(0.14 -0.14)\">\n       <use xlink:href=\"#DejaVuSans-8722\"/>\n       <use x=\"83.789062\" xlink:href=\"#DejaVuSans-50\"/>\n       <use x=\"147.412109\" xlink:href=\"#DejaVuSans-46\"/>\n       <use x=\"179.199219\" xlink:href=\"#DejaVuSans-48\"/>\n       <use x=\"242.822266\" xlink:href=\"#DejaVuSans-48\"/>\n      </g>\n     </g>\n    </g>\n    <g id=\"text_7\">\n     <!-- -log(alpha) -->\n     <g transform=\"translate(217.740437 295.6132)scale(0.168 -0.168)\">\n      <defs>\n       <path d=\"M 4.890625 31.390625 \nL 31.203125 31.390625 \nL 31.203125 23.390625 \nL 4.890625 23.390625 \nz\n\" id=\"DejaVuSans-45\"/>\n       <path d=\"M 9.421875 75.984375 \nL 18.40625 75.984375 \nL 18.40625 0 \nL 9.421875 0 \nz\n\" id=\"DejaVuSans-108\"/>\n       <path d=\"M 30.609375 48.390625 \nQ 23.390625 48.390625 19.1875 42.75 \nQ 14.984375 37.109375 14.984375 27.296875 \nQ 14.984375 17.484375 19.15625 11.84375 \nQ 23.34375 6.203125 30.609375 6.203125 \nQ 37.796875 6.203125 41.984375 11.859375 \nQ 46.1875 17.53125 46.1875 27.296875 \nQ 46.1875 37.015625 41.984375 42.703125 \nQ 37.796875 48.390625 30.609375 48.390625 \nz\nM 30.609375 56 \nQ 42.328125 56 49.015625 48.375 \nQ 55.71875 40.765625 55.71875 27.296875 \nQ 55.71875 13.875 49.015625 6.21875 \nQ 42.328125 -1.421875 30.609375 -1.421875 \nQ 18.84375 -1.421875 12.171875 6.21875 \nQ 5.515625 13.875 5.515625 27.296875 \nQ 5.515625 40.765625 12.171875 48.375 \nQ 18.84375 56 30.609375 56 \nz\n\" id=\"DejaVuSans-111\"/>\n       <path d=\"M 45.40625 27.984375 \nQ 45.40625 37.75 41.375 43.109375 \nQ 37.359375 48.484375 30.078125 48.484375 \nQ 22.859375 48.484375 18.828125 43.109375 \nQ 14.796875 37.75 14.796875 27.984375 \nQ 14.796875 18.265625 18.828125 12.890625 \nQ 22.859375 7.515625 30.078125 7.515625 \nQ 37.359375 7.515625 41.375 12.890625 \nQ 45.40625 18.265625 45.40625 27.984375 \nz\nM 54.390625 6.78125 \nQ 54.390625 -7.171875 48.1875 -13.984375 \nQ 42 -20.796875 29.203125 -20.796875 \nQ 24.46875 -20.796875 20.265625 -20.09375 \nQ 16.0625 -19.390625 12.109375 -17.921875 \nL 12.109375 -9.1875 \nQ 16.0625 -11.328125 19.921875 -12.34375 \nQ 23.78125 -13.375 27.78125 -13.375 \nQ 36.625 -13.375 41.015625 -8.765625 \nQ 45.40625 -4.15625 45.40625 5.171875 \nL 45.40625 9.625 \nQ 42.625 4.78125 38.28125 2.390625 \nQ 33.9375 0 27.875 0 \nQ 17.828125 0 11.671875 7.65625 \nQ 5.515625 15.328125 5.515625 27.984375 \nQ 5.515625 40.671875 11.671875 48.328125 \nQ 17.828125 56 27.875 56 \nQ 33.9375 56 38.28125 53.609375 \nQ 42.625 51.21875 45.40625 46.390625 \nL 45.40625 54.6875 \nL 54.390625 54.6875 \nz\n\" id=\"DejaVuSans-103\"/>\n       <path d=\"M 31 75.875 \nQ 24.46875 64.65625 21.28125 53.65625 \nQ 18.109375 42.671875 18.109375 31.390625 \nQ 18.109375 20.125 21.3125 9.0625 \nQ 24.515625 -2 31 -13.1875 \nL 23.1875 -13.1875 \nQ 15.875 -1.703125 12.234375 9.375 \nQ 8.59375 20.453125 8.59375 31.390625 \nQ 8.59375 42.28125 12.203125 53.3125 \nQ 15.828125 64.359375 23.1875 75.875 \nz\n\" id=\"DejaVuSans-40\"/>\n       <path d=\"M 34.28125 27.484375 \nQ 23.390625 27.484375 19.1875 25 \nQ 14.984375 22.515625 14.984375 16.5 \nQ 14.984375 11.71875 18.140625 8.90625 \nQ 21.296875 6.109375 26.703125 6.109375 \nQ 34.1875 6.109375 38.703125 11.40625 \nQ 43.21875 16.703125 43.21875 25.484375 \nL 43.21875 27.484375 \nz\nM 52.203125 31.203125 \nL 52.203125 0 \nL 43.21875 0 \nL 43.21875 8.296875 \nQ 40.140625 3.328125 35.546875 0.953125 \nQ 30.953125 -1.421875 24.3125 -1.421875 \nQ 15.921875 -1.421875 10.953125 3.296875 \nQ 6 8.015625 6 15.921875 \nQ 6 25.140625 12.171875 29.828125 \nQ 18.359375 34.515625 30.609375 34.515625 \nL 43.21875 34.515625 \nL 43.21875 35.40625 \nQ 43.21875 41.609375 39.140625 45 \nQ 35.0625 48.390625 27.6875 48.390625 \nQ 23 48.390625 18.546875 47.265625 \nQ 14.109375 46.140625 10.015625 43.890625 \nL 10.015625 52.203125 \nQ 14.9375 54.109375 19.578125 55.046875 \nQ 24.21875 56 28.609375 56 \nQ 40.484375 56 46.34375 49.84375 \nQ 52.203125 43.703125 52.203125 31.203125 \nz\n\" id=\"DejaVuSans-97\"/>\n       <path d=\"M 18.109375 8.203125 \nL 18.109375 -20.796875 \nL 9.078125 -20.796875 \nL 9.078125 54.6875 \nL 18.109375 54.6875 \nL 18.109375 46.390625 \nQ 20.953125 51.265625 25.265625 53.625 \nQ 29.59375 56 35.59375 56 \nQ 45.5625 56 51.78125 48.09375 \nQ 58.015625 40.1875 58.015625 27.296875 \nQ 58.015625 14.40625 51.78125 6.484375 \nQ 45.5625 -1.421875 35.59375 -1.421875 \nQ 29.59375 -1.421875 25.265625 0.953125 \nQ 20.953125 3.328125 18.109375 8.203125 \nz\nM 48.6875 27.296875 \nQ 48.6875 37.203125 44.609375 42.84375 \nQ 40.53125 48.484375 33.40625 48.484375 \nQ 26.265625 48.484375 22.1875 42.84375 \nQ 18.109375 37.203125 18.109375 27.296875 \nQ 18.109375 17.390625 22.1875 11.75 \nQ 26.265625 6.109375 33.40625 6.109375 \nQ 40.53125 6.109375 44.609375 11.75 \nQ 48.6875 17.390625 48.6875 27.296875 \nz\n\" id=\"DejaVuSans-112\"/>\n       <path d=\"M 54.890625 33.015625 \nL 54.890625 0 \nL 45.90625 0 \nL 45.90625 32.71875 \nQ 45.90625 40.484375 42.875 44.328125 \nQ 39.84375 48.1875 33.796875 48.1875 \nQ 26.515625 48.1875 22.3125 43.546875 \nQ 18.109375 38.921875 18.109375 30.90625 \nL 18.109375 0 \nL 9.078125 0 \nL 9.078125 75.984375 \nL 18.109375 75.984375 \nL 18.109375 46.1875 \nQ 21.34375 51.125 25.703125 53.5625 \nQ 30.078125 56 35.796875 56 \nQ 45.21875 56 50.046875 50.171875 \nQ 54.890625 44.34375 54.890625 33.015625 \nz\n\" id=\"DejaVuSans-104\"/>\n       <path d=\"M 8.015625 75.875 \nL 15.828125 75.875 \nQ 23.140625 64.359375 26.78125 53.3125 \nQ 30.421875 42.28125 30.421875 31.390625 \nQ 30.421875 20.453125 26.78125 9.375 \nQ 23.140625 -1.703125 15.828125 -13.1875 \nL 8.015625 -13.1875 \nQ 14.5 -2 17.703125 9.0625 \nQ 20.90625 20.125 20.90625 31.390625 \nQ 20.90625 42.671875 17.703125 53.65625 \nQ 14.5 64.65625 8.015625 75.875 \nz\n\" id=\"DejaVuSans-41\"/>\n      </defs>\n      <use xlink:href=\"#DejaVuSans-45\"/>\n      <use x=\"36.083984\" xlink:href=\"#DejaVuSans-108\"/>\n      <use x=\"63.867188\" xlink:href=\"#DejaVuSans-111\"/>\n      <use x=\"125.048828\" xlink:href=\"#DejaVuSans-103\"/>\n      <use x=\"188.525391\" xlink:href=\"#DejaVuSans-40\"/>\n      <use x=\"227.539062\" xlink:href=\"#DejaVuSans-97\"/>\n      <use x=\"288.818359\" xlink:href=\"#DejaVuSans-108\"/>\n      <use x=\"316.601562\" xlink:href=\"#DejaVuSans-112\"/>\n      <use x=\"380.078125\" xlink:href=\"#DejaVuSans-104\"/>\n      <use x=\"443.457031\" xlink:href=\"#DejaVuSans-97\"/>\n      <use x=\"504.736328\" xlink:href=\"#DejaVuSans-41\"/>\n     </g>\n    </g>\n   </g>\n   <g id=\"matplotlib.axis_2\">\n    <g id=\"ytick_1\">\n     <g id=\"line2d_13\">\n      <path clip-path=\"url(#pe6ef399dd2)\" d=\"M 75.49675 227.540416 \nL 451.33675 227.540416 \n\" style=\"fill:none;stroke:#cbcbcb;\"/>\n     </g>\n     <g id=\"line2d_14\"/>\n     <g id=\"text_8\">\n      <!-- 4000 -->\n      <g transform=\"translate(36.36675 232.859322)scale(0.14 -0.14)\">\n       <defs>\n        <path d=\"M 37.796875 64.3125 \nL 12.890625 25.390625 \nL 37.796875 25.390625 \nz\nM 35.203125 72.90625 \nL 47.609375 72.90625 \nL 47.609375 25.390625 \nL 58.015625 25.390625 \nL 58.015625 17.1875 \nL 47.609375 17.1875 \nL 47.609375 0 \nL 37.796875 0 \nL 37.796875 17.1875 \nL 4.890625 17.1875 \nL 4.890625 26.703125 \nz\n\" id=\"DejaVuSans-52\"/>\n       </defs>\n       <use xlink:href=\"#DejaVuSans-52\"/>\n       <use x=\"63.623047\" xlink:href=\"#DejaVuSans-48\"/>\n       <use x=\"127.246094\" xlink:href=\"#DejaVuSans-48\"/>\n       <use x=\"190.869141\" xlink:href=\"#DejaVuSans-48\"/>\n      </g>\n     </g>\n    </g>\n    <g id=\"ytick_2\">\n     <g id=\"line2d_15\">\n      <path clip-path=\"url(#pe6ef399dd2)\" d=\"M 75.49675 189.212847 \nL 451.33675 189.212847 \n\" style=\"fill:none;stroke:#cbcbcb;\"/>\n     </g>\n     <g id=\"line2d_16\"/>\n     <g id=\"text_9\">\n      <!-- 6000 -->\n      <g transform=\"translate(36.36675 194.531753)scale(0.14 -0.14)\">\n       <defs>\n        <path d=\"M 33.015625 40.375 \nQ 26.375 40.375 22.484375 35.828125 \nQ 18.609375 31.296875 18.609375 23.390625 \nQ 18.609375 15.53125 22.484375 10.953125 \nQ 26.375 6.390625 33.015625 6.390625 \nQ 39.65625 6.390625 43.53125 10.953125 \nQ 47.40625 15.53125 47.40625 23.390625 \nQ 47.40625 31.296875 43.53125 35.828125 \nQ 39.65625 40.375 33.015625 40.375 \nz\nM 52.59375 71.296875 \nL 52.59375 62.3125 \nQ 48.875 64.0625 45.09375 64.984375 \nQ 41.3125 65.921875 37.59375 65.921875 \nQ 27.828125 65.921875 22.671875 59.328125 \nQ 17.53125 52.734375 16.796875 39.40625 \nQ 19.671875 43.65625 24.015625 45.921875 \nQ 28.375 48.1875 33.59375 48.1875 \nQ 44.578125 48.1875 50.953125 41.515625 \nQ 57.328125 34.859375 57.328125 23.390625 \nQ 57.328125 12.15625 50.6875 5.359375 \nQ 44.046875 -1.421875 33.015625 -1.421875 \nQ 20.359375 -1.421875 13.671875 8.265625 \nQ 6.984375 17.96875 6.984375 36.375 \nQ 6.984375 53.65625 15.1875 63.9375 \nQ 23.390625 74.21875 37.203125 74.21875 \nQ 40.921875 74.21875 44.703125 73.484375 \nQ 48.484375 72.75 52.59375 71.296875 \nz\n\" id=\"DejaVuSans-54\"/>\n       </defs>\n       <use xlink:href=\"#DejaVuSans-54\"/>\n       <use x=\"63.623047\" xlink:href=\"#DejaVuSans-48\"/>\n       <use x=\"127.246094\" xlink:href=\"#DejaVuSans-48\"/>\n       <use x=\"190.869141\" xlink:href=\"#DejaVuSans-48\"/>\n      </g>\n     </g>\n    </g>\n    <g id=\"ytick_3\">\n     <g id=\"line2d_17\">\n      <path clip-path=\"url(#pe6ef399dd2)\" d=\"M 75.49675 150.885278 \nL 451.33675 150.885278 \n\" style=\"fill:none;stroke:#cbcbcb;\"/>\n     </g>\n     <g id=\"line2d_18\"/>\n     <g id=\"text_10\">\n      <!-- 8000 -->\n      <g transform=\"translate(36.36675 156.204184)scale(0.14 -0.14)\">\n       <defs>\n        <path d=\"M 31.78125 34.625 \nQ 24.75 34.625 20.71875 30.859375 \nQ 16.703125 27.09375 16.703125 20.515625 \nQ 16.703125 13.921875 20.71875 10.15625 \nQ 24.75 6.390625 31.78125 6.390625 \nQ 38.8125 6.390625 42.859375 10.171875 \nQ 46.921875 13.96875 46.921875 20.515625 \nQ 46.921875 27.09375 42.890625 30.859375 \nQ 38.875 34.625 31.78125 34.625 \nz\nM 21.921875 38.8125 \nQ 15.578125 40.375 12.03125 44.71875 \nQ 8.5 49.078125 8.5 55.328125 \nQ 8.5 64.0625 14.71875 69.140625 \nQ 20.953125 74.21875 31.78125 74.21875 \nQ 42.671875 74.21875 48.875 69.140625 \nQ 55.078125 64.0625 55.078125 55.328125 \nQ 55.078125 49.078125 51.53125 44.71875 \nQ 48 40.375 41.703125 38.8125 \nQ 48.828125 37.15625 52.796875 32.3125 \nQ 56.78125 27.484375 56.78125 20.515625 \nQ 56.78125 9.90625 50.3125 4.234375 \nQ 43.84375 -1.421875 31.78125 -1.421875 \nQ 19.734375 -1.421875 13.25 4.234375 \nQ 6.78125 9.90625 6.78125 20.515625 \nQ 6.78125 27.484375 10.78125 32.3125 \nQ 14.796875 37.15625 21.921875 38.8125 \nz\nM 18.3125 54.390625 \nQ 18.3125 48.734375 21.84375 45.5625 \nQ 25.390625 42.390625 31.78125 42.390625 \nQ 38.140625 42.390625 41.71875 45.5625 \nQ 45.3125 48.734375 45.3125 54.390625 \nQ 45.3125 60.0625 41.71875 63.234375 \nQ 38.140625 66.40625 31.78125 66.40625 \nQ 25.390625 66.40625 21.84375 63.234375 \nQ 18.3125 60.0625 18.3125 54.390625 \nz\n\" id=\"DejaVuSans-56\"/>\n       </defs>\n       <use xlink:href=\"#DejaVuSans-56\"/>\n       <use x=\"63.623047\" xlink:href=\"#DejaVuSans-48\"/>\n       <use x=\"127.246094\" xlink:href=\"#DejaVuSans-48\"/>\n       <use x=\"190.869141\" xlink:href=\"#DejaVuSans-48\"/>\n      </g>\n     </g>\n    </g>\n    <g id=\"ytick_4\">\n     <g id=\"line2d_19\">\n      <path clip-path=\"url(#pe6ef399dd2)\" d=\"M 75.49675 112.557709 \nL 451.33675 112.557709 \n\" style=\"fill:none;stroke:#cbcbcb;\"/>\n     </g>\n     <g id=\"line2d_20\"/>\n     <g id=\"text_11\">\n      <!-- 10000 -->\n      <g transform=\"translate(27.45925 117.876615)scale(0.14 -0.14)\">\n       <defs>\n        <path d=\"M 12.40625 8.296875 \nL 28.515625 8.296875 \nL 28.515625 63.921875 \nL 10.984375 60.40625 \nL 10.984375 69.390625 \nL 28.421875 72.90625 \nL 38.28125 72.90625 \nL 38.28125 8.296875 \nL 54.390625 8.296875 \nL 54.390625 0 \nL 12.40625 0 \nz\n\" id=\"DejaVuSans-49\"/>\n       </defs>\n       <use xlink:href=\"#DejaVuSans-49\"/>\n       <use x=\"63.623047\" xlink:href=\"#DejaVuSans-48\"/>\n       <use x=\"127.246094\" xlink:href=\"#DejaVuSans-48\"/>\n       <use x=\"190.869141\" xlink:href=\"#DejaVuSans-48\"/>\n       <use x=\"254.492188\" xlink:href=\"#DejaVuSans-48\"/>\n      </g>\n     </g>\n    </g>\n    <g id=\"ytick_5\">\n     <g id=\"line2d_21\">\n      <path clip-path=\"url(#pe6ef399dd2)\" d=\"M 75.49675 74.23014 \nL 451.33675 74.23014 \n\" style=\"fill:none;stroke:#cbcbcb;\"/>\n     </g>\n     <g id=\"line2d_22\"/>\n     <g id=\"text_12\">\n      <!-- 12000 -->\n      <g transform=\"translate(27.45925 79.549046)scale(0.14 -0.14)\">\n       <use xlink:href=\"#DejaVuSans-49\"/>\n       <use x=\"63.623047\" xlink:href=\"#DejaVuSans-50\"/>\n       <use x=\"127.246094\" xlink:href=\"#DejaVuSans-48\"/>\n       <use x=\"190.869141\" xlink:href=\"#DejaVuSans-48\"/>\n       <use x=\"254.492188\" xlink:href=\"#DejaVuSans-48\"/>\n      </g>\n     </g>\n    </g>\n    <g id=\"ytick_6\">\n     <g id=\"line2d_23\">\n      <path clip-path=\"url(#pe6ef399dd2)\" d=\"M 75.49675 35.902571 \nL 451.33675 35.902571 \n\" style=\"fill:none;stroke:#cbcbcb;\"/>\n     </g>\n     <g id=\"line2d_24\"/>\n     <g id=\"text_13\">\n      <!-- 14000 -->\n      <g transform=\"translate(27.45925 41.221477)scale(0.14 -0.14)\">\n       <use xlink:href=\"#DejaVuSans-49\"/>\n       <use x=\"63.623047\" xlink:href=\"#DejaVuSans-52\"/>\n       <use x=\"127.246094\" xlink:href=\"#DejaVuSans-48\"/>\n       <use x=\"190.869141\" xlink:href=\"#DejaVuSans-48\"/>\n       <use x=\"254.492188\" xlink:href=\"#DejaVuSans-48\"/>\n      </g>\n     </g>\n    </g>\n    <g id=\"text_14\">\n     <!-- criterion -->\n     <g transform=\"translate(19.965375 180.2757)rotate(-90)scale(0.168 -0.168)\">\n      <defs>\n       <path d=\"M 48.78125 52.59375 \nL 48.78125 44.1875 \nQ 44.96875 46.296875 41.140625 47.34375 \nQ 37.3125 48.390625 33.40625 48.390625 \nQ 24.65625 48.390625 19.8125 42.84375 \nQ 14.984375 37.3125 14.984375 27.296875 \nQ 14.984375 17.28125 19.8125 11.734375 \nQ 24.65625 6.203125 33.40625 6.203125 \nQ 37.3125 6.203125 41.140625 7.25 \nQ 44.96875 8.296875 48.78125 10.40625 \nL 48.78125 2.09375 \nQ 45.015625 0.34375 40.984375 -0.53125 \nQ 36.96875 -1.421875 32.421875 -1.421875 \nQ 20.0625 -1.421875 12.78125 6.34375 \nQ 5.515625 14.109375 5.515625 27.296875 \nQ 5.515625 40.671875 12.859375 48.328125 \nQ 20.21875 56 33.015625 56 \nQ 37.15625 56 41.109375 55.140625 \nQ 45.0625 54.296875 48.78125 52.59375 \nz\n\" id=\"DejaVuSans-99\"/>\n       <path d=\"M 41.109375 46.296875 \nQ 39.59375 47.171875 37.8125 47.578125 \nQ 36.03125 48 33.890625 48 \nQ 26.265625 48 22.1875 43.046875 \nQ 18.109375 38.09375 18.109375 28.8125 \nL 18.109375 0 \nL 9.078125 0 \nL 9.078125 54.6875 \nL 18.109375 54.6875 \nL 18.109375 46.1875 \nQ 20.953125 51.171875 25.484375 53.578125 \nQ 30.03125 56 36.53125 56 \nQ 37.453125 56 38.578125 55.875 \nQ 39.703125 55.765625 41.0625 55.515625 \nz\n\" id=\"DejaVuSans-114\"/>\n       <path d=\"M 9.421875 54.6875 \nL 18.40625 54.6875 \nL 18.40625 0 \nL 9.421875 0 \nz\nM 9.421875 75.984375 \nL 18.40625 75.984375 \nL 18.40625 64.59375 \nL 9.421875 64.59375 \nz\n\" id=\"DejaVuSans-105\"/>\n       <path d=\"M 18.3125 70.21875 \nL 18.3125 54.6875 \nL 36.8125 54.6875 \nL 36.8125 47.703125 \nL 18.3125 47.703125 \nL 18.3125 18.015625 \nQ 18.3125 11.328125 20.140625 9.421875 \nQ 21.96875 7.515625 27.59375 7.515625 \nL 36.8125 7.515625 \nL 36.8125 0 \nL 27.59375 0 \nQ 17.1875 0 13.234375 3.875 \nQ 9.28125 7.765625 9.28125 18.015625 \nL 9.28125 47.703125 \nL 2.6875 47.703125 \nL 2.6875 54.6875 \nL 9.28125 54.6875 \nL 9.28125 70.21875 \nz\n\" id=\"DejaVuSans-116\"/>\n       <path d=\"M 56.203125 29.59375 \nL 56.203125 25.203125 \nL 14.890625 25.203125 \nQ 15.484375 15.921875 20.484375 11.0625 \nQ 25.484375 6.203125 34.421875 6.203125 \nQ 39.59375 6.203125 44.453125 7.46875 \nQ 49.3125 8.734375 54.109375 11.28125 \nL 54.109375 2.78125 \nQ 49.265625 0.734375 44.1875 -0.34375 \nQ 39.109375 -1.421875 33.890625 -1.421875 \nQ 20.796875 -1.421875 13.15625 6.1875 \nQ 5.515625 13.8125 5.515625 26.8125 \nQ 5.515625 40.234375 12.765625 48.109375 \nQ 20.015625 56 32.328125 56 \nQ 43.359375 56 49.78125 48.890625 \nQ 56.203125 41.796875 56.203125 29.59375 \nz\nM 47.21875 32.234375 \nQ 47.125 39.59375 43.09375 43.984375 \nQ 39.0625 48.390625 32.421875 48.390625 \nQ 24.90625 48.390625 20.390625 44.140625 \nQ 15.875 39.890625 15.1875 32.171875 \nz\n\" id=\"DejaVuSans-101\"/>\n       <path d=\"M 54.890625 33.015625 \nL 54.890625 0 \nL 45.90625 0 \nL 45.90625 32.71875 \nQ 45.90625 40.484375 42.875 44.328125 \nQ 39.84375 48.1875 33.796875 48.1875 \nQ 26.515625 48.1875 22.3125 43.546875 \nQ 18.109375 38.921875 18.109375 30.90625 \nL 18.109375 0 \nL 9.078125 0 \nL 9.078125 54.6875 \nL 18.109375 54.6875 \nL 18.109375 46.1875 \nQ 21.34375 51.125 25.703125 53.5625 \nQ 30.078125 56 35.796875 56 \nQ 45.21875 56 50.046875 50.171875 \nQ 54.890625 44.34375 54.890625 33.015625 \nz\n\" id=\"DejaVuSans-110\"/>\n      </defs>\n      <use xlink:href=\"#DejaVuSans-99\"/>\n      <use x=\"54.980469\" xlink:href=\"#DejaVuSans-114\"/>\n      <use x=\"96.09375\" xlink:href=\"#DejaVuSans-105\"/>\n      <use x=\"123.876953\" xlink:href=\"#DejaVuSans-116\"/>\n      <use x=\"163.085938\" xlink:href=\"#DejaVuSans-101\"/>\n      <use x=\"224.609375\" xlink:href=\"#DejaVuSans-114\"/>\n      <use x=\"265.722656\" xlink:href=\"#DejaVuSans-105\"/>\n      <use x=\"293.505859\" xlink:href=\"#DejaVuSans-111\"/>\n      <use x=\"354.6875\" xlink:href=\"#DejaVuSans-110\"/>\n     </g>\n    </g>\n   </g>\n   <g id=\"line2d_25\">\n    <path clip-path=\"url(#pe6ef399dd2)\" d=\"M 92.580386 39.122086 \nL 183.876264 150.089646 \nL 203.70398 162.964089 \nL 206.008012 164.485908 \nL 211.591625 168.716882 \nL 212.49596 169.484917 \nL 233.783804 184.917956 \nL 235.295572 185.849535 \nL 240.247453 189.318975 \nL 242.086027 190.580822 \nL 252.260193 197.860113 \nL 265.355336 206.364058 \nL 265.846009 206.632808 \nL 304.928546 224.817633 \nL 305.085121 224.831661 \nL 308.141229 225.833178 \nL 322.085304 230.116081 \nL 329.368826 231.771576 \nL 334.637825 233.02202 \nL 336.935803 233.530301 \nL 340.43701 234.331923 \nL 341.58513 234.589246 \nL 345.207726 235.451296 \nL 348.654211 236.259641 \nL 351.25348 236.84911 \nL 351.463099 236.860522 \nL 355.895214 237.879219 \nL 360.360114 238.832143 \nL 360.462659 238.816514 \nL 362.329052 239.200543 \nL 364.08789 239.382546 \nL 364.154688 239.359359 \nL 364.787237 239.46945 \nL 365.154696 239.520373 \nL 366.624933 239.84583 \nL 374.400514 241.623912 \nL 374.767796 241.667732 \nL 378.120903 242.370577 \nL 378.846119 242.489919 \nL 380.097044 242.727041 \nL 386.504267 244.043516 \nL 387.296498 244.167176 \nL 392.02732 245.062888 \nL 392.407988 245.098684 \nL 396.985306 245.941966 \nL 398.508806 246.075368 \nL 399.946537 246.308669 \nL 401.836469 246.626687 \nL 404.284253 247.052986 \nL 405.652029 247.268678 \nL 409.883271 247.986823 \nL 414.928347 248.782826 \nL 416.117861 248.930428 \nL 422.854736 249.870527 \nL 425.046447 250.132573 \nL 429.765871 250.706065 \nL 434.253114 251.005111 \nL 431.628019 251.194814 \n\" style=\"fill:none;stroke:#008000;stroke-dasharray:7.4,3.2;stroke-dashoffset:0;stroke-width:2;\"/>\n   </g>\n   <g id=\"line2d_26\">\n    <path clip-path=\"url(#pe6ef399dd2)\" d=\"M 431.628019 261.79845 \nL 431.628019 28.51845 \n\" style=\"fill:none;stroke:#008000;stroke-width:2;\"/>\n   </g>\n   <g id=\"line2d_27\">\n    <path clip-path=\"url(#pe6ef399dd2)\" d=\"M 92.580386 39.122086 \nL 183.876264 149.945252 \nL 203.70398 162.675301 \nL 206.008012 164.052726 \nL 211.591625 168.139306 \nL 212.49596 168.762946 \nL 233.783804 184.051591 \nL 235.295572 184.838776 \nL 240.247453 188.163822 \nL 242.086027 189.281275 \nL 252.260193 196.416172 \nL 265.355336 204.775723 \nL 265.846009 204.900078 \nL 304.928546 222.94051 \nL 305.085121 222.810143 \nL 308.141229 223.667266 \nL 322.085304 227.805775 \nL 329.368826 229.316876 \nL 334.637825 230.422925 \nL 336.935803 230.786813 \nL 340.43701 231.44404 \nL 341.58513 231.556969 \nL 345.207726 232.274625 \nL 348.654211 232.938576 \nL 351.25348 233.383651 \nL 351.463099 233.250668 \nL 355.895214 234.124972 \nL 360.360114 234.933501 \nL 360.462659 234.773478 \nL 362.329052 235.013113 \nL 364.08789 235.050722 \nL 364.154688 234.88314 \nL 364.787237 234.848838 \nL 365.154696 234.755367 \nL 366.624933 234.93643 \nL 374.400514 236.570117 \nL 374.767796 236.469544 \nL 378.120903 237.027994 \nL 378.846119 237.002942 \nL 380.097044 237.09567 \nL 386.504267 238.267751 \nL 387.296498 238.247017 \nL 392.02732 238.998335 \nL 392.407988 238.889737 \nL 396.985306 239.588624 \nL 398.508806 239.577632 \nL 399.946537 239.666539 \nL 401.836469 239.840162 \nL 404.284253 240.122068 \nL 405.652029 240.193366 \nL 409.883271 240.767117 \nL 414.928347 241.418726 \nL 416.117861 241.421933 \nL 422.854736 242.217637 \nL 425.046447 242.33529 \nL 429.765871 242.764387 \nL 434.253114 242.919039 \nL 431.628019 243.108742 \n\" style=\"fill:none;stroke:#0000ff;stroke-dasharray:7.4,3.2;stroke-dashoffset:0;stroke-width:2;\"/>\n   </g>\n   <g id=\"line2d_28\">\n    <path clip-path=\"url(#pe6ef399dd2)\" d=\"M 431.628019 261.79845 \nL 431.628019 28.51845 \n\" style=\"fill:none;stroke:#0000ff;stroke-width:2;\"/>\n   </g>\n   <g id=\"patch_3\">\n    <path d=\"M 75.49675 261.79845 \nL 75.49675 28.51845 \n\" style=\"fill:none;stroke:#f0f0f0;stroke-linecap:square;stroke-linejoin:miter;stroke-width:3;\"/>\n   </g>\n   <g id=\"patch_4\">\n    <path d=\"M 451.33675 261.79845 \nL 451.33675 28.51845 \n\" style=\"fill:none;stroke:#f0f0f0;stroke-linecap:square;stroke-linejoin:miter;stroke-width:3;\"/>\n   </g>\n   <g id=\"patch_5\">\n    <path d=\"M 75.49675 261.79845 \nL 451.33675 261.79845 \n\" style=\"fill:none;stroke:#f0f0f0;stroke-linecap:square;stroke-linejoin:miter;stroke-width:3;\"/>\n   </g>\n   <g id=\"patch_6\">\n    <path d=\"M 75.49675 28.51845 \nL 451.33675 28.51845 \n\" style=\"fill:none;stroke:#f0f0f0;stroke-linecap:square;stroke-linejoin:miter;stroke-width:3;\"/>\n   </g>\n   <g id=\"text_15\">\n    <!-- Information Criterion for model selection -->\n    <g transform=\"translate(58.06195 22.51845)scale(0.2016 -0.2016)\">\n     <defs>\n      <path d=\"M 9.8125 72.90625 \nL 19.671875 72.90625 \nL 19.671875 0 \nL 9.8125 0 \nz\n\" id=\"DejaVuSans-73\"/>\n      <path d=\"M 37.109375 75.984375 \nL 37.109375 68.5 \nL 28.515625 68.5 \nQ 23.6875 68.5 21.796875 66.546875 \nQ 19.921875 64.59375 19.921875 59.515625 \nL 19.921875 54.6875 \nL 34.71875 54.6875 \nL 34.71875 47.703125 \nL 19.921875 47.703125 \nL 19.921875 0 \nL 10.890625 0 \nL 10.890625 47.703125 \nL 2.296875 47.703125 \nL 2.296875 54.6875 \nL 10.890625 54.6875 \nL 10.890625 58.5 \nQ 10.890625 67.625 15.140625 71.796875 \nQ 19.390625 75.984375 28.609375 75.984375 \nz\n\" id=\"DejaVuSans-102\"/>\n      <path d=\"M 52 44.1875 \nQ 55.375 50.25 60.0625 53.125 \nQ 64.75 56 71.09375 56 \nQ 79.640625 56 84.28125 50.015625 \nQ 88.921875 44.046875 88.921875 33.015625 \nL 88.921875 0 \nL 79.890625 0 \nL 79.890625 32.71875 \nQ 79.890625 40.578125 77.09375 44.375 \nQ 74.3125 48.1875 68.609375 48.1875 \nQ 61.625 48.1875 57.5625 43.546875 \nQ 53.515625 38.921875 53.515625 30.90625 \nL 53.515625 0 \nL 44.484375 0 \nL 44.484375 32.71875 \nQ 44.484375 40.625 41.703125 44.40625 \nQ 38.921875 48.1875 33.109375 48.1875 \nQ 26.21875 48.1875 22.15625 43.53125 \nQ 18.109375 38.875 18.109375 30.90625 \nL 18.109375 0 \nL 9.078125 0 \nL 9.078125 54.6875 \nL 18.109375 54.6875 \nL 18.109375 46.1875 \nQ 21.1875 51.21875 25.484375 53.609375 \nQ 29.78125 56 35.6875 56 \nQ 41.65625 56 45.828125 52.96875 \nQ 50 49.953125 52 44.1875 \nz\n\" id=\"DejaVuSans-109\"/>\n      <path id=\"DejaVuSans-32\"/>\n      <path d=\"M 64.40625 67.28125 \nL 64.40625 56.890625 \nQ 59.421875 61.53125 53.78125 63.8125 \nQ 48.140625 66.109375 41.796875 66.109375 \nQ 29.296875 66.109375 22.65625 58.46875 \nQ 16.015625 50.828125 16.015625 36.375 \nQ 16.015625 21.96875 22.65625 14.328125 \nQ 29.296875 6.6875 41.796875 6.6875 \nQ 48.140625 6.6875 53.78125 8.984375 \nQ 59.421875 11.28125 64.40625 15.921875 \nL 64.40625 5.609375 \nQ 59.234375 2.09375 53.4375 0.328125 \nQ 47.65625 -1.421875 41.21875 -1.421875 \nQ 24.65625 -1.421875 15.125 8.703125 \nQ 5.609375 18.84375 5.609375 36.375 \nQ 5.609375 53.953125 15.125 64.078125 \nQ 24.65625 74.21875 41.21875 74.21875 \nQ 47.75 74.21875 53.53125 72.484375 \nQ 59.328125 70.75 64.40625 67.28125 \nz\n\" id=\"DejaVuSans-67\"/>\n      <path d=\"M 45.40625 46.390625 \nL 45.40625 75.984375 \nL 54.390625 75.984375 \nL 54.390625 0 \nL 45.40625 0 \nL 45.40625 8.203125 \nQ 42.578125 3.328125 38.25 0.953125 \nQ 33.9375 -1.421875 27.875 -1.421875 \nQ 17.96875 -1.421875 11.734375 6.484375 \nQ 5.515625 14.40625 5.515625 27.296875 \nQ 5.515625 40.1875 11.734375 48.09375 \nQ 17.96875 56 27.875 56 \nQ 33.9375 56 38.25 53.625 \nQ 42.578125 51.265625 45.40625 46.390625 \nz\nM 14.796875 27.296875 \nQ 14.796875 17.390625 18.875 11.75 \nQ 22.953125 6.109375 30.078125 6.109375 \nQ 37.203125 6.109375 41.296875 11.75 \nQ 45.40625 17.390625 45.40625 27.296875 \nQ 45.40625 37.203125 41.296875 42.84375 \nQ 37.203125 48.484375 30.078125 48.484375 \nQ 22.953125 48.484375 18.875 42.84375 \nQ 14.796875 37.203125 14.796875 27.296875 \nz\n\" id=\"DejaVuSans-100\"/>\n      <path d=\"M 44.28125 53.078125 \nL 44.28125 44.578125 \nQ 40.484375 46.53125 36.375 47.5 \nQ 32.28125 48.484375 27.875 48.484375 \nQ 21.1875 48.484375 17.84375 46.4375 \nQ 14.5 44.390625 14.5 40.28125 \nQ 14.5 37.15625 16.890625 35.375 \nQ 19.28125 33.59375 26.515625 31.984375 \nL 29.59375 31.296875 \nQ 39.15625 29.25 43.1875 25.515625 \nQ 47.21875 21.78125 47.21875 15.09375 \nQ 47.21875 7.46875 41.1875 3.015625 \nQ 35.15625 -1.421875 24.609375 -1.421875 \nQ 20.21875 -1.421875 15.453125 -0.5625 \nQ 10.6875 0.296875 5.421875 2 \nL 5.421875 11.28125 \nQ 10.40625 8.6875 15.234375 7.390625 \nQ 20.0625 6.109375 24.8125 6.109375 \nQ 31.15625 6.109375 34.5625 8.28125 \nQ 37.984375 10.453125 37.984375 14.40625 \nQ 37.984375 18.0625 35.515625 20.015625 \nQ 33.0625 21.96875 24.703125 23.78125 \nL 21.578125 24.515625 \nQ 13.234375 26.265625 9.515625 29.90625 \nQ 5.8125 33.546875 5.8125 39.890625 \nQ 5.8125 47.609375 11.28125 51.796875 \nQ 16.75 56 26.8125 56 \nQ 31.78125 56 36.171875 55.265625 \nQ 40.578125 54.546875 44.28125 53.078125 \nz\n\" id=\"DejaVuSans-115\"/>\n     </defs>\n     <use xlink:href=\"#DejaVuSans-73\"/>\n     <use x=\"29.492188\" xlink:href=\"#DejaVuSans-110\"/>\n     <use x=\"92.871094\" xlink:href=\"#DejaVuSans-102\"/>\n     <use x=\"128.076172\" xlink:href=\"#DejaVuSans-111\"/>\n     <use x=\"189.257812\" xlink:href=\"#DejaVuSans-114\"/>\n     <use x=\"228.621094\" xlink:href=\"#DejaVuSans-109\"/>\n     <use x=\"326.033203\" xlink:href=\"#DejaVuSans-97\"/>\n     <use x=\"387.3125\" xlink:href=\"#DejaVuSans-116\"/>\n     <use x=\"426.521484\" xlink:href=\"#DejaVuSans-105\"/>\n     <use x=\"454.304688\" xlink:href=\"#DejaVuSans-111\"/>\n     <use x=\"515.486328\" xlink:href=\"#DejaVuSans-110\"/>\n     <use x=\"578.865234\" xlink:href=\"#DejaVuSans-32\"/>\n     <use x=\"610.652344\" xlink:href=\"#DejaVuSans-67\"/>\n     <use x=\"680.476562\" xlink:href=\"#DejaVuSans-114\"/>\n     <use x=\"721.589844\" xlink:href=\"#DejaVuSans-105\"/>\n     <use x=\"749.373047\" xlink:href=\"#DejaVuSans-116\"/>\n     <use x=\"788.582031\" xlink:href=\"#DejaVuSans-101\"/>\n     <use x=\"850.105469\" xlink:href=\"#DejaVuSans-114\"/>\n     <use x=\"891.21875\" xlink:href=\"#DejaVuSans-105\"/>\n     <use x=\"919.001953\" xlink:href=\"#DejaVuSans-111\"/>\n     <use x=\"980.183594\" xlink:href=\"#DejaVuSans-110\"/>\n     <use x=\"1043.5625\" xlink:href=\"#DejaVuSans-32\"/>\n     <use x=\"1075.349609\" xlink:href=\"#DejaVuSans-102\"/>\n     <use x=\"1110.554688\" xlink:href=\"#DejaVuSans-111\"/>\n     <use x=\"1171.736328\" xlink:href=\"#DejaVuSans-114\"/>\n     <use x=\"1212.849609\" xlink:href=\"#DejaVuSans-32\"/>\n     <use x=\"1244.636719\" xlink:href=\"#DejaVuSans-109\"/>\n     <use x=\"1342.048828\" xlink:href=\"#DejaVuSans-111\"/>\n     <use x=\"1403.230469\" xlink:href=\"#DejaVuSans-100\"/>\n     <use x=\"1466.707031\" xlink:href=\"#DejaVuSans-101\"/>\n     <use x=\"1528.230469\" xlink:href=\"#DejaVuSans-108\"/>\n     <use x=\"1556.013672\" xlink:href=\"#DejaVuSans-32\"/>\n     <use x=\"1587.800781\" xlink:href=\"#DejaVuSans-115\"/>\n     <use x=\"1639.900391\" xlink:href=\"#DejaVuSans-101\"/>\n     <use x=\"1701.423828\" xlink:href=\"#DejaVuSans-108\"/>\n     <use x=\"1729.207031\" xlink:href=\"#DejaVuSans-101\"/>\n     <use x=\"1790.730469\" xlink:href=\"#DejaVuSans-99\"/>\n     <use x=\"1845.710938\" xlink:href=\"#DejaVuSans-116\"/>\n     <use x=\"1884.919922\" xlink:href=\"#DejaVuSans-105\"/>\n     <use x=\"1912.703125\" xlink:href=\"#DejaVuSans-111\"/>\n     <use x=\"1973.884766\" xlink:href=\"#DejaVuSans-110\"/>\n    </g>\n   </g>\n   <g id=\"legend_1\">\n    <g id=\"patch_7\">\n     <path d=\"M 193.557844 121.91595 \nL 333.275656 121.91595 \nQ 336.075656 121.91595 336.075656 119.11595 \nL 336.075656 38.31845 \nQ 336.075656 35.51845 333.275656 35.51845 \nL 193.557844 35.51845 \nQ 190.757844 35.51845 190.757844 38.31845 \nL 190.757844 119.11595 \nQ 190.757844 121.91595 193.557844 121.91595 \nz\n\" style=\"fill:#f0f0f0;opacity:0.8;stroke:#cccccc;stroke-linejoin:miter;stroke-width:0.5;\"/>\n    </g>\n    <g id=\"line2d_29\">\n     <path d=\"M 196.357844 46.856262 \nL 224.357844 46.856262 \n\" style=\"fill:none;stroke:#008000;stroke-dasharray:7.4,3.2;stroke-dashoffset:0;stroke-width:2;\"/>\n    </g>\n    <g id=\"line2d_30\"/>\n    <g id=\"text_16\">\n     <!-- AIC -->\n     <g transform=\"translate(235.557844 51.756262)scale(0.14 -0.14)\">\n      <defs>\n       <path d=\"M 34.1875 63.1875 \nL 20.796875 26.90625 \nL 47.609375 26.90625 \nz\nM 28.609375 72.90625 \nL 39.796875 72.90625 \nL 67.578125 0 \nL 57.328125 0 \nL 50.6875 18.703125 \nL 17.828125 18.703125 \nL 11.1875 0 \nL 0.78125 0 \nz\n\" id=\"DejaVuSans-65\"/>\n      </defs>\n      <use xlink:href=\"#DejaVuSans-65\"/>\n      <use x=\"68.408203\" xlink:href=\"#DejaVuSans-73\"/>\n      <use x=\"97.900391\" xlink:href=\"#DejaVuSans-67\"/>\n     </g>\n    </g>\n    <g id=\"line2d_31\">\n     <path d=\"M 196.357844 67.405637 \nL 224.357844 67.405637 \n\" style=\"fill:none;stroke:#008000;stroke-width:2;\"/>\n    </g>\n    <g id=\"line2d_32\"/>\n    <g id=\"text_17\">\n     <!-- alpha for AIC  -->\n     <g transform=\"translate(235.557844 72.305637)scale(0.14 -0.14)\">\n      <use xlink:href=\"#DejaVuSans-97\"/>\n      <use x=\"61.279297\" xlink:href=\"#DejaVuSans-108\"/>\n      <use x=\"89.0625\" xlink:href=\"#DejaVuSans-112\"/>\n      <use x=\"152.539062\" xlink:href=\"#DejaVuSans-104\"/>\n      <use x=\"215.917969\" xlink:href=\"#DejaVuSans-97\"/>\n      <use x=\"277.197266\" xlink:href=\"#DejaVuSans-32\"/>\n      <use x=\"308.984375\" xlink:href=\"#DejaVuSans-102\"/>\n      <use x=\"344.189453\" xlink:href=\"#DejaVuSans-111\"/>\n      <use x=\"405.371094\" xlink:href=\"#DejaVuSans-114\"/>\n      <use x=\"446.484375\" xlink:href=\"#DejaVuSans-32\"/>\n      <use x=\"478.271484\" xlink:href=\"#DejaVuSans-65\"/>\n      <use x=\"546.679688\" xlink:href=\"#DejaVuSans-73\"/>\n      <use x=\"576.171875\" xlink:href=\"#DejaVuSans-67\"/>\n      <use x=\"645.996094\" xlink:href=\"#DejaVuSans-32\"/>\n     </g>\n    </g>\n    <g id=\"line2d_33\">\n     <path d=\"M 196.357844 87.955012 \nL 224.357844 87.955012 \n\" style=\"fill:none;stroke:#0000ff;stroke-dasharray:7.4,3.2;stroke-dashoffset:0;stroke-width:2;\"/>\n    </g>\n    <g id=\"line2d_34\"/>\n    <g id=\"text_18\">\n     <!-- BIC -->\n     <g transform=\"translate(235.557844 92.855012)scale(0.14 -0.14)\">\n      <defs>\n       <path d=\"M 19.671875 34.8125 \nL 19.671875 8.109375 \nL 35.5 8.109375 \nQ 43.453125 8.109375 47.28125 11.40625 \nQ 51.125 14.703125 51.125 21.484375 \nQ 51.125 28.328125 47.28125 31.5625 \nQ 43.453125 34.8125 35.5 34.8125 \nz\nM 19.671875 64.796875 \nL 19.671875 42.828125 \nL 34.28125 42.828125 \nQ 41.5 42.828125 45.03125 45.53125 \nQ 48.578125 48.25 48.578125 53.8125 \nQ 48.578125 59.328125 45.03125 62.0625 \nQ 41.5 64.796875 34.28125 64.796875 \nz\nM 9.8125 72.90625 \nL 35.015625 72.90625 \nQ 46.296875 72.90625 52.390625 68.21875 \nQ 58.5 63.53125 58.5 54.890625 \nQ 58.5 48.1875 55.375 44.234375 \nQ 52.25 40.28125 46.1875 39.3125 \nQ 53.46875 37.75 57.5 32.78125 \nQ 61.53125 27.828125 61.53125 20.40625 \nQ 61.53125 10.640625 54.890625 5.3125 \nQ 48.25 0 35.984375 0 \nL 9.8125 0 \nz\n\" id=\"DejaVuSans-66\"/>\n      </defs>\n      <use xlink:href=\"#DejaVuSans-66\"/>\n      <use x=\"68.603516\" xlink:href=\"#DejaVuSans-73\"/>\n      <use x=\"98.095703\" xlink:href=\"#DejaVuSans-67\"/>\n     </g>\n    </g>\n    <g id=\"line2d_35\">\n     <path d=\"M 196.357844 108.504387 \nL 224.357844 108.504387 \n\" style=\"fill:none;stroke:#0000ff;stroke-width:2;\"/>\n    </g>\n    <g id=\"line2d_36\"/>\n    <g id=\"text_19\">\n     <!-- alpha for BIC  -->\n     <g transform=\"translate(235.557844 113.404387)scale(0.14 -0.14)\">\n      <use xlink:href=\"#DejaVuSans-97\"/>\n      <use x=\"61.279297\" xlink:href=\"#DejaVuSans-108\"/>\n      <use x=\"89.0625\" xlink:href=\"#DejaVuSans-112\"/>\n      <use x=\"152.539062\" xlink:href=\"#DejaVuSans-104\"/>\n      <use x=\"215.917969\" xlink:href=\"#DejaVuSans-97\"/>\n      <use x=\"277.197266\" xlink:href=\"#DejaVuSans-32\"/>\n      <use x=\"308.984375\" xlink:href=\"#DejaVuSans-102\"/>\n      <use x=\"344.189453\" xlink:href=\"#DejaVuSans-111\"/>\n      <use x=\"405.371094\" xlink:href=\"#DejaVuSans-114\"/>\n      <use x=\"446.484375\" xlink:href=\"#DejaVuSans-32\"/>\n      <use x=\"478.271484\" xlink:href=\"#DejaVuSans-66\"/>\n      <use x=\"546.875\" xlink:href=\"#DejaVuSans-73\"/>\n      <use x=\"576.367188\" xlink:href=\"#DejaVuSans-67\"/>\n      <use x=\"646.191406\" xlink:href=\"#DejaVuSans-32\"/>\n     </g>\n    </g>\n   </g>\n  </g>\n </g>\n <defs>\n  <clipPath id=\"pe6ef399dd2\">\n   <rect height=\"233.28\" width=\"375.84\" x=\"75.49675\" y=\"28.51845\"/>\n  </clipPath>\n </defs>\n</svg>\n",
      "image/png": "[encoded data removed]"
     },
     "metadata": {}
    }
   ],
   "source": [
    "model_bic = LassoLarsIC(criterion=\"bic\")\n",
    "model_bic.fit(X_tr2, y_tr2)\n",
    "alpha_bic_ = model_bic.alpha_\n",
    "\n",
    "model_aic = LassoLarsIC(criterion=\"aic\")\n",
    "model_aic.fit(X_tr2, y_tr2)\n",
    "alpha_aic_ = model_aic.alpha_\n",
    "\n",
    "def plot_ic_criterion(model, name, color):\n",
    "    alpha_ = model.alpha_\n",
    "    alphas_ = model.alphas_\n",
    "    criterion_ = model.criterion_\n",
    "    plt.plot(-np.log10(alphas_), criterion_, '--', color=color, linewidth=2, label=name)\n",
    "    plt.axvline(-np.log10(alpha_), color=color, linewidth=2, label='alpha for %s ' % name)\n",
    "    plt.xlabel('-log(alpha)')\n",
    "    plt.ylabel('criterion')\n",
    "\n",
    "plt.figure()\n",
    "plot_ic_criterion(model_aic, 'AIC', 'green')\n",
    "plot_ic_criterion(model_bic, 'BIC', 'blue')\n",
    "plt.legend()\n",
    "plt.title(\"Information Criterion for model selection\");"
   ]
  },
  {
   "cell_type": "code",
   "execution_count": 29,
   "metadata": {},
   "outputs": [
    {
     "output_type": "stream",
     "name": "stdout",
     "text": [
      "Training R^2 Score:  0.8365\nTraining MAE:  90008.23\nTraining MSE:  2.3042e+10\nTraining RMSE:  151797.15\nTraining Bias:  0.0\nTraining Variance:  1.1572e+11\n\nTesting R^2 Score:  0.8395\nTesting MAE:  86894.64\nTesting MSE:  2.1362e+10\nTesting RMSE:  146157.15\nTesting Bias:  5285.32\nTesting Variance:  1.1447e+11\n"
     ]
    }
   ],
   "source": [
    "aic_lasso = Lasso(alpha=model_aic.alpha_).fit(X_tr2, y_tr2)\n",
    "aic_tr_pred = aic_lasso.predict(X_tr2)\n",
    "aic_tt_pred = aic_lasso.predict(X_tt2)\n",
    "\n",
    "print('Training R^2 Score: ', round(r2_score(y_tr2, aic_tr_pred), 4))\n",
    "print('Training MAE: ', round(mean_absolute_error(y_tr2, aic_tr_pred), 2))\n",
    "print('Training MSE: ', \"{:.4e}\".format(mean_squared_error(y_tr2, aic_tr_pred)))\n",
    "print('Training RMSE: ', round(np.sqrt(mean_squared_error(y_tr2, aic_tr_pred)), 2))\n",
    "print('Training Bias: ', round(bias(y_tr2, aic_tr_pred), 2))\n",
    "print('Training Variance: ', \"{:.4e}\".format(variance(aic_tr_pred)))\n",
    "print(\"\")\n",
    "print('Testing R^2 Score: ', round(r2_score(y_tt2, aic_tt_pred), 4))\n",
    "print('Testing MAE: ', round(mean_absolute_error(y_tt2, aic_tt_pred), 2))\n",
    "print('Testing MSE: ', \"{:.4e}\".format(mean_squared_error(y_tt2, aic_tt_pred)))\n",
    "print('Testing RMSE: ', round(np.sqrt(mean_squared_error(y_tt2, aic_tt_pred)), 2))\n",
    "print('Testing Bias: ', round(bias(y_tt2, aic_tt_pred), 2))\n",
    "print('Testing Variance: ', \"{:.4e}\".format(variance(aic_tt_pred)))"
   ]
  },
  {
   "cell_type": "code",
   "execution_count": 30,
   "metadata": {},
   "outputs": [
    {
     "output_type": "stream",
     "name": "stdout",
     "text": [
      "Training R^2 Score:  0.8365\nTraining MAE:  90008.23\nTraining MSE:  2.3042e+10\nTraining RMSE:  151797.15\nTraining Bias:  0.0\nTraining Variance:  1.1572e+11\n\nTesting R^2 Score:  0.8395\nTesting MAE:  86894.64\nTesting MSE:  2.1362e+10\nTesting RMSE:  146157.15\nTesting Bias:  5285.32\nTesting Variance:  1.1447e+11\n"
     ]
    }
   ],
   "source": [
    "bic_lasso = Lasso(alpha=model_bic.alpha_).fit(X_tr2, y_tr2)\n",
    "bic_tr_pred = bic_lasso.predict(X_tr2)\n",
    "bic_tt_pred = bic_lasso.predict(X_tt2)\n",
    "\n",
    "print('Training R^2 Score: ', round(r2_score(y_tr2, bic_tr_pred), 4))\n",
    "print('Training MAE: ', round(mean_absolute_error(y_tr2, bic_tr_pred), 2))\n",
    "print('Training MSE: ', \"{:.4e}\".format(mean_squared_error(y_tr2, bic_tr_pred)))\n",
    "print('Training RMSE: ', round(np.sqrt(mean_squared_error(y_tr2, bic_tr_pred)), 2))\n",
    "print('Training Bias: ', round(bias(y_tr2, bic_tr_pred), 2))\n",
    "print('Training Variance: ', \"{:.4e}\".format(variance(bic_tr_pred)))\n",
    "print(\"\")\n",
    "print('Testing R^2 Score: ', round(r2_score(y_tt2, bic_tt_pred), 4))\n",
    "print('Testing MAE: ', round(mean_absolute_error(y_tt2, bic_tt_pred), 2))\n",
    "print('Testing MSE: ', \"{:.4e}\".format(mean_squared_error(y_tt2, bic_tt_pred)))\n",
    "print('Testing RMSE: ', round(np.sqrt(mean_squared_error(y_tt2, bic_tt_pred)), 2))\n",
    "print('Testing Bias: ', round(bias(y_tt2, bic_tt_pred), 2))\n",
    "print('Testing Variance: ', \"{:.4e}\".format(variance(bic_tt_pred)))"
   ]
  },
  {
   "source": [
    "## Decision Tree Regressor with GridSearchCV and Pipeline"
   ],
   "cell_type": "markdown",
   "metadata": {}
  },
  {
   "cell_type": "code",
   "execution_count": 24,
   "metadata": {},
   "outputs": [
    {
     "output_type": "stream",
     "name": "stdout",
     "text": [
      "Training R^2 Score:  0.9999\nTraining MAE:  169.94\nTraining MSE:  1.4119e+07\nTraining RMSE:  3757.56\nTraining Bias:  0.0\nTraining Variance:  1.4090e+11\n\nTesting R^2 Score:  0.7134\nTesting MAE:  106027.11\nTesting MSE:  3.8133e+10\nTesting RMSE:  195277.84\nTesting Bias:  8867.8\nTesting Variance:  1.3233e+11\n"
     ]
    }
   ],
   "source": [
    "dtm = DecisionTreeRegressor(random_state=42).fit(X_tr2, y_tr2)\n",
    "y_tr_pred3 = dtm.predict(X_tr2) \n",
    "y_tt_pred3 = dtm.predict(X_tt2)\n",
    "print('Training R^2 Score: ', round(r2_score(y_tr2, y_tr_pred3), 4))\n",
    "print('Training MAE: ', round(mean_absolute_error(y_tr2, y_tr_pred3), 2))\n",
    "print('Training MSE: ', \"{:.4e}\".format(mean_squared_error(y_tr2, y_tr_pred3)))\n",
    "print('Training RMSE: ', round(np.sqrt(mean_squared_error(y_tr2, y_tr_pred3)), 2))\n",
    "print('Training Bias: ', round(bias(y_tr2, y_tr_pred3), 2))\n",
    "print('Training Variance: ', \"{:.4e}\".format(variance(y_tr_pred3)))\n",
    "print(\"\")\n",
    "print('Testing R^2 Score: ', round(r2_score(y_tt2, y_tt_pred3), 4))\n",
    "print('Testing MAE: ', round(mean_absolute_error(y_tt2, y_tt_pred3), 2))\n",
    "print('Testing MSE: ', \"{:.4e}\".format(mean_squared_error(y_tt2, y_tt_pred3)))\n",
    "print('Testing RMSE: ', round(np.sqrt(mean_squared_error(y_tt2, y_tt_pred3)), 2))\n",
    "print('Testing Bias: ', round(bias(y_tt2, y_tt_pred3), 2))\n",
    "print('Testing Variance: ', \"{:.4e}\".format(variance(y_tt_pred3)))"
   ]
  },
  {
   "cell_type": "code",
   "execution_count": 25,
   "metadata": {},
   "outputs": [
    {
     "output_type": "stream",
     "name": "stdout",
     "text": [
      "Fitting 10 folds for each of 360 candidates, totalling 3600 fits\n",
      "Training Score: -177947.23501758592\n",
      "Pipeline(steps=[('decisiontreeregressor',\n",
      "                 DecisionTreeRegressor(max_depth=8, max_leaf_nodes=100,\n",
      "                                       min_samples_leaf=5, min_samples_split=40,\n",
      "                                       random_state=1))])\n"
     ]
    }
   ],
   "source": [
    "rmse_scorer = make_scorer(root_mean_squared_error, greater_is_better=False)\n",
    "pipe_tree = make_pipeline(tree.DecisionTreeRegressor(random_state=1))\n",
    "dtm = DecisionTreeRegressor()\n",
    "param_grid = [{\n",
    "               'decisiontreeregressor__max_depth': [1, 2, 4, 6, 8],\n",
    "               'decisiontreeregressor__min_samples_leaf': [1, 5, 10, 20, 50, 100],\n",
    "               'decisiontreeregressor__max_leaf_nodes': [5, 20, 100],\n",
    "               'decisiontreeregressor__min_samples_split': [5, 10, 20, 40]\n",
    "             }]\n",
    "gs = GridSearchCV(pipe_tree, param_grid=param_grid, cv=10, scoring=rmse_scorer, verbose=1)\n",
    "gs.fit(X_tr2, y_tr2)\n",
    "print(f\"Training Score: {gs.best_score_}\")\n",
    "print(gs.best_estimator_)"
   ]
  },
  {
   "cell_type": "code",
   "execution_count": 31,
   "metadata": {},
   "outputs": [
    {
     "output_type": "stream",
     "name": "stdout",
     "text": [
      "Training R^2 Score:  0.8235\nTraining MAE:  91573.88\nTraining MSE:  2.4873e+10\nTraining RMSE:  157713.0\nTraining Bias:  -0.0\nTraining Variance:  1.1604e+11\n\nTesting R^2 Score:  0.7527\nTesting MAE:  98818.42\nTesting MSE:  3.2907e+10\nTesting RMSE:  181402.89\nTesting Bias:  8838.99\nTesting Variance:  1.1522e+11\n"
     ]
    }
   ],
   "source": [
    "gs_model = gs.best_estimator_\n",
    "gs_model.fit(X_tr2, y_tr2)\n",
    "gs_tr_pred = gs_model.predict(X_tr2)\n",
    "gs_tt_pred = gs_model.predict(X_tt2) \n",
    "\n",
    "print('Training R^2 Score: ', round(r2_score(y_tr2, gs_tr_pred), 4))\n",
    "print('Training MAE: ', round(mean_absolute_error(y_tr2, gs_tr_pred), 2))\n",
    "print('Training MSE: ', \"{:.4e}\".format(mean_squared_error(y_tr2, gs_tr_pred)))\n",
    "print('Training RMSE: ', round(np.sqrt(mean_squared_error(y_tr2, gs_tr_pred)), 2))\n",
    "print('Training Bias: ', round(bias(y_tr2, gs_tr_pred), 2))\n",
    "print('Training Variance: ', \"{:.4e}\".format(variance(gs_tr_pred)))\n",
    "print(\"\")\n",
    "print('Testing R^2 Score: ', round(r2_score(y_tt2, gs_tt_pred), 4))\n",
    "print('Testing MAE: ', round(mean_absolute_error(y_tt2, gs_tt_pred), 2))\n",
    "print('Testing MSE: ', \"{:.4e}\".format(mean_squared_error(y_tt2, gs_tt_pred)))\n",
    "print('Testing RMSE: ', round(np.sqrt(mean_squared_error(y_tt2, gs_tt_pred)), 2))\n",
    "print('Testing Bias: ', round(bias(y_tt2, gs_tt_pred), 2))\n",
    "print('Testing Variance: ', \"{:.4e}\".format(variance(gs_tt_pred)))"
   ]
  },
  {
   "source": [
    "## Random Forest Regressor"
   ],
   "cell_type": "markdown",
   "metadata": {}
  },
  {
   "cell_type": "code",
   "execution_count": 32,
   "metadata": {},
   "outputs": [
    {
     "output_type": "stream",
     "name": "stdout",
     "text": [
      "Training R^2 Score:  0.9385\nTraining MAE:  45521.87\nTraining MSE:  8.6650e+09\nTraining RMSE:  93086.22\nTraining Bias:  -81.42\nTraining Variance:  1.1924e+11\n\nTesting R^2 Score:  0.8717\nTesting MAE:  72325.65\nTesting MSE:  1.7077e+10\nTesting RMSE:  130679.94\nTesting Bias:  5685.52\nTesting Variance:  1.1244e+11\n"
     ]
    }
   ],
   "source": [
    "rf = RandomForestRegressor(n_estimators=100, \n",
    "                           max_features=\"auto\", \n",
    "                           max_depth=100, \n",
    "                           min_samples_leaf=4, \n",
    "                           min_samples_split=10, \n",
    "                           random_state=1).fit(X_tr2, y_tr2)\n",
    "rf_tr_pred = rf.predict(X_tr2)\n",
    "rf_tt_pred = rf.predict(X_tt2)\n",
    "\n",
    "print('Training R^2 Score: ', round(r2_score(y_tr2, rf_tr_pred), 4))\n",
    "print('Training MAE: ', round(mean_absolute_error(y_tr2, rf_tr_pred), 2))\n",
    "print('Training MSE: ', \"{:.4e}\".format(mean_squared_error(y_tr2, rf_tr_pred)))\n",
    "print('Training RMSE: ', round(np.sqrt(mean_squared_error(y_tr2, rf_tr_pred)), 2))\n",
    "print('Training Bias: ', round(bias(y_tr2, rf_tr_pred), 2))\n",
    "print('Training Variance: ', \"{:.4e}\".format(variance(rf_tr_pred)))\n",
    "print(\"\")\n",
    "print('Testing R^2 Score: ', round(r2_score(y_tt2, rf_tt_pred), 4))\n",
    "print('Testing MAE: ', round(mean_absolute_error(y_tt2, rf_tt_pred), 2))\n",
    "print('Testing MSE: ', \"{:.4e}\".format(mean_squared_error(y_tt2, rf_tt_pred)))\n",
    "print('Testing RMSE: ', round(np.sqrt(mean_squared_error(y_tt2, rf_tt_pred)), 2))\n",
    "print('Testing Bias: ', round(bias(y_tt2, rf_tt_pred), 2))\n",
    "print('Testing Variance: ', \"{:.4e}\".format(variance(rf_tt_pred)))"
   ]
  },
  {
   "cell_type": "code",
   "execution_count": 56,
   "metadata": {},
   "outputs": [
    {
     "output_type": "execute_result",
     "data": {
      "text/plain": [
       "               importance\n",
       "sqft_living      0.575386\n",
       "lat              0.185811\n",
       "long             0.070759\n",
       "sqft_living15    0.040826\n",
       "sqft_above       0.021481\n",
       "waterfront_1     0.014275\n",
       "waterfront_0     0.012121\n",
       "sqft_lot         0.011179\n",
       "sqft_lot15       0.010704\n",
       "age              0.006921\n",
       "sale_age         0.006411\n",
       "grade_7          0.005232\n",
       "viewed_0         0.003663\n",
       "viewed_1         0.003539\n",
       "zipcode_98004    0.003254\n",
       "grade_8          0.003196\n",
       "grade_11         0.002894\n",
       "grade_10         0.002633\n",
       "grade_9          0.002449\n",
       "grade_12         0.001288"
      ],
      "text/html": "<div>\n<style scoped>\n    .dataframe tbody tr th:only-of-type {\n        vertical-align: middle;\n    }\n\n    .dataframe tbody tr th {\n        vertical-align: top;\n    }\n\n    .dataframe thead th {\n        text-align: right;\n    }\n</style>\n<table border=\"1\" class=\"dataframe\">\n  <thead>\n    <tr style=\"text-align: right;\">\n      <th></th>\n      <th>importance</th>\n    </tr>\n  </thead>\n  <tbody>\n    <tr>\n      <th>sqft_living</th>\n      <td>0.575386</td>\n    </tr>\n    <tr>\n      <th>lat</th>\n      <td>0.185811</td>\n    </tr>\n    <tr>\n      <th>long</th>\n      <td>0.070759</td>\n    </tr>\n    <tr>\n      <th>sqft_living15</th>\n      <td>0.040826</td>\n    </tr>\n    <tr>\n      <th>sqft_above</th>\n      <td>0.021481</td>\n    </tr>\n    <tr>\n      <th>waterfront_1</th>\n      <td>0.014275</td>\n    </tr>\n    <tr>\n      <th>waterfront_0</th>\n      <td>0.012121</td>\n    </tr>\n    <tr>\n      <th>sqft_lot</th>\n      <td>0.011179</td>\n    </tr>\n    <tr>\n      <th>sqft_lot15</th>\n      <td>0.010704</td>\n    </tr>\n    <tr>\n      <th>age</th>\n      <td>0.006921</td>\n    </tr>\n    <tr>\n      <th>sale_age</th>\n      <td>0.006411</td>\n    </tr>\n    <tr>\n      <th>grade_7</th>\n      <td>0.005232</td>\n    </tr>\n    <tr>\n      <th>viewed_0</th>\n      <td>0.003663</td>\n    </tr>\n    <tr>\n      <th>viewed_1</th>\n      <td>0.003539</td>\n    </tr>\n    <tr>\n      <th>zipcode_98004</th>\n      <td>0.003254</td>\n    </tr>\n    <tr>\n      <th>grade_8</th>\n      <td>0.003196</td>\n    </tr>\n    <tr>\n      <th>grade_11</th>\n      <td>0.002894</td>\n    </tr>\n    <tr>\n      <th>grade_10</th>\n      <td>0.002633</td>\n    </tr>\n    <tr>\n      <th>grade_9</th>\n      <td>0.002449</td>\n    </tr>\n    <tr>\n      <th>grade_12</th>\n      <td>0.001288</td>\n    </tr>\n  </tbody>\n</table>\n</div>"
     },
     "metadata": {},
     "execution_count": 56
    }
   ],
   "source": [
    "feature_importances = pd.DataFrame(rf.feature_importances_,\n",
    "                                   index=X_tr2.columns,\n",
    "                                   columns=['importance']).sort_values('importance', ascending=False)\n",
    "feature_importances.head(20)"
   ]
  },
  {
   "cell_type": "code",
   "execution_count": null,
   "metadata": {},
   "outputs": [],
   "source": [
    "#instantiate a linear regression object\n",
    "lm_final = Lasso(alpha=163, normalize=False)\n",
    "lm_final.fit(X_tr2, y_tr2)"
   ]
  },
  {
   "cell_type": "code",
   "execution_count": null,
   "metadata": {},
   "outputs": [],
   "source": [
    "lm_final.coef_"
   ]
  },
  {
   "source": [
    "# Pickle"
   ],
   "cell_type": "markdown",
   "metadata": {}
  },
  {
   "cell_type": "code",
   "execution_count": null,
   "metadata": {},
   "outputs": [],
   "source": [
    "pickle_out = open(\"model.pickle\",\"wb\")\n",
    "pickle.dump(lm_final, pickle_out)\n",
    "pickle_out.close()"
   ]
  },
  {
   "cell_type": "code",
   "execution_count": null,
   "metadata": {},
   "outputs": [],
   "source": [
    "pickle_out = open(\"scaler.pickle\", \"wb\")\n",
    "pickle.dump(scaler, pickle_out)\n",
    "pickle_out.close"
   ]
  }
 ]
}